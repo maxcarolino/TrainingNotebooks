{
 "cells": [
  {
   "cell_type": "markdown",
   "metadata": {},
   "source": [
    "# 6.4 List\n",
    "\n",
    "List is the most versatile datatype available in Python which can be written as a list of comma-separated values between square brackets (__[ ]__).\n",
    "\n",
    "A list can also be empty: __`empty_list = []`__.\n",
    "\n",
    "\n",
    "Lists are Python's ordered mutable data type. One important thing about a list is that the items __need not be of the same type__.\n",
    "\n",
    "For example:"
   ]
  },
  {
   "cell_type": "code",
   "execution_count": 2,
   "metadata": {
    "collapsed": false
   },
   "outputs": [
    {
     "name": "stdout",
     "output_type": "stream",
     "text": [
      "['Eric', 'John', 'Dale', 'Rob']\n",
      "['apple', 'banana', 2012, 1993]\n"
     ]
    }
   ],
   "source": [
    "list1 = ['Eric', 'John', 'Dale', 'Rob']\n",
    "list2 = [1, 2, 3, 4, 5 ]\n",
    "list3 = [\"a\", \"b\", \"c\", \"d\"]\n",
    "list4 = ['apple', 'banana', 2012, 1993]\n",
    "\n",
    "print(list1)\n",
    "print(list4)"
   ]
  },
  {
   "cell_type": "markdown",
   "metadata": {},
   "source": [
    "## 6.4.1 Accessing values in lists\n",
    "\n",
    "You can access an individual item on the list by its index. An index is like an address that identifies the item's place in the list. The index appears directly after the list name, in between brackets, like this: __`list_name[index]`__.\n",
    "\n",
    "Always remember that list indices always start at __0__.\n",
    "\n",
    "For example:"
   ]
  },
  {
   "cell_type": "code",
   "execution_count": 7,
   "metadata": {
    "collapsed": false
   },
   "outputs": [
    {
     "name": "stdout",
     "output_type": "stream",
     "text": [
      "John\n"
     ]
    }
   ],
   "source": [
    "x = ['Eric', 'John', 'Dale', 'Rob']\n",
    "\n",
    "print(x[1])"
   ]
  },
  {
   "cell_type": "code",
   "execution_count": 9,
   "metadata": {
    "collapsed": false
   },
   "outputs": [
    {
     "name": "stdout",
     "output_type": "stream",
     "text": [
      "['Eric', 'John', 'Dale', 'Rob']\n"
     ]
    }
   ],
   "source": [
    "# Specifying the beggining and the end.\n",
    "\n",
    "x = ['Eric', 'John', 'Dale', 'Rob']\n",
    "\n",
    "print(x[0:4])"
   ]
  },
  {
   "cell_type": "markdown",
   "metadata": {},
   "source": [
    "a list index may be used to assign values as well:"
   ]
  },
  {
   "cell_type": "code",
   "execution_count": 22,
   "metadata": {
    "collapsed": false
   },
   "outputs": [
    {
     "name": "stdout",
     "output_type": "stream",
     "text": [
      "['Will', 'Max Pogi']\n"
     ]
    }
   ],
   "source": [
    "# Changing 'Dale' to 'Will'\n",
    "\n",
    "x = ['Eric', 'John', 'Dale', 'Rob']\n",
    "x[2] = \"Will\"\n",
    "x[3] = \"Max Pogi\"\n",
    "\n",
    "print(x[2:4])"
   ]
  },
  {
   "cell_type": "markdown",
   "metadata": {},
   "source": [
    "## 6.4.2 Methods\n",
    "\n",
    "### `len()`\n",
    "\n",
    "Using __`len( )`__ returns the number of top-level items contained in the object being queried. For the example, run the code below:"
   ]
  },
  {
   "cell_type": "code",
   "execution_count": 23,
   "metadata": {
    "collapsed": false
   },
   "outputs": [
    {
     "data": {
      "text/plain": [
       "6"
      ]
     },
     "execution_count": 23,
     "metadata": {},
     "output_type": "execute_result"
    }
   ],
   "source": [
    "x = ['P', 'y', 't', 'h', 'o','n']\n",
    "\n",
    "len(x)"
   ]
  },
  {
   "cell_type": "markdown",
   "metadata": {},
   "source": [
    "### `index()`\n",
    "\n",
    "The method `index()` returns the __lowest index__ in list. For example:"
   ]
  },
  {
   "cell_type": "code",
   "execution_count": 27,
   "metadata": {
    "collapsed": false
   },
   "outputs": [
    {
     "data": {
      "text/plain": [
       "1"
      ]
     },
     "execution_count": 27,
     "metadata": {},
     "output_type": "execute_result"
    }
   ],
   "source": [
    "x = ['P', 'y', 't', 'h', 'o','n','t','n']\n",
    "\n",
    "x.index('y')"
   ]
  },
  {
   "cell_type": "markdown",
   "metadata": {},
   "source": [
    "### `append()`\n",
    "\n",
    "The method __`append()`__ appends a passed __obj__ into the existing list. This method does not return any value but updates existing list. \n",
    "\n",
    "A list doesn't have to have a fixed length. You can add items to the end of a list any time you like."
   ]
  },
  {
   "cell_type": "code",
   "execution_count": 29,
   "metadata": {
    "collapsed": false
   },
   "outputs": [
    {
     "name": "stdout",
     "output_type": "stream",
     "text": [
      "['P', 'y', 't', 'h', 'o', 'n', 'M', 'Pogi si Max']\n"
     ]
    }
   ],
   "source": [
    "x = ['P', 'y', 't', 'h', 'o','n']\n",
    "\n",
    "x.append('M')\n",
    "x.append('Pogi si Max')\n",
    "\n",
    "print(x)"
   ]
  },
  {
   "cell_type": "markdown",
   "metadata": {},
   "source": [
    "### `delete()`\n",
    "\n",
    "To remove a list element, you can use either the <b>`del`</b> statement if you know exactly which element(s) you are deleting or the __`remove()`__ method if you are uncertain."
   ]
  },
  {
   "cell_type": "code",
   "execution_count": 30,
   "metadata": {
    "collapsed": false
   },
   "outputs": [
    {
     "name": "stdout",
     "output_type": "stream",
     "text": [
      "['P', 't', 'h', 'o', 'n']\n"
     ]
    }
   ],
   "source": [
    "x = ['P', 'y', 't', 'h', 'o','n']\n",
    "\n",
    "del x[1]\n",
    "print(x)"
   ]
  },
  {
   "cell_type": "markdown",
   "metadata": {},
   "source": [
    "### `remove() `\n",
    "\n",
    "This method does not return any value but removes the given object from the list. For example:"
   ]
  },
  {
   "cell_type": "code",
   "execution_count": 32,
   "metadata": {
    "collapsed": false
   },
   "outputs": [
    {
     "name": "stdout",
     "output_type": "stream",
     "text": [
      "['P', 'y', 't', 'o', 'n']\n"
     ]
    }
   ],
   "source": [
    "x = ['P', 'y', 't', 'h', 'o','n']\n",
    "\n",
    "x.remove('h')\n",
    "\n",
    "print(x)"
   ]
  },
  {
   "cell_type": "markdown",
   "metadata": {},
   "source": [
    "## 6.4.3 Slicing\n",
    "\n",
    "One way to remember how slices work is to think of the indices as pointing between characters, with the left edge of the first character numbered 0. Then the right edge of the last character of a string of n characters has index n:\n",
    "\n",
    "![Beginner_2](./images/img_slicing.png)"
   ]
  },
  {
   "cell_type": "code",
   "execution_count": null,
   "metadata": {
    "collapsed": true
   },
   "outputs": [],
   "source": [
    "x = ['P', 'y', 't', 'h', 'o','n']"
   ]
  },
  {
   "cell_type": "code",
   "execution_count": 33,
   "metadata": {
    "collapsed": false
   },
   "outputs": [
    {
     "name": "stdout",
     "output_type": "stream",
     "text": [
      "['P', 'y']\n"
     ]
    }
   ],
   "source": [
    "# Specifying start at the beginning and end at the second element\n",
    "\n",
    "x = ['P', 'y', 't', 'h', 'o','n']\n",
    "print(x[:2])"
   ]
  },
  {
   "cell_type": "code",
   "execution_count": 34,
   "metadata": {
    "collapsed": false
   },
   "outputs": [
    {
     "name": "stdout",
     "output_type": "stream",
     "text": [
      "['o', 'n']\n"
     ]
    }
   ],
   "source": [
    "# Specifying start at the next to last element and go to the end\n",
    "\n",
    "x = ['P', 'y', 't', 'h', 'o','n']\n",
    "print(x[-2:])"
   ]
  },
  {
   "cell_type": "code",
   "execution_count": 35,
   "metadata": {
    "collapsed": false
   },
   "outputs": [
    {
     "name": "stdout",
     "output_type": "stream",
     "text": [
      "['P', 'y', 't', 'h', 'o']\n"
     ]
    }
   ],
   "source": [
    "# Specifying start at the beginning and go to the next to last element\n",
    "\n",
    "x = ['P', 'y', 't', 'h', 'o','n']\n",
    "print(x[:-1])"
   ]
  },
  {
   "cell_type": "markdown",
   "metadata": {},
   "source": [
    "A third `step` parameter is optional. So the slice sytax is: `[start:stop[:step]]`."
   ]
  },
  {
   "cell_type": "code",
   "execution_count": 37,
   "metadata": {
    "collapsed": false
   },
   "outputs": [
    {
     "name": "stdout",
     "output_type": "stream",
     "text": [
      "['y', 'h', 'n']\n"
     ]
    }
   ],
   "source": [
    "# Specifying a step argument returns every n-th item\n",
    "\n",
    "x = ['P', 'y', 't', 'h', 'o','n']\n",
    "print(x[1::2])"
   ]
  },
  {
   "cell_type": "markdown",
   "metadata": {},
   "source": [
    "Slicing can accept negative indices. By providing a negative step, it can reverse a string or list:"
   ]
  },
  {
   "cell_type": "code",
   "execution_count": 38,
   "metadata": {
    "collapsed": false
   },
   "outputs": [
    {
     "name": "stdout",
     "output_type": "stream",
     "text": [
      "['n', 'o', 'h', 't', 'y', 'P']\n"
     ]
    }
   ],
   "source": [
    "# Return a reversed version of the list ( or string )\n",
    "\n",
    "x = ['P', 'y', 't', 'h', 'o','n']\n",
    "print(x[::-1])"
   ]
  },
  {
   "cell_type": "markdown",
   "metadata": {},
   "source": [
    "## Exercise\n",
    "\n",
    "(1) Display Apple, Banana, and Orange"
   ]
  },
  {
   "cell_type": "code",
   "execution_count": 39,
   "metadata": {
    "collapsed": false
   },
   "outputs": [
    {
     "name": "stdout",
     "output_type": "stream",
     "text": [
      "['Apple', 'Banana', 'Orange']\n"
     ]
    }
   ],
   "source": [
    "fruits = [\"Grapes\", \"Apple\", \"Banana\", \"Orange\", \"Melon\"]\n",
    "\n",
    "#Write your code below\n",
    "print(fruits[1:4])\n",
    "\n",
    "\n"
   ]
  },
  {
   "cell_type": "markdown",
   "metadata": {},
   "source": [
    "(2) Display the list in its reverse order"
   ]
  },
  {
   "cell_type": "code",
   "execution_count": 41,
   "metadata": {
    "collapsed": false
   },
   "outputs": [
    {
     "name": "stdout",
     "output_type": "stream",
     "text": [
      "['Melon', 'Orange', 'Banana', 'Apple', 'Grapes']\n"
     ]
    }
   ],
   "source": [
    "fruits = [\"Grapes\", \"Apple\", \"Banana\", \"Orange\", \"Melon\"]\n",
    "\n",
    "#Write your code below\n",
    "print(fruits[::-1])\n",
    "\n",
    "\n"
   ]
  },
  {
   "cell_type": "markdown",
   "metadata": {},
   "source": [
    "(3) Add one more fruit of your choice on the list and display all of them\n"
   ]
  },
  {
   "cell_type": "code",
   "execution_count": 42,
   "metadata": {
    "collapsed": false
   },
   "outputs": [
    {
     "name": "stdout",
     "output_type": "stream",
     "text": [
      "['Grapes', 'Apple', 'Banana', 'Orange', 'Melon', 'Mango']\n"
     ]
    }
   ],
   "source": [
    "fruits = [\"Grapes\", \"Apple\", \"Banana\", \"Orange\", \"Melon\"]\n",
    "\n",
    "#Write your code below\n",
    "fruits.append(\"Mango\")\n",
    "print(fruits)\n",
    "\n"
   ]
  },
  {
   "cell_type": "code",
   "execution_count": null,
   "metadata": {
    "collapsed": true
   },
   "outputs": [],
   "source": []
  }
 ],
 "metadata": {
  "kernelspec": {
   "display_name": "Python 3",
   "language": "python",
   "name": "python3"
  },
  "language_info": {
   "codemirror_mode": {
    "name": "ipython",
    "version": 3
   },
   "file_extension": ".py",
   "mimetype": "text/x-python",
   "name": "python",
   "nbconvert_exporter": "python",
   "pygments_lexer": "ipython3",
   "version": "3.5.1"
  }
 },
 "nbformat": 4,
 "nbformat_minor": 0
}
