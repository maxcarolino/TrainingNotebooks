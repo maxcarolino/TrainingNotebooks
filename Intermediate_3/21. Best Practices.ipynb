{
 "cells": [
  {
   "cell_type": "markdown",
   "metadata": {},
   "source": [
    "# 21. Best Practices\n",
    "\n",
    "## 21.1 PEP8\n",
    "\n",
    "Study [PEP8](https://www.python.org/dev/peps/pep-0008/) - Style Guide for Python Code\n",
    "\n",
    "PEPs are Python Enhancement Proposals. There are also other [PEPs](https://www.python.org/dev/peps/) available for reference.\n",
    "\n",
    "## 21.2 print()\n",
    "\n",
    "Use the print function."
   ]
  },
  {
   "cell_type": "code",
   "execution_count": null,
   "metadata": {
    "collapsed": true
   },
   "outputs": [],
   "source": [
    "print(\"as function\")"
   ]
  },
  {
   "cell_type": "markdown",
   "metadata": {},
   "source": [
    "Print is BOTH a statement and function in 2.6/7, but is ONLY a function in 3.x."
   ]
  },
  {
   "cell_type": "code",
   "execution_count": null,
   "metadata": {
    "collapsed": true
   },
   "outputs": [],
   "source": [
    "from __future__ import print_function"
   ]
  },
  {
   "cell_type": "markdown",
   "metadata": {},
   "source": [
    "This allows versions 2.6/7 to make print work the way that Python 3.x does, also disables the `print` statement.\n",
    "\n",
    "\n",
    "## 21.3 If\n",
    "\n",
    "Avoid single line `if`, avoid multiple statements per line."
   ]
  },
  {
   "cell_type": "code",
   "execution_count": null,
   "metadata": {
    "collapsed": true
   },
   "outputs": [],
   "source": [
    "if name: print(name)"
   ]
  },
  {
   "cell_type": "markdown",
   "metadata": {},
   "source": [
    "Use Python's implicit truthiness, avoid comparing to values. Implementation may change but logic remains."
   ]
  },
  {
   "cell_type": "code",
   "execution_count": null,
   "metadata": {
    "collapsed": false
   },
   "outputs": [],
   "source": [
    "foo = None\n",
    "if foo == (True or False or None or values): pass\n",
    "\n",
    "# vs:\n",
    "\n",
    "if foo:\n",
    "    pass"
   ]
  },
  {
   "cell_type": "markdown",
   "metadata": {},
   "source": [
    "Exception:\n",
    "When checking default values in functions/methods is not `None`."
   ]
  },
  {
   "cell_type": "code",
   "execution_count": null,
   "metadata": {
    "collapsed": true
   },
   "outputs": [],
   "source": [
    "def func(default=None)\n",
    "    if default is not None:\n",
    "        default = []"
   ]
  },
  {
   "cell_type": "markdown",
   "metadata": {},
   "source": [
    "Use `is` when comparing to the `None` Python singleton."
   ]
  },
  {
   "cell_type": "code",
   "execution_count": null,
   "metadata": {
    "collapsed": false
   },
   "outputs": [],
   "source": [
    "default = None  # this is the assignment\n",
    "default is None"
   ]
  },
  {
   "cell_type": "markdown",
   "metadata": {},
   "source": [
    "Avoid repeating variable name in statement, use an iterable."
   ]
  },
  {
   "cell_type": "code",
   "execution_count": null,
   "metadata": {
    "collapsed": true
   },
   "outputs": [],
   "source": [
    "if name == 'Tom' or name == 'Dick' or name == 'Harry':\n",
    "    pass\n",
    "\n",
    "# vs:\n",
    "\n",
    "if name in ('Tom', 'Dick', 'Harry'):\n",
    "    pass"
   ]
  },
  {
   "cell_type": "markdown",
   "metadata": {},
   "source": [
    "Namespace is main specifies how script is run from command-line."
   ]
  },
  {
   "cell_type": "markdown",
   "metadata": {},
   "source": [
    "if __name__ == '__main__':\n",
    "    pass"
   ]
  },
  {
   "cell_type": "markdown",
   "metadata": {},
   "source": [
    "## 21.4 For\n",
    "\n",
    "Do not use a variable to store the index, use `enumerate()`."
   ]
  },
  {
   "cell_type": "code",
   "execution_count": null,
   "metadata": {
    "collapsed": true
   },
   "outputs": [],
   "source": [
    "# no need to do this\n",
    "index = 0\n",
    "my_container = ['Larry', 'Moe', 'Curly']\n",
    "for element in my_container:\n",
    "    print ('{} {}'.format(index, element))\n",
    "    index += 1"
   ]
  },
  {
   "cell_type": "code",
   "execution_count": null,
   "metadata": {
    "collapsed": true
   },
   "outputs": [],
   "source": [
    "# enumerate is optimized for this use case\n",
    "my_container = ['Larry', 'Moe', 'Curly']\n",
    "for index, element in enumerate(my_container):\n",
    "    print ('{} {}'.format(index, element))"
   ]
  },
  {
   "cell_type": "markdown",
   "metadata": {},
   "source": [
    "Use `for... else:` to execute code that runs when a loop is exhausted."
   ]
  },
  {
   "cell_type": "code",
   "execution_count": null,
   "metadata": {
    "collapsed": true
   },
   "outputs": [],
   "source": [
    "# good For... Else use case \n",
    "print ('Checking {}'.format(user))\n",
    "for email_address in user.get_all_email_addresses():\n",
    "    if email_is_malformed(email_address):\n",
    "        print ('Has a malformed email address!')\n",
    "        break\n",
    "else:\n",
    "    print ('All email addresses are valid!')"
   ]
  },
  {
   "cell_type": "code",
   "execution_count": null,
   "metadata": {
    "collapsed": true
   },
   "outputs": [],
   "source": [
    "# this has an extra variable and conditional\n",
    "has_malformed_email_address = False\n",
    "print ('Checking {}'.format(user))\n",
    "for email_address in user.get_all_email_addresses():\n",
    "    if email_is_malformed(email_address):\n",
    "        has_malformed_email_address = True\n",
    "        print ('Has a malformed email address!')\n",
    "        break\n",
    "if not has_malformed_email_address:\n",
    "    print ('All email addresses are valid!')"
   ]
  },
  {
   "cell_type": "markdown",
   "metadata": {},
   "source": [
    "## 21.5 Functions\n",
    "\n",
    "Avoid using mutable values like empty lists or dictionaries as default argument values. Use the immutable `None`."
   ]
  },
  {
   "cell_type": "code",
   "execution_count": null,
   "metadata": {
    "collapsed": true
   },
   "outputs": [],
   "source": [
    "def f(a, L=None):\n",
    "    if L is None:\n",
    "        L = []\n",
    "    L.append(a)"
   ]
  },
  {
   "cell_type": "markdown",
   "metadata": {},
   "source": [
    "Use packed arguments/keyword arguments and check for the key in the indented block's logic."
   ]
  },
  {
   "cell_type": "code",
   "execution_count": null,
   "metadata": {
    "collapsed": true
   },
   "outputs": [],
   "source": [
    "def func(*args, **kwargs):\n",
    "    pass"
   ]
  },
  {
   "cell_type": "markdown",
   "metadata": {},
   "source": [
    "## 21.6 Variables\n",
    "\n",
    "Use ALL_CAPS to denote constants."
   ]
  },
  {
   "cell_type": "code",
   "execution_count": null,
   "metadata": {
    "collapsed": true
   },
   "outputs": [],
   "source": [
    "HOURS_PER_DAY = 24"
   ]
  },
  {
   "cell_type": "markdown",
   "metadata": {},
   "source": [
    "Can swap in-place."
   ]
  },
  {
   "cell_type": "code",
   "execution_count": null,
   "metadata": {
    "collapsed": true
   },
   "outputs": [],
   "source": [
    "foo = \"foo\"\n",
    "bar = \"bar\"\n",
    "foo, bar = bar, foo"
   ]
  },
  {
   "cell_type": "markdown",
   "metadata": {},
   "source": [
    "Unpack in-place."
   ]
  },
  {
   "cell_type": "code",
   "execution_count": null,
   "metadata": {
    "collapsed": false
   },
   "outputs": [],
   "source": [
    "one, two, *the_rest = [1, 2, 3, 4, 5, 6]\n",
    "one, two, the_rest"
   ]
  },
  {
   "cell_type": "code",
   "execution_count": null,
   "metadata": {
    "collapsed": false
   },
   "outputs": [],
   "source": [
    "*the_rest, last = [1, 2, 3, 4, 5, 6]\n",
    "the_rest, last"
   ]
  },
  {
   "cell_type": "code",
   "execution_count": null,
   "metadata": {
    "collapsed": false
   },
   "outputs": [],
   "source": [
    "one, two, *the_rest, last = [1, 2, 3, 4, 5, 6]\n",
    "one, two, the_rest, last"
   ]
  },
  {
   "cell_type": "markdown",
   "metadata": {},
   "source": [
    "## 21.7 Strings\n",
    "\n",
    "Creating strings from lists."
   ]
  },
  {
   "cell_type": "code",
   "execution_count": null,
   "metadata": {
    "collapsed": false
   },
   "outputs": [],
   "source": [
    "a_list = ['this', 'will', 'be', 'concatenated']\n",
    "''.join(a_list)  # the (empty) string becomes the delimiter of list"
   ]
  },
  {
   "cell_type": "markdown",
   "metadata": {},
   "source": [
    "Use string.format()."
   ]
  },
  {
   "cell_type": "code",
   "execution_count": null,
   "metadata": {
    "collapsed": false
   },
   "outputs": [],
   "source": [
    "age = 42\n",
    "name = 'Hans'\n",
    "sex = \"M\"\n",
    "user = type('user', (object,), {'age': age, 'sex': sex, 'name': name})\n",
    "'Name: {}, Age: {}, Sex: {}'.format(name, age, sex)"
   ]
  },
  {
   "cell_type": "code",
   "execution_count": null,
   "metadata": {
    "collapsed": false
   },
   "outputs": [],
   "source": [
    "'Name: {user.name}, Age: {user.age}, Sex: {user.sex}'.format(user=user)"
   ]
  },
  {
   "cell_type": "markdown",
   "metadata": {},
   "source": [
    "## 21.8 Lists\n",
    "\n",
    "Use list comprehensions/generator expressions to transform lists."
   ]
  },
  {
   "cell_type": "code",
   "execution_count": null,
   "metadata": {
    "collapsed": true
   },
   "outputs": [],
   "source": [
    "new_list = ['{} is even'.format(x) for x in old_list if x%2==0]"
   ]
  },
  {
   "cell_type": "markdown",
   "metadata": {},
   "source": [
    "## 21.9 Tuples\n",
    "\n",
    "While lists are likened to arrays, tuples are commonly used for struct-like data."
   ]
  },
  {
   "cell_type": "code",
   "execution_count": null,
   "metadata": {
    "collapsed": false
   },
   "outputs": [],
   "source": [
    "name = \"Point_X\"\n",
    "x = 121.4112\n",
    "y = 42.64\n",
    "attributes = {\n",
    "    'commercial': False,\n",
    "    'address': \"1 Hacker Way\",\n",
    "    'name': \"Tweetbook\"\n",
    "}\n",
    "(name, x, y, attributes)"
   ]
  },
  {
   "cell_type": "markdown",
   "metadata": {},
   "source": [
    "## 21.10 Dictionaries\n",
    "\n",
    "Use functions as values to keys as substitute to `switch... case` statement."
   ]
  },
  {
   "cell_type": "code",
   "execution_count": null,
   "metadata": {
    "collapsed": true
   },
   "outputs": [],
   "source": [
    "import operator as op\n",
    "\n",
    "def apply_operation(left_operand, right_operand, operator):\n",
    "    operator_mapper = {\n",
    "        '+': op.add,\n",
    "        '-': op.sub,\n",
    "        '*': op.mul,\n",
    "        '/': op.truediv\n",
    "    }\n",
    "    return operator_mapper[operator](left_operand, right_operand)"
   ]
  },
  {
   "cell_type": "markdown",
   "metadata": {},
   "source": [
    "Use the default parameter of dict.get or use defaultdict class."
   ]
  },
  {
   "cell_type": "code",
   "execution_count": null,
   "metadata": {
    "collapsed": true
   },
   "outputs": [],
   "source": [
    "log_severity = configuration.get('severity', 'Info')"
   ]
  },
  {
   "cell_type": "markdown",
   "metadata": {},
   "source": [
    "## 21.11 Sets\n",
    "\n",
    "Use math operations on sets (from set theory math)."
   ]
  },
  {
   "cell_type": "code",
   "execution_count": null,
   "metadata": {
    "collapsed": false
   },
   "outputs": [],
   "source": [
    "set_a = {'a', 'b'}\n",
    "set_b = {'b'}\n",
    "set_a - set_b"
   ]
  },
  {
   "cell_type": "markdown",
   "metadata": {},
   "source": [
    "Remove duplicates by turning lists into sets."
   ]
  },
  {
   "cell_type": "code",
   "execution_count": null,
   "metadata": {
    "collapsed": false
   },
   "outputs": [],
   "source": [
    "this_list = [1, 2, 3, 4, 3, 2, 1]\n",
    "set(this_list)"
   ]
  },
  {
   "cell_type": "markdown",
   "metadata": {},
   "source": [
    "## 21.12 Classes\n",
    "\n",
    "As a convention, use an underscore to denote private data."
   ]
  },
  {
   "cell_type": "code",
   "execution_count": null,
   "metadata": {
    "collapsed": true
   },
   "outputs": [],
   "source": [
    "class MyObj(object):\n",
    "    def __init__(self, *args, **kwargs):\n",
    "        self.__id = 3.14\n",
    "        self._private_data = 'private'\n",
    "\n",
    "    def _get_private_data(self):\n",
    "        return self._private_data, self.__id"
   ]
  },
  {
   "cell_type": "markdown",
   "metadata": {},
   "source": [
    "Define a human-readable `__str__` for friendly output when printing classes."
   ]
  },
  {
   "cell_type": "code",
   "execution_count": null,
   "metadata": {
    "collapsed": true
   },
   "outputs": [],
   "source": [
    "class MyObj(object):\n",
    "    def __init__(self, *args, **kwargs):\n",
    "        self.__id = 3.14\n",
    "        self._private_data = 'private'\n",
    "\n",
    "    def __str__(self):\n",
    "        return '{}, {}'.format(self.__id, self._private_data)"
   ]
  },
  {
   "cell_type": "markdown",
   "metadata": {},
   "source": [
    "## 21.13 Generators\n",
    "\n",
    "Prefer generators/generator expressions to lists/list comprehension since they can easily be turned into lists."
   ]
  },
  {
   "cell_type": "code",
   "execution_count": null,
   "metadata": {
    "collapsed": false
   },
   "outputs": [],
   "source": [
    "numbers = (i for i in range(999999999))\n",
    "next(numbers)"
   ]
  },
  {
   "cell_type": "markdown",
   "metadata": {},
   "source": [
    "## 21.14 Docstrings\n",
    "\n",
    "Use in-line documentation sparingly, use docstrings generously, follow PEP257.\n",
    "Document what it does, not how because implementation may change.\n",
    "\n",
    "## 21.15 Imports\n",
    "\n",
    "Imports must be explicit. Prefer absoute imports but relative imports are acceptable.\n",
    "\n",
    "Break lines by grouping with a parenthesis.\n",
    "\n",
    "Arrange imports in the prescribed order:\n",
    "1. standard library modules\n",
    "2. related third party imports\n",
    "3. local application/library specific imports\n",
    "\n",
    "Put a blank line between each group."
   ]
  },
  {
   "cell_type": "code",
   "execution_count": null,
   "metadata": {
    "collapsed": true
   },
   "outputs": [],
   "source": [
    "import os\n",
    "import json\n",
    "\n",
    "from django.contrib.auth.hashers import (\n",
    "    UNUSABLE_PASSWORD_PREFIX, identify_hasher,\n",
    ")\n",
    "from django.contrib.auth.models import User\n",
    "import requests\n",
    "\n",
    "from .models import Profile\n",
    "from .views import CreateProfileView"
   ]
  },
  {
   "cell_type": "markdown",
   "metadata": {},
   "source": [
    "Exception:\n",
    "\n",
    "Unavoidable circular imports (it can happen) can be placed within function/method.\n",
    "\n",
    "Never do this (without knowing exactly why you are doing it):"
   ]
  },
  {
   "cell_type": "code",
   "execution_count": null,
   "metadata": {
    "collapsed": true
   },
   "outputs": [],
   "source": [
    "# it's commented out because you really shouldn't do it\n",
    "# from module import *"
   ]
  },
  {
   "cell_type": "markdown",
   "metadata": {},
   "source": [
    "## 21.16 os.path\n",
    "\n",
    "Use `os.path` when working with directory paths"
   ]
  },
  {
   "cell_type": "code",
   "execution_count": null,
   "metadata": {
    "collapsed": false
   },
   "outputs": [],
   "source": [
    "import os\n",
    "os.path.dirname(os.path.abspath('__main__'))"
   ]
  },
  {
   "cell_type": "markdown",
   "metadata": {},
   "source": [
    "## 21.17 Libraries\n",
    "\n",
    "Avoid reinventing the wheel:\n",
    "1. Learn the standard library\n",
    "2. Get familiar with PyPI (the Python Package Index)"
   ]
  }
 ],
 "metadata": {
  "kernelspec": {
   "display_name": "Python 3",
   "language": "python",
   "name": "python3"
  },
  "language_info": {
   "codemirror_mode": {
    "name": "ipython",
    "version": 3
   },
   "file_extension": ".py",
   "mimetype": "text/x-python",
   "name": "python",
   "nbconvert_exporter": "python",
   "pygments_lexer": "ipython3",
   "version": "3.5.1"
  }
 },
 "nbformat": 4,
 "nbformat_minor": 0
}
