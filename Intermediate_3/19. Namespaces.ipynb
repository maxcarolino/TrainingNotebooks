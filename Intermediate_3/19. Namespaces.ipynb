{
 "cells": [
  {
   "cell_type": "markdown",
   "metadata": {},
   "source": [
    "# 19. Namespaces\n",
    "\n",
    "Namespaces were mentioned at the end of the notebook on Variables and the notebook on Importing Modules. We know that a namespace or a context is a naming system for Python objects. It can be thought of as a dictionary structure where any object can be stored. Everything in Python is an object and modules can be imported within other modules.\n",
    "\n",
    "Where does the namespace come from? When a Python script is executed, Python defines some special variables, and one of them is `__name__`, for namespace. The namespace when a script is execued (ie. `python script.py`) is called `__main__`, the main Python module."
   ]
  },
  {
   "cell_type": "code",
   "execution_count": null,
   "metadata": {
    "collapsed": false
   },
   "outputs": [],
   "source": [
    "print(__name__)"
   ]
  },
  {
   "cell_type": "markdown",
   "metadata": {},
   "source": [
    "When code is imported from another module, code from that module is assigned to the current namespace in a variable with the module's name or an alias. The module's name will be set by Python as its `__name__`.\n",
    "\n",
    "For example, to access the `os` module, we import the module into the current namespace. We can then access the module locally in the `os` namespace."
   ]
  },
  {
   "cell_type": "code",
   "execution_count": null,
   "metadata": {
    "collapsed": false
   },
   "outputs": [],
   "source": [
    "import os\n",
    "os.__name__"
   ]
  },
  {
   "cell_type": "markdown",
   "metadata": {},
   "source": [
    "The variables assigned within the `__main__` context can be accessed using the built-in `globals()` function."
   ]
  },
  {
   "cell_type": "code",
   "execution_count": null,
   "metadata": {
    "collapsed": false
   },
   "outputs": [],
   "source": [
    "globals()"
   ]
  },
  {
   "cell_type": "markdown",
   "metadata": {},
   "source": [
    "In `__main__`, the `globals()` are also the `locals()`."
   ]
  },
  {
   "cell_type": "code",
   "execution_count": null,
   "metadata": {
    "collapsed": false
   },
   "outputs": [],
   "source": [
    "globals() == locals()"
   ]
  },
  {
   "cell_type": "markdown",
   "metadata": {},
   "source": [
    "Functions, among other things in Python, also have their own enclosed context. The variables in the current execution context can be accessed using the built-in `locals()` function."
   ]
  },
  {
   "cell_type": "code",
   "execution_count": null,
   "metadata": {
    "collapsed": false
   },
   "outputs": [],
   "source": [
    "def func():\n",
    "    return globals() == locals()\n",
    "\n",
    "func()"
   ]
  },
  {
   "cell_type": "code",
   "execution_count": null,
   "metadata": {
    "collapsed": false
   },
   "outputs": [],
   "source": [
    "def func():\n",
    "    this_var = 'enclosed variable'\n",
    "    return locals()\n",
    "\n",
    "func()"
   ]
  },
  {
   "cell_type": "markdown",
   "metadata": {},
   "source": [
    "In Pyhon 3.x, the `i` in the code below maintains its value outside of the list comprehension. In Python 2.x, the value of `i` changes to the last used value in the list comrehension."
   ]
  },
  {
   "cell_type": "code",
   "execution_count": null,
   "metadata": {
    "collapsed": false
   },
   "outputs": [],
   "source": [
    "i = 0\n",
    "[print(i) for i in range(3)]\n",
    "i"
   ]
  },
  {
   "cell_type": "markdown",
   "metadata": {},
   "source": [
    "## 19.1 LEGB\n",
    "\n",
    "Given that namespaces can be nested and the same variable names can be used in different namespaces, how does Python get the right variable from the right namespace?\n",
    "\n",
    "For example, what will be the output of the code below?"
   ]
  },
  {
   "cell_type": "code",
   "execution_count": null,
   "metadata": {
    "collapsed": false
   },
   "outputs": [],
   "source": [
    "x = 0\n",
    "def outer():\n",
    "    x = 1\n",
    "    def inner():\n",
    "        x = 2\n",
    "        print(\"inner:\", x)\n",
    "\n",
    "    inner()\n",
    "    print(\"outer:\", x)\n",
    "\n",
    "outer()\n",
    "print(\"global:\", x)"
   ]
  },
  {
   "cell_type": "markdown",
   "metadata": {},
   "source": [
    "Python has a scope resolution order that uses the __LEGB__-rule:\n",
    "\n",
    "### Local -> Enclosed -> Global -> Built-in\n",
    "\n",
    "When searching for variables, the local namespace is searched first.\n",
    "\n",
    "If the variable is not found in the local namespace, the enclosing namespace will be searched next, if there is one.\n",
    "\n",
    "It goes up to search the global namespace and then the namespace for built-in variables.\n",
    "\n",
    "Note that variables outside the current namespace can be read but not reassigned."
   ]
  },
  {
   "cell_type": "code",
   "execution_count": null,
   "metadata": {
    "collapsed": false
   },
   "outputs": [],
   "source": [
    "i = 1\n",
    "def read():\n",
    "    print(i)\n",
    "\n",
    "def reassign():\n",
    "    i += 1\n",
    "\n",
    "read()  # can read i\n",
    "reassign()  # but there is no assignment of i in the local namespace"
   ]
  },
  {
   "cell_type": "markdown",
   "metadata": {},
   "source": [
    "## 19.2 [Rebinding variables](https://www.python.org/dev/peps/pep-3104/)\n",
    "\n",
    "Python can rebind or reassign to variables in the global scope or declare that a variable is nonlocal. In Python 2.x, the `nonlocal` keyword is not available.\n",
    "\n",
    "Check the effects of the declarations below:"
   ]
  },
  {
   "cell_type": "code",
   "execution_count": null,
   "metadata": {
    "collapsed": false
   },
   "outputs": [],
   "source": [
    "x = 0\n",
    "def outer():\n",
    "    x = 1\n",
    "    def inner():\n",
    "        nonlocal x  # declare nonlocal\n",
    "        x = 2\n",
    "        print(\"inner:\", x)\n",
    "\n",
    "    inner()\n",
    "    print(\"outer:\", x)\n",
    "\n",
    "outer()\n",
    "print(\"global:\", x)"
   ]
  },
  {
   "cell_type": "code",
   "execution_count": null,
   "metadata": {
    "collapsed": false
   },
   "outputs": [],
   "source": [
    "x = 0\n",
    "def outer():\n",
    "    x = 1\n",
    "    def inner():\n",
    "        global x  # declare global\n",
    "        x = 2\n",
    "        print(\"inner:\", x)\n",
    "\n",
    "    inner()\n",
    "    print(\"outer:\", x)\n",
    "\n",
    "outer()\n",
    "print(\"global:\", x)"
   ]
  },
  {
   "cell_type": "markdown",
   "metadata": {},
   "source": [
    "Even though variables can be reassigned, it is usually not a good idea to modify variables outside of your current scope. Consider passing variables as arguments rather than rebinding, then assign those returned values. This makes it clear and easier to debug.\n",
    "\n",
    "## `from module import *`\n",
    "\n",
    "In general, it's not a good idea to import everything. It is better to be explicit than implicit. In this case, importing and assigning variables in the current namespace. Import it into its own namespace.\n",
    "\n",
    "\n",
    "## 19.3 Default Keyword Arguments\n",
    "\n",
    "Python's __default arguments are evaluated once when the function is defined__, not each time the function is called. This means that if you use a mutable default argument and mutate it, that object is already mutated for all future calls to the function."
   ]
  },
  {
   "cell_type": "code",
   "execution_count": null,
   "metadata": {
    "collapsed": false
   },
   "outputs": [],
   "source": [
    "def mutable_default(element, default=[]):\n",
    "    default.append(element)\n",
    "    return default\n",
    "\n",
    "mutable_default(1)"
   ]
  },
  {
   "cell_type": "code",
   "execution_count": null,
   "metadata": {
    "collapsed": false
   },
   "outputs": [],
   "source": [
    "mutable_default(2)\n",
    "mutable_default(3)"
   ]
  },
  {
   "cell_type": "markdown",
   "metadata": {},
   "source": [
    "For the desired behavior, default values should be assigned within the enclosed scope, not as keyword arguments in the function's definition. The value of the keyword argument should be assigned to __`None`__."
   ]
  },
  {
   "cell_type": "code",
   "execution_count": null,
   "metadata": {
    "collapsed": false
   },
   "outputs": [],
   "source": [
    "def immutable_default(element, default=None):\n",
    "    if default is None:\n",
    "        default = []\n",
    "\n",
    "    default.append(element)\n",
    "    return default\n",
    "\n",
    "immutable_default(1)"
   ]
  },
  {
   "cell_type": "code",
   "execution_count": null,
   "metadata": {
    "collapsed": false
   },
   "outputs": [],
   "source": [
    "immutable_default(2)\n",
    "immutable_default(3)"
   ]
  },
  {
   "cell_type": "markdown",
   "metadata": {},
   "source": [
    "## 19.4 Late Binding Closures\n",
    "\n",
    "Python's __closures are late binding__. This means that the values of variables used in closures are looked up at the time the inner function is called. It looks for the value when it is needed. When a returned function is called, the value returned is the value at call time (as opposed to when the function is defined, when default keyword arguments are provided). By then, based on the execution, the value is set as the final value."
   ]
  },
  {
   "cell_type": "code",
   "execution_count": null,
   "metadata": {
    "collapsed": false
   },
   "outputs": [],
   "source": [
    "def create_multipliers():\n",
    "    multipliers = []\n",
    "\n",
    "    for i in range(5):\n",
    "        def multiplier(x):\n",
    "            return i * x\n",
    "        multipliers.append(multiplier)\n",
    "\n",
    "    return multipliers\n",
    "\n",
    "for multiplier in create_multipliers():\n",
    "    print(multiplier(2))"
   ]
  },
  {
   "cell_type": "markdown",
   "metadata": {},
   "source": [
    "The output was different from expected:\n",
    "\n",
    "```\n",
    "0\n",
    "2\n",
    "4\n",
    "6\n",
    "8\n",
    "```\n",
    "\n",
    "Instead of the list of values above, the last value is instead repeated.\n",
    "\n",
    "The solution is to apply a keyword argument that supplies a default value to a variable. This immediately creates a variable that is bound to the local scope and makes the closure [evaluate when the function is defined](./23.%20Namespaces.ipynb#Default-Keyword-Arguments) instead of its usual late binding behavior."
   ]
  },
  {
   "cell_type": "code",
   "execution_count": null,
   "metadata": {
    "collapsed": false
   },
   "outputs": [],
   "source": [
    "def create_multipliers():\n",
    "    multipliers = []\n",
    "\n",
    "    for i in range(5):\n",
    "        def multiplier(x, i=i):  # assign default value\n",
    "            return i * x\n",
    "        multipliers.append(multiplier)\n",
    "\n",
    "    return multipliers\n",
    "\n",
    "for multiplier in create_multipliers():\n",
    "    print(multiplier(2))"
   ]
  }
 ],
 "metadata": {
  "kernelspec": {
   "display_name": "Python 3",
   "language": "python",
   "name": "python3"
  },
  "language_info": {
   "codemirror_mode": {
    "name": "ipython",
    "version": 3
   },
   "file_extension": ".py",
   "mimetype": "text/x-python",
   "name": "python",
   "nbconvert_exporter": "python",
   "pygments_lexer": "ipython3",
   "version": "3.5.1"
  }
 },
 "nbformat": 4,
 "nbformat_minor": 0
}
