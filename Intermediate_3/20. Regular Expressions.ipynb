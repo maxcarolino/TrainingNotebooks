{
 "cells": [
  {
   "cell_type": "markdown",
   "metadata": {},
   "source": [
    "# 20. Regular Expressions in Python\n",
    "\n",
    "The [`re`](https://docs.python.org/3.5/library/re.html) module provides regular expression or regex features in Python. It can be used to search and match on both unicode and 8-bit strings. However, the two types can not be mixed.\n",
    "\n",
    "> _you cannot match an Unicode string with a byte pattern or vice-versa; similarly, when asking for a substitution, the replacement string must be of the same type as both the pattern and the search string._\n",
    "\n",
    "When representing regex patterns in Python code, use the raw string notation __`r\"string\"`__ (string prefixed with the letter __`r`__) to prevent confusing special regex forms and character escaping.\n",
    "\n",
    "If you need a refresher on the topic, now is a good time to read the documentation linked above. It provides a good reference and a link to an introduction to regex.\n",
    "\n",
    "Let's import the module:"
   ]
  },
  {
   "cell_type": "code",
   "execution_count": null,
   "metadata": {
    "collapsed": true
   },
   "outputs": [],
   "source": [
    "import re"
   ]
  },
  {
   "cell_type": "markdown",
   "metadata": {},
   "source": [
    "> _The module defines several functions, constants, and an exception. Some of the functions are simplified versions of the full featured methods for compiled regular expressions. Most non-trivial applications always use the compiled form._\n",
    "\n",
    "## 20.1 Functions\n",
    "\n",
    "> _Python offers two different primitive operations based on regular expressions: __re.match() checks for a match only at the beginning__ of the string, while __re.search() checks for a match anywhere__ in the string (this is what Perl does by default)._\n",
    "\n",
    "### 20.1.1 `re.match() and re.search()`"
   ]
  },
  {
   "cell_type": "code",
   "execution_count": null,
   "metadata": {
    "collapsed": false
   },
   "outputs": [],
   "source": [
    "re.match('hello', 'hello world')"
   ]
  },
  {
   "cell_type": "markdown",
   "metadata": {},
   "source": [
    "When successful, `re.match()` and `re.search()` results return a match object that evauates to `True` and `None` on failure."
   ]
  },
  {
   "cell_type": "code",
   "execution_count": null,
   "metadata": {
    "collapsed": false
   },
   "outputs": [],
   "source": [
    "text = \"639876543210 is my mobile number\"\n",
    "regex = r'(63|0)[0-9]{10,11}'\n",
    "\n",
    "match = re.match(regex, text)\n",
    "if match:\n",
    "    print(\"match:\", match.group())\n",
    "\n",
    "search = re.search(regex, text)\n",
    "if search:\n",
    "    print(\"search:\", search.group())"
   ]
  },
  {
   "cell_type": "markdown",
   "metadata": {},
   "source": [
    "The text above and the text below provide different results for `re.match()`."
   ]
  },
  {
   "cell_type": "code",
   "execution_count": null,
   "metadata": {
    "collapsed": false
   },
   "outputs": [],
   "source": [
    "text = \"My mobile numbers are 639876543210 and 09876543211\"\n",
    "regex = r'(63|0)[0-9]{10,11}'\n",
    "\n",
    "match = re.match(regex, text)\n",
    "if match:\n",
    "    print(\"match:\", match.group())\n",
    "\n",
    "search = re.search(regex, text)\n",
    "if search:\n",
    "    print(\"search:\", search.group())"
   ]
  },
  {
   "cell_type": "markdown",
   "metadata": {},
   "source": [
    "### 20.1.2 `re.compile()`\n",
    "\n",
    "We used our regex pattern several times in our examples. If we wanted to make our pattern reusable, `re.compile()` is available to also optimize it into an object. There is a slight but almost negligible performance boost when working with compiled regex."
   ]
  },
  {
   "cell_type": "code",
   "execution_count": null,
   "metadata": {
    "collapsed": false
   },
   "outputs": [],
   "source": [
    "text = \"639876543210 is my mobile number\"\n",
    "regex = re.compile(r'(63|0)[0-9]{10,11}')\n",
    "\n",
    "match = regex.match(text)\n",
    "if match:\n",
    "    print(\"match:\", match.group())\n",
    "\n",
    "search = regex.search(text)\n",
    "if search:\n",
    "    print(\"search:\", search.group())"
   ]
  },
  {
   "cell_type": "markdown",
   "metadata": {},
   "source": [
    "### 20.1.3 `re.split()`\n",
    "\n",
    "There is also `re.split()` that functions similiarly to `string.split()`, except it accepts regex."
   ]
  },
  {
   "cell_type": "code",
   "execution_count": null,
   "metadata": {
    "collapsed": false
   },
   "outputs": [],
   "source": [
    "re.split('\\W+', 'Words, words, words.')  # \\W = non-words"
   ]
  },
  {
   "cell_type": "markdown",
   "metadata": {},
   "source": [
    "### 20.1.4 `re.findall()`\n",
    "\n",
    "To return all non-overlapping matches of a pattern, use `re.findall()`."
   ]
  },
  {
   "cell_type": "code",
   "execution_count": null,
   "metadata": {
    "collapsed": false
   },
   "outputs": [],
   "source": [
    "re.findall('\\w+', 'Words, words, words.')"
   ]
  },
  {
   "cell_type": "markdown",
   "metadata": {},
   "source": [
    "### 20.1.5 `re.finditer()`\n",
    "\n",
    "Instead of returning a list, `re.finditer()` returns an iterator that returns match objects."
   ]
  },
  {
   "cell_type": "code",
   "execution_count": null,
   "metadata": {
    "collapsed": false
   },
   "outputs": [],
   "source": [
    "for m in re.finditer('\\w+', 'Words, words, words.'):\n",
    "    print('{0}-{1}: {2}'.format(m.start(), m.end(), m.group(0)))"
   ]
  },
  {
   "cell_type": "markdown",
   "metadata": {},
   "source": [
    "### 20.1.6 `re.fullmatch()`\n",
    "\n",
    "If you want to check whether a whole string matches a pattern, there is a `re.fullmatch()` available (new in Python 3.4)."
   ]
  },
  {
   "cell_type": "code",
   "execution_count": null,
   "metadata": {
    "collapsed": false
   },
   "outputs": [],
   "source": [
    "text = \"639876543210\"\n",
    "regex = r'(63|0)[0-9]{10,11}'\n",
    "\n",
    "match = re.fullmatch(regex, text)\n",
    "if match:\n",
    "    print(\"match:\", match.group())"
   ]
  },
  {
   "cell_type": "markdown",
   "metadata": {},
   "source": [
    "### 20.1.7 `re.sub()` and `re.subn()`\n",
    "\n",
    "`sub()` performs a substitution on any pattern matches with with the given replacement and returns the new string.\n",
    "\n",
    "`subn()` returns a tuple with the new string and the number of substitutions made."
   ]
  },
  {
   "cell_type": "code",
   "execution_count": null,
   "metadata": {
    "collapsed": false
   },
   "outputs": [],
   "source": [
    "re.sub(r'\\w', '*', 'password')"
   ]
  },
  {
   "cell_type": "code",
   "execution_count": null,
   "metadata": {
    "collapsed": false
   },
   "outputs": [],
   "source": [
    "re.subn(r'\\w', '*', 'password')"
   ]
  },
  {
   "cell_type": "markdown",
   "metadata": {},
   "source": [
    "#### Exercises\n",
    "\n",
    "Using the functions provided by the `re` module, write functions that use regex patterns to:\n",
    "\n",
    "* Extract the title of an HTML page\n",
    "\n",
    "* Validate phone numbers with the following parts:\n",
    "\n",
    "    - country code or 0\n",
    "    - carrier code\n",
    "    - optional space or hyphen\n",
    "    - first three digits\n",
    "    - optional space or hyphen\n",
    "    - last four digits\n",
    "\n",
    "* Extract the date and month from various date formats:\n",
    "\n",
    "    - YYYY-MM-DD\n",
    "    - MM/DD/YYYY\n",
    "    - MM-DD-YYYY\n",
    "    - MM DD, 'YY"
   ]
  }
 ],
 "metadata": {
  "kernelspec": {
   "display_name": "Python 3",
   "language": "python",
   "name": "python3"
  },
  "language_info": {
   "codemirror_mode": {
    "name": "ipython",
    "version": 3
   },
   "file_extension": ".py",
   "mimetype": "text/x-python",
   "name": "python",
   "nbconvert_exporter": "python",
   "pygments_lexer": "ipython3",
   "version": "3.5.1"
  }
 },
 "nbformat": 4,
 "nbformat_minor": 0
}
