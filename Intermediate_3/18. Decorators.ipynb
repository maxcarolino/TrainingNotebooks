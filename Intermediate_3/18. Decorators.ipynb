{
 "cells": [
  {
   "cell_type": "markdown",
   "metadata": {},
   "source": [
    "# 18. [Decorators](https://www.python.org/dev/peps/pep-0318/)\n",
    "\n",
    "The decorator syntax allows for callables like functions, methods and classes to be modified without modifying the callable itself. This is done by \"wrapping\" them with another function or class, the \"decorator\", prefixing it with the __`@`__ operator and placing it above the target's declaration.\n",
    "\n",
    "Let's see how it looks like in actual code:"
   ]
  },
  {
   "cell_type": "code",
   "execution_count": null,
   "metadata": {
    "collapsed": false
   },
   "outputs": [],
   "source": [
    "# The decorator\n",
    "def decorator(function):\n",
    "    # This defines a new function\n",
    "    # The old function still happens somewhere here\n",
    "    def wrapper(*args):\n",
    "        function(*args)\n",
    "        print(\"The decorator adds this...\", *args, *args)\n",
    "        return\n",
    "    # The new function is returned\n",
    "    return wrapper\n",
    "\n",
    "# Using a decorator on a function\n",
    "@decorator\n",
    "def function(*arg):\n",
    "    print(\"The function does this...\", *arg)\n",
    "    return\n",
    "\n",
    "# Is the same as:\n",
    "\n",
    "def function(*arg):\n",
    "    print(\"The function does this...\", *arg)\n",
    "    return\n",
    "# Wrapping a function with another function...\n",
    "# Calling the decorator with the target function as the argument.\n",
    "# The result is assigned to the original function name.\n",
    "function = decorator(function)\n",
    "\n",
    "function(\"asdf\")"
   ]
  },
  {
   "cell_type": "markdown",
   "metadata": {},
   "source": [
    "With only the decorator, target callable and without comments:"
   ]
  },
  {
   "cell_type": "code",
   "execution_count": null,
   "metadata": {
    "collapsed": true
   },
   "outputs": [],
   "source": [
    "def decorator(function):\n",
    "    def wrapper(*args):\n",
    "        function(*args)\n",
    "        print(\"The decorator adds this...\", *args, *args)\n",
    "        return\n",
    "    return wrapper\n",
    "\n",
    "@decorator\n",
    "def function(*arg):\n",
    "    print(\"The function does this...\", *arg)\n",
    "    return"
   ]
  },
  {
   "cell_type": "markdown",
   "metadata": {},
   "source": [
    "Everything in python is an object. Decorators define and return a new callable. It can change anything about the target - it's input, output, execution or it can be something else completely. The modified result is assigned to the target's identifier name.\n",
    "\n",
    "This syntax makes it apparent that something in the target will be modified and that the modification is done by the given decorator. Doing this without decorators makes it easy to miss or lose track."
   ]
  },
  {
   "cell_type": "code",
   "execution_count": null,
   "metadata": {
    "collapsed": false
   },
   "outputs": [],
   "source": [
    "def bread(function):\n",
    "    def wrapper():\n",
    "        print(\"</'''''''\\>\")\n",
    "        function()\n",
    "        print(\"<\\_______/>\")\n",
    "    return wrapper\n",
    "\n",
    "def ingredients(function):\n",
    "    def wrapper():\n",
    "        print(\"###bacon###\")\n",
    "        function()\n",
    "        print(\"@@@tomato@@\")\n",
    "    return wrapper\n",
    "\n",
    "@bread\n",
    "@ingredients\n",
    "def sandwich(food=\"--lettuce--\"):\n",
    "    print(food)"
   ]
  },
  {
   "cell_type": "code",
   "execution_count": null,
   "metadata": {
    "collapsed": false
   },
   "outputs": [],
   "source": [
    "sandwich()"
   ]
  },
  {
   "cell_type": "markdown",
   "metadata": {},
   "source": [
    "Decorators can be chained. The execution will be in reverse, starting first with the target, going up to the top decorator last."
   ]
  },
  {
   "cell_type": "code",
   "execution_count": null,
   "metadata": {
    "collapsed": false
   },
   "outputs": [],
   "source": [
    "def more_bacon(function):\n",
    "    def wrapper():\n",
    "        print(\"###bacon###\")\n",
    "        function()\n",
    "        print(\"###bacon###\")\n",
    "    return wrapper\n",
    "\n",
    "@bread\n",
    "@ingredients\n",
    "@more_bacon\n",
    "def bacon_sandwich(food=\"--lettuce--\"):\n",
    "    print(food)\n",
    "\n",
    "bacon_sandwich()"
   ]
  },
  {
   "cell_type": "markdown",
   "metadata": {},
   "source": [
    "Let's move the `@more_bacon` to the top to see how it changes:"
   ]
  },
  {
   "cell_type": "code",
   "execution_count": null,
   "metadata": {
    "collapsed": false
   },
   "outputs": [],
   "source": [
    "@more_bacon\n",
    "@bread\n",
    "@ingredients\n",
    "def sandwich_bacon(food=\"---lettuce-\"):\n",
    "    print(food)\n",
    "\n",
    "sandwich_bacon()"
   ]
  },
  {
   "cell_type": "markdown",
   "metadata": {},
   "source": [
    "We kept mentioning callables but all the previous examples have been functions. Let's try a class decorator on a class this time:"
   ]
  },
  {
   "cell_type": "code",
   "execution_count": null,
   "metadata": {
    "collapsed": false
   },
   "outputs": [],
   "source": [
    "class Bread(object):\n",
    "\n",
    "    def __init__(self, function):\n",
    "        self.function = function\n",
    "        print(\"    |      @Bread\")\n",
    "\n",
    "    def __call__(self):\n",
    "        print(\"</'''''''\\>\")\n",
    "        self.function()\n",
    "        print(\"<\\_______/>\")\n",
    "\n",
    "class Ingredients(object):\n",
    "\n",
    "    def __init__(self, function):\n",
    "        self.function = function\n",
    "        print(\"           @Ingredients\")\n",
    "\n",
    "    def __call__(self):\n",
    "        print(\"###bacon###\")\n",
    "        self.function()\n",
    "        print(\"@@@tomato@@\")\n",
    "\n",
    "@Bread\n",
    "@Ingredients\n",
    "class Sandwich(object):\n",
    "\n",
    "    def __init__(self):\n",
    "        print(\"---lettuce-\")\n",
    "\n",
    "Sandwich()"
   ]
  },
  {
   "cell_type": "markdown",
   "metadata": {},
   "source": [
    "In class decorators, the code goes into the _magic/dunder_ method `__call__()`. The other magic methods are still available like `__init__()`.\n",
    "\n",
    "In our example, we also printed out characters when the decorators initialized. As you can see in the sequence, __`@Ingredients` initialized before `@Bread`__ while the sequence of calls were still as expected with __the output of `@Bread` wrapping the output of `@Ingredients`, and finally, wrapped within that is our `Sandwich`__.\n",
    "\n",
    "Decorators are not only readable and easy to use, it's a powerful language feature. In Flask, the __`@app.route()`__ decorator is used to register a route to your app and map it to a function. In Django, there are several decorators available like __`@login_required`__ and __`@permission_required`__, among others. It lets you extend other callables without modifying them.\n",
    "\n",
    "#### Exercise:\n",
    "\n",
    "* Build decorators that create HTML from strings. For example:\n",
    "\n",
    "* Create a script that takes inputs from a user, that generates a complete HTML page (with `<header>`, `<body>`, etc) using chained decorators that wrap elements into one another.\n",
    "\n",
    "* Create several pages with different layouts using combinations of decorators.\n",
    "\n",
    "```\n",
    "@heading\n",
    "def title(name):\n",
    "    return name\n",
    "\n",
    "title(\"My Webpage\") # returns <h1>My Webpage</h1>\n",
    "\n",
    "\n",
    "@boilerplatehtml\n",
    "@title(\"Blog\")\n",
    "content(\"This is the content of my page.\")\n",
    "\n",
    "\"\"\" outputs:\n",
    "<!doctype html>\n",
    "<html>\n",
    "  <head>\n",
    "  </head>\n",
    "  <body>\n",
    "    <h1>Blog</h1>\n",
    "    <div>\n",
    "      This is the content of my page.\n",
    "    </div>\n",
    "  </body>\n",
    "</html>\n",
    "\"\"\"\n",
    "\n",
    "\n",
    "@boilerplatehtml\n",
    "@featured_image(\"image.png\")\n",
    "@title(\"Blog\")\n",
    "content(\"This is the content of my page.\")\n",
    "\"\"\"\n",
    "<!doctype html>\n",
    "<html>\n",
    "  <head>\n",
    "  </head>\n",
    "  <body>\n",
    "    <div>\n",
    "      <img src=\"image.png\">\n",
    "    </div>\n",
    "    <h1>Blog</h1>\n",
    "    <div>\n",
    "      This is the content of my page.\n",
    "    </div>\n",
    "  </body>\n",
    "</html>\n",
    "\"\"\"\n",
    "```"
   ]
  }
 ],
 "metadata": {
  "kernelspec": {
   "display_name": "Python 3",
   "language": "python",
   "name": "python3"
  },
  "language_info": {
   "codemirror_mode": {
    "name": "ipython",
    "version": 3
   },
   "file_extension": ".py",
   "mimetype": "text/x-python",
   "name": "python",
   "nbconvert_exporter": "python",
   "pygments_lexer": "ipython3",
   "version": "3.5.1"
  }
 },
 "nbformat": 4,
 "nbformat_minor": 0
}
