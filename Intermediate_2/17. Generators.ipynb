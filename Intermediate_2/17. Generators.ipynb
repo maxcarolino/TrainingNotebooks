{
 "cells": [
  {
   "cell_type": "markdown",
   "metadata": {},
   "source": [
    "# 17. Generators\n",
    "\n",
    "> _Generators are a simple and powerful tool for creating iterators - an object representing a stream of data._\n",
    "\n",
    "They can be created in two ways:\n",
    "\n",
    "* [Generator Expressions](https://www.python.org/dev/peps/pep-0289/) - An expression that returns an iterator\n",
    "\n",
    "* [Generator Functions](https://www.python.org/dev/peps/pep-0255/) - A function which returns a generator iterator\n",
    "\n",
    "## 17.1 Generator Expressions\n",
    "\n",
    "The previous notebook covered list comprehensions. When lists can no longer fit into the memory of your computer, that's the time when you realize why there is a need for generators. Large lists, however, aren't required when deciding whether to use generators. In fact, generators are more memory-efficient than lists. In Python 2.x, `range()` used a list while `xrange()` used a generator to create a range of numbers. In Python 3.x, `range()` defauled to using a generator and `xrange()` is has been deprecated.\n",
    "\n",
    "Consider the following list comprehension:"
   ]
  },
  {
   "cell_type": "code",
   "execution_count": null,
   "metadata": {
    "collapsed": false
   },
   "outputs": [],
   "source": [
    "# Run the code\n",
    "[x for x in range(10)]"
   ]
  },
  {
   "cell_type": "markdown",
   "metadata": {},
   "source": [
    "and the following ~~dictionary~~ set comprehension:"
   ]
  },
  {
   "cell_type": "code",
   "execution_count": null,
   "metadata": {
    "collapsed": false
   },
   "outputs": [],
   "source": [
    "# Run the code\n",
    "\n",
    "# {x: x for x in range(10)}\n",
    "{x for x in range(10)}"
   ]
  },
  {
   "cell_type": "markdown",
   "metadata": {},
   "source": [
    "The main difference between the two previous statements were the delimiters used: brackets and curly braces.\n",
    "\n",
    "To create a generator expression, just use a parenthesis. Instead of creating a list or set, a generator object is created."
   ]
  },
  {
   "cell_type": "code",
   "execution_count": null,
   "metadata": {
    "collapsed": false
   },
   "outputs": [],
   "source": [
    "# Run the code\n",
    "gen = (x for x in range(10))\n",
    "\n",
    "gen"
   ]
  },
  {
   "cell_type": "markdown",
   "metadata": {},
   "source": [
    "To \"consume\" a generator, just call the `next()` function on it.\n",
    "\n",
    "In Python 2.x, generators had a `.next()` method. This attribute is no longer available in Python 3.x."
   ]
  },
  {
   "cell_type": "code",
   "execution_count": null,
   "metadata": {
    "collapsed": false
   },
   "outputs": [],
   "source": [
    "# Run the code\n",
    "next(gen)"
   ]
  },
  {
   "cell_type": "code",
   "execution_count": null,
   "metadata": {
    "collapsed": false
   },
   "outputs": [],
   "source": [
    "# Run the code\n",
    "next(gen)\n",
    "next(gen)"
   ]
  },
  {
   "cell_type": "markdown",
   "metadata": {},
   "source": [
    "Calling the `list()` function on a generator also consumes it to create a list. The result is composed of whatever values are left in the generator. Be careful though because generators are capable of generating an infinite amount of values!"
   ]
  },
  {
   "cell_type": "code",
   "execution_count": null,
   "metadata": {
    "collapsed": false
   },
   "outputs": [],
   "source": [
    "# Run the code\n",
    "list(gen)"
   ]
  },
  {
   "cell_type": "markdown",
   "metadata": {},
   "source": [
    "## 17.2 Generator Function\n",
    "\n",
    "Generator functions can achieve the same outcome but coming from a different perspective. They look like a normal functions except that it contains yield expressions for producing a series of values usable in a for-loop or that can be retrieved one at a time with the next() function.\n",
    "\n",
    "Each yield temporarily suspends processing, remembering the location execution state (including local variables and pending try-statements). When the generator iterator resumes, it picks-up where it left-off (in contrast to functions which start fresh on every invocation)."
   ]
  },
  {
   "cell_type": "code",
   "execution_count": null,
   "metadata": {
    "collapsed": false
   },
   "outputs": [],
   "source": [
    "def gen():\n",
    "    yield 1\n",
    "    yield 2\n",
    "    yield 4\n",
    "    yield 8\n",
    "    yield 16\n",
    "    yield 32\n",
    "    yield 64"
   ]
  },
  {
   "cell_type": "markdown",
   "metadata": {},
   "source": [
    "Let's call the function and assign the result:"
   ]
  },
  {
   "cell_type": "code",
   "execution_count": null,
   "metadata": {
    "collapsed": false
   },
   "outputs": [],
   "source": [
    "g = gen()"
   ]
  },
  {
   "cell_type": "markdown",
   "metadata": {},
   "source": [
    "Now let's start consuming the result of our generator:"
   ]
  },
  {
   "cell_type": "code",
   "execution_count": null,
   "metadata": {
    "collapsed": false
   },
   "outputs": [],
   "source": [
    "next(g)"
   ]
  },
  {
   "cell_type": "code",
   "execution_count": null,
   "metadata": {
    "collapsed": false
   },
   "outputs": [],
   "source": [
    "next(g)\n",
    "next(g)"
   ]
  },
  {
   "cell_type": "code",
   "execution_count": null,
   "metadata": {
    "collapsed": false
   },
   "outputs": [],
   "source": [
    "list(g)"
   ]
  },
  {
   "cell_type": "markdown",
   "metadata": {},
   "source": [
    "Let's try a more realisting-looking example, a function that creates a generator based on an argument passed to it:"
   ]
  },
  {
   "cell_type": "code",
   "execution_count": null,
   "metadata": {
    "collapsed": true
   },
   "outputs": [],
   "source": [
    "def gen(n):\n",
    "    num = 1\n",
    "    while num < n + 1:\n",
    "        yield num\n",
    "        num += 1\n",
    "\n",
    "g = gen(10)"
   ]
  },
  {
   "cell_type": "code",
   "execution_count": null,
   "metadata": {
    "collapsed": false
   },
   "outputs": [],
   "source": [
    "list(g)"
   ]
  },
  {
   "cell_type": "markdown",
   "metadata": {},
   "source": [
    "Generators are memory-efficient ways of creating lists. Generator expressions look very much like comprehensions. They just create generator objects rather than lists, sets or dictionaries. Generator functions look very much like normal functions except they make use of the `yield` statement to suspend execution. They return generator objects when they are called and these objects return the yield values."
   ]
  }
 ],
 "metadata": {
  "kernelspec": {
   "display_name": "Python 3",
   "language": "python",
   "name": "python3"
  },
  "language_info": {
   "codemirror_mode": {
    "name": "ipython",
    "version": 3
   },
   "file_extension": ".py",
   "mimetype": "text/x-python",
   "name": "python",
   "nbconvert_exporter": "python",
   "pygments_lexer": "ipython3",
   "version": "3.5.1"
  }
 },
 "nbformat": 4,
 "nbformat_minor": 0
}
