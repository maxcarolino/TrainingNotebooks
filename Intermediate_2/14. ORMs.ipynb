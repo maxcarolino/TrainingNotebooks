{
 "cells": [
  {
   "cell_type": "markdown",
   "metadata": {},
   "source": [
    "# 14. ORMs\n",
    "\n",
    "## What is an ORM?\n",
    "\n",
    "[Object Relational Mapping](https://en.wikipedia.org/wiki/Object-relational_mapping) _(aka ORM)_ is a technique that lets you query and manipulate data from a database using an object-oriented paradigm. \n",
    "\n",
    "An ORM library, written in the language of your choice, encapsulates the codes needed to manipulate the data so you don't use SQL anymore; you interact directly with an object in the same language you're using.\n",
    "\n",
    "### 14.0.1 Pros\n",
    "\n",
    "#### It saves a lot of time\n",
    "\n",
    "- [DRY](https://en.wikipedia.org/wiki/Don%27t_repeat_yourself): You write your data model in only one place, and it's easier to update, maintain, and reuse the code.\n",
    "- A lot of stuff is done automatically, from database handling to I18N.\n",
    "- It forces you to write MVC code, which, in the end, makes your code a little cleaner.\n",
    "- You don't have to write poorly-formed SQL (most Web programmers really suck at it, because SQL is treated like a \"sub\" language, when in reality it's a very powerful and complex one)\n",
    "- Sanitizing; using prepared statements or transactions are as easy as calling a method.\n",
    "\n",
    "#### 14.0.2 It is more flexible\n",
    "\n",
    "- It fits in your natural way of coding (it's your language!)\n",
    "- It abstracts the DB system, so you can change it whenever you want and it won't affect your code.\n",
    "- The model is weakly bound to the rest of the application, so you can change it or use it anywhere else.\n",
    "- It lets you use OOP goodness like data inheritance without a headache.\n",
    "\n",
    "### 14.0.2 Con\n",
    "\n",
    "#### It can be a pain\n",
    "- You have to learn it, and ORM libraries are not lightweight tools;\n",
    "- You have to set it up. Same problem.\n",
    "- Performance is OK for usual queries, but a SQL master will always do better with his own SQL for big projects.\n",
    "- It abstracts the DB. While it's OK if you know what's happening behind the scene, it's a trap for new programmers that can write very greedy statements, like a heavy hit in a __`for`__ loop."
   ]
  },
  {
   "cell_type": "markdown",
   "metadata": {
    "collapsed": true
   },
   "source": [
    "### SQLAlchemy and Peewee\n",
    "\n",
    "We'll take a quick look at two Python ORM's and explore some of their features. It's up to you to study them in depth but you'll have to use one in your exercises or projects. We won't cover all of their features and functionalities but the goal is to give you an idea of how they are used.\n",
    "\n",
    "ORM's are huge concepts to tackle. These ORM's usually consist of big libraries or are frameworks themselves and are usable in so many ways. They abstract away the database layer, enabling you to swap out databases at will and yet still have uniform way of querying the database. Querying the database using an ORM can be done in many ways as the examples will show. This is in no way a comprehensive or exhaustive source. Please refer to their documentation for more information."
   ]
  }
 ],
 "metadata": {
  "kernelspec": {
   "display_name": "Python 3",
   "language": "python",
   "name": "python3"
  },
  "language_info": {
   "codemirror_mode": {
    "name": "ipython",
    "version": 3
   },
   "file_extension": ".py",
   "mimetype": "text/x-python",
   "name": "python",
   "nbconvert_exporter": "python",
   "pygments_lexer": "ipython3",
   "version": "3.5.1"
  }
 },
 "nbformat": 4,
 "nbformat_minor": 0
}
