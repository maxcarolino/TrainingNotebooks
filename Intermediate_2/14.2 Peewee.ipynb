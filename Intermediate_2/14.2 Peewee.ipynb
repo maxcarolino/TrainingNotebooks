{
 "cells": [
  {
   "cell_type": "markdown",
   "metadata": {},
   "source": [
    "## 14.2 Peewee\n",
    "\n",
    "> _Peewee is a simple and small ORM. It has few (but expressive) concepts, making it easy to learn and intuitive to use._\n",
    "\n",
    "We'll cover how to:\n",
    "\n",
    "* Define a Model\n",
    "* Create a Database\n",
    "* Store Data\n",
    "* Update Data\n",
    "* Remove Data\n",
    "* Learn About Autocommit\n",
    "* Retrieve Data\n",
    "\n",
    "First, let's install Peewee."
   ]
  },
  {
   "cell_type": "code",
   "execution_count": null,
   "metadata": {
    "collapsed": false
   },
   "outputs": [],
   "source": [
    "!pip install peewee"
   ]
  },
  {
   "cell_type": "markdown",
   "metadata": {},
   "source": [
    "### 14.2.1 Model Definition\n",
    "\n",
    "When starting a project with Peewee, it’s typically best to begin with your data model, by defining one or more `Model` classes. This usually goes into the __`models.py`__ file of your application. We'll use SQLite:"
   ]
  },
  {
   "cell_type": "code",
   "execution_count": null,
   "metadata": {
    "collapsed": false
   },
   "outputs": [],
   "source": [
    "import peewee\n",
    "\n",
    "db = peewee.SqliteDatabase('peewee.db')  # This ideally belongs in a settings.py file\n",
    "\n",
    "\n",
    "class BaseModel(peewee.Model):\n",
    "\n",
    "    class Meta:\n",
    "        database = db\n",
    "\n",
    "\n",
    "class User(BaseModel):\n",
    "    name = peewee.CharField()\n",
    "    birthday = peewee.DateField(null=True)\n",
    "    is_relative = peewee.BooleanField(null=True)"
   ]
  },
  {
   "cell_type": "markdown",
   "metadata": {},
   "source": [
    "We created a `BaseModel` that uses our SQLite database so all models using this inherits this setting.\n",
    "\n",
    "### 14.2.2 Creating the Database\n",
    "\n",
    "Now that we have our model, let’s connect it to the database. Although it’s not necessary to open the connection explicitly, it is good practice since it will reveal any errors with your database connection immediately, as opposed to some arbitrary time later when the first query is executed. It is also good to close the connection when you are done – for instance, a web app might open a connection when it receives a request, and close the connection when it sends the response.\n",
    "\n",
    "We’ll begin by creating the tables in the database that will store our data. This code will create the tables with the appropriate columns, indexes, sequences, and foreign key constraints. Your application doesn't need to run this all the time. This is only executed to create the required tables so this should be in a separate script."
   ]
  },
  {
   "cell_type": "code",
   "execution_count": null,
   "metadata": {
    "collapsed": false
   },
   "outputs": [],
   "source": [
    "models = [\n",
    "    User,\n",
    "]\n",
    "db.connect()\n",
    "db.create_tables([User])\n",
    "db.commit()\n",
    "db.close()"
   ]
  },
  {
   "cell_type": "markdown",
   "metadata": {},
   "source": [
    "### 14.2.3 Storing data\n",
    "\n",
    "Let’s begin by populating the database with some people. We will use the __`save()`__ and __`create()`__ methods to add and update people’s records.\n",
    "\n",
    "You can add a User by calling the save() method on an instance:"
   ]
  },
  {
   "cell_type": "code",
   "execution_count": null,
   "metadata": {
    "collapsed": false
   },
   "outputs": [],
   "source": [
    "from datetime import date\n",
    "\n",
    "uncle_bob = User(name='Bob', birthday=date(1960, 1, 15), is_relative=True)\n",
    "uncle_bob.save()"
   ]
  },
  {
   "cell_type": "markdown",
   "metadata": {},
   "source": [
    "You can also add a User by calling the create() method, which returns an instance:"
   ]
  },
  {
   "cell_type": "code",
   "execution_count": null,
   "metadata": {
    "collapsed": false
   },
   "outputs": [],
   "source": [
    "grandma = User.create(name='Grandma', birthday=date(1935, 3, 1), is_relative=True)\n",
    "herb = User.create(name='Herb', birthday=date(1950, 5, 5), is_relative=False)"
   ]
  },
  {
   "cell_type": "markdown",
   "metadata": {},
   "source": [
    "### 14.2.4 Updating Data\n",
    "\n",
    "Updating is as simple as updating an instance and the calling __`save()`__ method on it:"
   ]
  },
  {
   "cell_type": "code",
   "execution_count": null,
   "metadata": {
    "collapsed": false
   },
   "outputs": [],
   "source": [
    "grandma.name = 'Grandma L.'\n",
    "grandma.save()  # Update grandma's name in the database."
   ]
  },
  {
   "cell_type": "markdown",
   "metadata": {},
   "source": [
    "### 14.2.5 Removing Data\n",
    "\n",
    "Removing data is as simple as calling the __`delete_instance()`__ method:"
   ]
  },
  {
   "cell_type": "code",
   "execution_count": null,
   "metadata": {
    "collapsed": false
   },
   "outputs": [],
   "source": [
    "herb.delete_instance()"
   ]
  },
  {
   "cell_type": "markdown",
   "metadata": {},
   "source": [
    "### 14.2.6 Autocommit\n",
    "\n",
    "While Peewee initializes databases with __`autocommit=True`__ by default, it has support for transaction handling with `Database.atomic()` or `Database.transaction()` either as a context manager or a decorator. Peewee has no \"sessions\" like in SQLAlchemy.\n",
    "\n",
    "#### 14.2.6.1 Context Manager"
   ]
  },
  {
   "cell_type": "code",
   "execution_count": null,
   "metadata": {
    "collapsed": false
   },
   "outputs": [],
   "source": [
    "db = peewee.SqliteDatabase('peewee.db')\n",
    "\n",
    "with db.atomic() as txn:\n",
    "    User.create(name='Charlie')  # This is the outer-most level, so this block corresponds to a transaction.\n",
    "\n",
    "    with db.atomic() as nested_txn:\n",
    "        User.create(name='Huey')  # This block corresponds to a savepoint.\n",
    "        nested_txn.rollback()  # This will roll back the above create() query.\n",
    "\n",
    "    User.create(name='Mickey')\n",
    "\n",
    "# When the block ends, the transaction is committed (assuming no error\n",
    "# occurs). At that point there will be two users, \"charlie\" and \"mickey\"."
   ]
  },
  {
   "cell_type": "markdown",
   "metadata": {},
   "source": [
    "#### 14.2.6.2 Decorator"
   ]
  },
  {
   "cell_type": "code",
   "execution_count": null,
   "metadata": {
    "collapsed": false
   },
   "outputs": [],
   "source": [
    "@db.atomic()\n",
    "def create_user(name):\n",
    "    # This statement will run in a transaction. If the caller is already\n",
    "    # running in an `atomic` block, then a savepoint will be used instead.\n",
    "    return User.create(name=name)\n",
    "\n",
    "create_user('Charlie')"
   ]
  },
  {
   "cell_type": "markdown",
   "metadata": {},
   "source": [
    "This setting can be turned on and off at runtime anytime you like. If you choose to do so, transactions must be made explicit using `Database.begin()` to begin a transaction, and `Database.commit()` or `Database.rollback()`."
   ]
  },
  {
   "cell_type": "code",
   "execution_count": null,
   "metadata": {
    "collapsed": true
   },
   "outputs": [],
   "source": [
    "db.set_autocommit(False)\n",
    "db.begin()\n",
    "try:\n",
    "    herb.delete_instance(recursive=True)\n",
    "except:\n",
    "    db.rollback()\n",
    "    raise\n",
    "else:\n",
    "    try:\n",
    "        db.commit()\n",
    "    except:\n",
    "        db.rollback()\n",
    "        raise\n",
    "finally:\n",
    "    db.set_autocommit(True)"
   ]
  },
  {
   "cell_type": "markdown",
   "metadata": {},
   "source": [
    "Manuall control of every transaction is also available by turning autocommit off when instantiating your database:"
   ]
  },
  {
   "cell_type": "code",
   "execution_count": null,
   "metadata": {
    "collapsed": false
   },
   "outputs": [],
   "source": [
    "db = peewee.SqliteDatabase('peewee.db', autocommit=False)\n",
    "\n",
    "db.begin()\n",
    "User.create(name='Somebody')\n",
    "db.commit()"
   ]
  },
  {
   "cell_type": "markdown",
   "metadata": {},
   "source": [
    "### 14.2.7 Retrieving Data\n",
    "\n",
    "The real strength of our database is in how it allows us to retrieve data through queries. Relational databases are excellent for making ad-hoc queries.\n",
    "\n",
    "#### 14.2.7.1 Getting single records\n",
    "\n",
    "Let’s retrieve Grandma’s record from the database. To get a single record from the database, use `SelectQuery.get()` or the equivalent shorthand `Model.get()`:"
   ]
  },
  {
   "cell_type": "code",
   "execution_count": null,
   "metadata": {
    "collapsed": true
   },
   "outputs": [],
   "source": [
    "grandma = User.select().where(User.name=='Grandma L.').get()\n",
    "\n",
    "# is equivalent to\n",
    "\n",
    "grandma = User.get(User.name=='Grandma L.')"
   ]
  },
  {
   "cell_type": "markdown",
   "metadata": {},
   "source": [
    "#### 14.2.7.2 Lists of records\n",
    "\n",
    "Let’s list all the people in the database:"
   ]
  },
  {
   "cell_type": "code",
   "execution_count": null,
   "metadata": {
    "collapsed": false
   },
   "outputs": [],
   "source": [
    "for user in User.select():\n",
    "    print(user.name, user.is_relative)"
   ]
  },
  {
   "cell_type": "markdown",
   "metadata": {},
   "source": [
    "Let’s list all the people now, youngest to oldest:"
   ]
  },
  {
   "cell_type": "code",
   "execution_count": null,
   "metadata": {
    "collapsed": false
   },
   "outputs": [],
   "source": [
    "for user in User.select().order_by(User.birthday.desc()):\n",
    "    print(user.name, user.birthday)"
   ]
  },
  {
   "cell_type": "markdown",
   "metadata": {},
   "source": [
    "### 14.2.8 Summary\n",
    "\n",
    "Our sample Peewee code may be organized and summed up like this:"
   ]
  },
  {
   "cell_type": "code",
   "execution_count": null,
   "metadata": {
    "collapsed": true
   },
   "outputs": [],
   "source": [
    "# In your settings file\n",
    "import peewee\n",
    "\n",
    "db = peewee.SqliteDatabase('peewee.db')  # This ideally belongs in a settings.py file\n",
    "\n",
    "\n",
    "# In your models file\n",
    "class BaseModel(peewee.Model):\n",
    "\n",
    "    class Meta:\n",
    "        database = db\n",
    "\n",
    "\n",
    "class User(BaseModel):\n",
    "    name = peewee.CharField()\n",
    "    birthday = peewee.DateField()\n",
    "    is_relative = peewee.BooleanField()\n",
    "\n",
    "\n",
    "# In your database creation script\n",
    "models = [\n",
    "    User,\n",
    "]\n",
    "db.connect()\n",
    "db.create_tables(models)\n",
    "\n",
    "\n",
    "# In your controller - creating\n",
    "from datetime import date\n",
    "\n",
    "uncle_bob = User(name='Bob', birthday=date(1960, 1, 15), is_relative=True)\n",
    "uncle_bob.save()\n",
    "\n",
    "# In your controller - querying\n",
    "bob = User.get(User.name=='Bob')"
   ]
  },
  {
   "cell_type": "markdown",
   "metadata": {},
   "source": [
    "#### Exercise\n",
    "\n",
    "Now that you have learned SQLAlchemy and PeeWee it's time for an exercise.\n",
    "\n",
    "In the previous notebooks, you created a webpage that showcases an upcoming product. It can render pages, accept input and uses WTForms to validate and handle forms.\n",
    "\n",
    "- Use your ORM of choice between SQLAlchemy and Peewee\n",
    "- Add a database\n",
    "\n",
    "- In the admin, add the capability to post products\n",
    "- Adjust your page to show a list of products\n",
    "\n",
    "Next level would be the capability to add other users to your app. With you as \"Superuser\", you have the capability to manage other users.\n",
    "\n",
    "- Add and deactivate/activate other users\n",
    "- Users have ther own page\n",
    "- Users can post their own products\n",
    "- Users can only see their own page products\n",
    "\n",
    "Congratulations! You can now build apps in Python."
   ]
  }
 ],
 "metadata": {
  "kernelspec": {
   "display_name": "Python 3",
   "language": "python",
   "name": "python3"
  },
  "language_info": {
   "codemirror_mode": {
    "name": "ipython",
    "version": 3
   },
   "file_extension": ".py",
   "mimetype": "text/x-python",
   "name": "python",
   "nbconvert_exporter": "python",
   "pygments_lexer": "ipython3",
   "version": "3.5.1"
  }
 },
 "nbformat": 4,
 "nbformat_minor": 0
}
