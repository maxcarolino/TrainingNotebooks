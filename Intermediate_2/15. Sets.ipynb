{
 "cells": [
  {
   "cell_type": "markdown",
   "metadata": {},
   "source": [
    "# 15. [Sets](https://docs.python.org/3.5/library/stdtypes.html#set)\n",
    "\n",
    "A Set is an __unordered__ collection of __unique__ (no duplicate) objects. Sets can be used to perform mathematical set operations like union, intersection, symmetric difference etc."
   ]
  },
  {
   "cell_type": "markdown",
   "metadata": {},
   "source": [
    "## 15.1 Creating a set\n",
    "\n",
    "If we want to create a set, we can call the built-in __`set()`__ function with a sequence or another iterable object:"
   ]
  },
  {
   "cell_type": "code",
   "execution_count": null,
   "metadata": {
    "collapsed": false
   },
   "outputs": [],
   "source": [
    "# Run the code\n",
    "x = set(\"Python Tutorial\")\n",
    "\n",
    "x"
   ]
  },
  {
   "cell_type": "markdown",
   "metadata": {},
   "source": [
    "We can pass a list to the built-in set function, as we can see in the following:"
   ]
  },
  {
   "cell_type": "code",
   "execution_count": null,
   "metadata": {
    "collapsed": false
   },
   "outputs": [],
   "source": [
    "# Run the code\n",
    "x = set([\"strawberry\", \"orange\", \"apple\", \"grapes\"])\n",
    "\n",
    "x"
   ]
  },
  {
   "cell_type": "markdown",
   "metadata": {},
   "source": [
    "We want to show now, what happens, if we pass a tuple with reappearing elements to the set function - in our example the country \"Philippines\":"
   ]
  },
  {
   "cell_type": "code",
   "execution_count": null,
   "metadata": {
    "collapsed": false
   },
   "outputs": [],
   "source": [
    "# Run the code\n",
    "cities = set((\"Philippines\", \"Japan\", \"South Korea\",\"Singapore\",\"Philippines\",\"Italy\"))\n",
    "\n",
    "cities"
   ]
  },
  {
   "cell_type": "markdown",
   "metadata": {},
   "source": [
    "As expected, no doubles are in the result."
   ]
  },
  {
   "cell_type": "markdown",
   "metadata": {},
   "source": [
    "#### NOTE: Since Python 2.6, we can define sets without using the built-in set function. \n",
    "\n",
    "We can use curly braces instead: "
   ]
  },
  {
   "cell_type": "code",
   "execution_count": null,
   "metadata": {
    "collapsed": false
   },
   "outputs": [],
   "source": [
    "# Run the code\n",
    "fruits = {\"strawberry\", \"orange\", \"apple\", \"grapes\"}\n",
    "\n",
    "fruits"
   ]
  },
  {
   "cell_type": "markdown",
   "metadata": {},
   "source": [
    "Empty sets can't be created using curly braces since dictionaries are created this way."
   ]
  },
  {
   "cell_type": "code",
   "execution_count": null,
   "metadata": {
    "collapsed": false
   },
   "outputs": [],
   "source": [
    "curly_braces = {}\n",
    "set_function = set()\n",
    "\n",
    "type(curly_braces), type(set_function)"
   ]
  },
  {
   "cell_type": "markdown",
   "metadata": {},
   "source": [
    "## 15.2 Methods and Operations\n",
    "\n",
    "### 15.2.1 `add()`\n",
    "\n",
    "A method which adds an element, which has to be immutable, to a set."
   ]
  },
  {
   "cell_type": "code",
   "execution_count": null,
   "metadata": {
    "collapsed": false
   },
   "outputs": [],
   "source": [
    "# Run the code\n",
    "colors = {'yellow','red'}\n",
    "colors.add('blue')\n",
    "\n",
    "colors"
   ]
  },
  {
   "cell_type": "markdown",
   "metadata": {},
   "source": [
    "### 15.2.2 `clear()`\n",
    "\n",
    "All elements will be removed from a set."
   ]
  },
  {
   "cell_type": "code",
   "execution_count": null,
   "metadata": {
    "collapsed": false
   },
   "outputs": [],
   "source": [
    "# Run the code\n",
    "colors = {'yellow','red', 'blue'}\n",
    "colors.clear()\n",
    "\n",
    "colors"
   ]
  },
  {
   "cell_type": "markdown",
   "metadata": {},
   "source": [
    "### 15.2.3 `copy()`\n",
    "\n",
    "Creates a shallow copy, which is returned.\n",
    "\n",
    "> Note: A shallow copy constructs a new compound object and then (to the extent possible) inserts references into it to the objects found in the original."
   ]
  },
  {
   "cell_type": "code",
   "execution_count": null,
   "metadata": {
    "collapsed": false
   },
   "outputs": [],
   "source": [
    "colors = {'yellow','red', 'blue'}\n",
    "colors_backup = colors.copy()\n",
    "\n",
    "colors.clear() # We removed the elements form set 'color'\n",
    "\n",
    "# Let's see if the backup worked. Run the code\n",
    "colors_backup"
   ]
  },
  {
   "cell_type": "markdown",
   "metadata": {},
   "source": [
    "### 15.2.4 `union()`\n",
    "\n",
    "Returns the union of a set and the set of elements in an iterable. \n",
    "\n",
    "![Intermediate_2](./images/img_union.png)\n",
    "\n",
    "For example, you want to return the list of all the students:"
   ]
  },
  {
   "cell_type": "code",
   "execution_count": null,
   "metadata": {
    "collapsed": false
   },
   "outputs": [],
   "source": [
    "# Run the Code\n",
    "math_students = {\"Jake\", \"Janice\", \"Jane\"}\n",
    "english_students = {\"Josh\", \"Jane\"}\n",
    "\n",
    "math_students.union(english_students) or math_students | english_students"
   ]
  },
  {
   "cell_type": "markdown",
   "metadata": {},
   "source": [
    "### 15.2.5 `intersection()`\n",
    "\n",
    "The resulting __`set`__ has elements that are common to both source __`sets`__.\n",
    "\n",
    "![Intermediate_2](./images/img_intersection.png)\n",
    "\n",
    "For example, you want to return the list of the students who are taking up both Math and English classes:"
   ]
  },
  {
   "cell_type": "code",
   "execution_count": null,
   "metadata": {
    "collapsed": false
   },
   "outputs": [],
   "source": [
    "# Run the Code\n",
    "math_students = {\"Jake\", \"Janice\", \"Jane\"}\n",
    "english_students = {\"Josh\", \"Jane\"}\n",
    "\n",
    "math_students.intersection(english_students) or math_students & english_students"
   ]
  },
  {
   "cell_type": "markdown",
   "metadata": {},
   "source": [
    "### 15.2.6 `difference()`\n",
    "\n",
    "The resulting __`set`__ has elements of the left-hand set with all elements from the right-hand set removed.\n",
    "\n",
    "![Intermediate_2](./images/img_difference.png)\n",
    "\n",
    "For example, you want to return the list of the students are only taking up Math:"
   ]
  },
  {
   "cell_type": "code",
   "execution_count": null,
   "metadata": {
    "collapsed": false
   },
   "outputs": [],
   "source": [
    "# Run the Code\n",
    "math_students = {\"Jake\", \"Janice\", \"Jane\"}\n",
    "english_students = {\"Josh\", \"Jane\"}\n",
    "\n",
    "math_students.difference(english_students) or math_students - english_students"
   ]
  },
  {
   "cell_type": "markdown",
   "metadata": {},
   "source": [
    "### 15.2.7 `symmetric_difference()`\n",
    "\n",
    "The resulting __`set`__ has elements which are unique to each __`set`__.\n",
    "\n",
    "![Intermediate_2](./images/img_symmetric_difference.png)\n",
    "\n",
    "For example, you want to return the list of the students are only taking up one of the classes:"
   ]
  },
  {
   "cell_type": "code",
   "execution_count": null,
   "metadata": {
    "collapsed": false
   },
   "outputs": [],
   "source": [
    "# Run the Code\n",
    "math_students = {\"Jake\", \"Janice\", \"Jane\"}\n",
    "english_students = {\"Josh\", \"Jane\"}\n",
    "\n",
    "math_students.symmetric_difference(english_students) or math_students ^ english_students"
   ]
  },
  {
   "cell_type": "markdown",
   "metadata": {},
   "source": [
    "### 15.2.8 Membership\n",
    "\n",
    "Membership can be checked in sets similar to lists."
   ]
  },
  {
   "cell_type": "code",
   "execution_count": null,
   "metadata": {
    "collapsed": false
   },
   "outputs": [],
   "source": [
    "# Run the code\n",
    "math_students = {\"Jake\", \"Janice\", \"Jane\"}\n",
    "english_students = {\"Josh\", \"Jane\"}\n",
    "\n",
    "\"Jane\" in math_students, \"Jake\" not in english_students"
   ]
  },
  {
   "cell_type": "markdown",
   "metadata": {},
   "source": [
    "### 15.2.9 Other Methods and Operations\n",
    "\n",
    "There are other operations available on sets such as checking for (proper) subsets or supersets, as well as compound operations. Sets provide many methods and operations that allow for shorter code, avoiding loops while maintaining code readability.\n",
    "\n",
    "### 15.2.10 Why bring up sets now?\n",
    "\n",
    "By now you may already have a good grasp of some of Python's data types such as lists, tuples and dictionaries. We can avoid confusion between the types. We are also starting to work with databases and we're using an ORM to generate queries. Sets, as you'll discover, are perfect for use with database query results. Each database entry is unique, usually with an ID and each set member is unique since no item can be repeated. You know where I'm going with this. In fact, some results are being referred to as a `QuerySet`. Thinking in terms of sets is very useful when working with database queries."
   ]
  }
 ],
 "metadata": {
  "kernelspec": {
   "display_name": "Python 3",
   "language": "python",
   "name": "python3"
  },
  "language_info": {
   "codemirror_mode": {
    "name": "ipython",
    "version": 3
   },
   "file_extension": ".py",
   "mimetype": "text/x-python",
   "name": "python",
   "nbconvert_exporter": "python",
   "pygments_lexer": "ipython3",
   "version": "3.5.1"
  }
 },
 "nbformat": 4,
 "nbformat_minor": 0
}
