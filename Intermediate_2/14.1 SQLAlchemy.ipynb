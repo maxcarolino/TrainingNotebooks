{
 "cells": [
  {
   "cell_type": "markdown",
   "metadata": {},
   "source": [
    "## 14.1 SQLAlchemy\n",
    "\n",
    "> SQLAlchemy is the Python SQL toolkit and Object Relational Mapper that gives application developers the full power and flexibility of SQL.\n",
    "\n",
    "> SQL databases behave less like object collections the more size and performance start to matter; object collections behave less like tables and rows the more abstraction starts to matter. SQLAlchemy aims to accommodate both of these principles.\n",
    "\n",
    ">SQLAlchemy considers the database to be a relational algebra engine, not just a collection of tables. Rows can be selected from not only tables but also joins and other select statements; any of these units can be composed into a larger structure. SQLAlchemy's expression language builds on this concept from its core.\n",
    "\n",
    "> The main goal of SQLAlchemy is to change the way you think about databases and SQL!\n",
    "\n",
    "### We'll cover how to:\n",
    "\n",
    "- Declare a Mapping\n",
    "- Configure a Database Engine\n",
    "- Create a Schema\n",
    "- Create a Session\n",
    "- Create, Add and Update Objects in the Session\n",
    "- Rollback the Session\n",
    "- Query the Session\n",
    "\n",
    "But first, install SQLAlchemy:"
   ]
  },
  {
   "cell_type": "code",
   "execution_count": null,
   "metadata": {
    "collapsed": false
   },
   "outputs": [],
   "source": [
    "!pip install SQLAlchemy"
   ]
  },
  {
   "cell_type": "markdown",
   "metadata": {},
   "source": [
    "### 14.1.1 Declaring a Mapping\n",
    "\n",
    "When using the ORM, we need to describe the database tables we'll be dealing with by defining classes, which will be mapped to those tables. This usually goes into the __`models.py`__ file of your application.\n",
    "\n",
    "We'll be using a system in SQLAlchemy known as __`Declarative`__ that, at a minimum, needs a `__tablename__` attribute, and at least one Column which is part of a primary key. Outside of what the mapping process does, the class remains otherwise mostly a normal Python class, to which we can define any number of ordinary attributes and methods needed by our application."
   ]
  },
  {
   "cell_type": "code",
   "execution_count": null,
   "metadata": {
    "collapsed": true
   },
   "outputs": [],
   "source": [
    "from sqlalchemy import Column, Integer, String\n",
    "from sqlalchemy.ext.declarative import declarative_base\n",
    "\n",
    "Base = declarative_base()\n",
    "\n",
    "\n",
    "class User(Base):\n",
    "    __tablename__ = 'users'\n",
    "\n",
    "    id = Column(Integer, primary_key=True)\n",
    "    name = Column(String)\n",
    "    fullname = Column(String)\n",
    "    password = Column(String)\n",
    "\n",
    "    def __repr__(self):\n",
    "        return \"<User(name='%s', fullname='%s', password='%s')>\" % (\n",
    "            self.name, self.fullname, self.password)"
   ]
  },
  {
   "cell_type": "markdown",
   "metadata": {},
   "source": [
    "### 14.1.2 Configuring a Database Engine\n",
    "\n",
    "For this tutorial we will use SQLite. We use the __`create_engine()`__ method to create an __`Engine`__ instance, representing the core interface to the database:"
   ]
  },
  {
   "cell_type": "code",
   "execution_count": null,
   "metadata": {
    "collapsed": true
   },
   "outputs": [],
   "source": [
    "from sqlalchemy import create_engine\n",
    "\n",
    "engine = create_engine('sqlite:///sqlalchemy.db')  # This ideally belongs in a settings.py file"
   ]
  },
  {
   "cell_type": "markdown",
   "metadata": {},
   "source": [
    "### 14.1.3 Creating the Schema\n",
    "\n",
    "We call the __`MetaData.create_all()`__ method, passing in our `engine`. Special commands are first emitted to check for the presence of the users table before the actual __`CREATE TABLE`__ statement. Your application doesn't need to run this all the time. This is only executed to create the required tables so this should be in a separate script."
   ]
  },
  {
   "cell_type": "code",
   "execution_count": null,
   "metadata": {
    "collapsed": true
   },
   "outputs": [],
   "source": [
    "Base.metadata.create_all(engine)"
   ]
  },
  {
   "cell_type": "markdown",
   "metadata": {},
   "source": [
    "### 14.1.4 Creating a Session\n",
    "\n",
    "We’re now ready to start talking to the database. In SQLAlchemy, the ORM’s “handle” to the database is the __`Session`__. We define a __`Session`__ class which will serve as a factory for new __`session`__ objects which are bound to our database:"
   ]
  },
  {
   "cell_type": "code",
   "execution_count": null,
   "metadata": {
    "collapsed": true
   },
   "outputs": [],
   "source": [
    "from sqlalchemy.orm import sessionmaker\n",
    "\n",
    "Session = sessionmaker(bind=engine)\n",
    "session = Session()"
   ]
  },
  {
   "cell_type": "markdown",
   "metadata": {},
   "source": [
    "No database connections have been opened at this point. When it’s first used, it retrieves a connection from a pool of connections maintained by the `Engine`, and holds onto it until we commit all changes and/or close the session object. Handling the session depends on how you structure and configure your application.\n",
    "\n",
    "### 14.1.5 Creating an Instance\n",
    "\n",
    "Let’s create and inspect a __`User`__ object. In your controllers or __`views.py`__ creating objects will look like this:"
   ]
  },
  {
   "cell_type": "code",
   "execution_count": null,
   "metadata": {
    "collapsed": true
   },
   "outputs": [],
   "source": [
    "ed_user = User(name='ed', fullname='Ed Jones', password='edspassword')"
   ]
  },
  {
   "cell_type": "code",
   "execution_count": null,
   "metadata": {
    "collapsed": false
   },
   "outputs": [],
   "source": [
    "ed_user.name"
   ]
  },
  {
   "cell_type": "code",
   "execution_count": null,
   "metadata": {
    "collapsed": false
   },
   "outputs": [],
   "source": [
    "ed_user.password"
   ]
  },
  {
   "cell_type": "code",
   "execution_count": null,
   "metadata": {
    "collapsed": false
   },
   "outputs": [],
   "source": [
    "str(ed_user.id)"
   ]
  },
  {
   "cell_type": "markdown",
   "metadata": {},
   "source": [
    "Even though we didn’t specify it in the constructor, the id attribute still produces a value of __`None`__ when we access it.\n",
    "\n",
    "### 14.1.6 Adding and Updating Objects in the Session\n",
    "\n",
    "To add object to our database __`session`__:"
   ]
  },
  {
   "cell_type": "code",
   "execution_count": null,
   "metadata": {
    "collapsed": true
   },
   "outputs": [],
   "source": [
    "session.add(ed_user)"
   ]
  },
  {
   "cell_type": "markdown",
   "metadata": {},
   "source": [
    "No SQL has yet been issued and the object has not reached the database yet. The session will issue all SQL statements once we have called `session.commit()`.\n",
    "\n",
    "Let's query the session for our user and check how it compares to the instance created before being added to the session:"
   ]
  },
  {
   "cell_type": "code",
   "execution_count": null,
   "metadata": {
    "collapsed": false
   },
   "outputs": [],
   "source": [
    "our_user = session.query(User).filter_by(name='ed').first() \n",
    "ed_user is our_user"
   ]
  },
  {
   "cell_type": "markdown",
   "metadata": {},
   "source": [
    "We can add more `User` objects at once using __`add_all()`__ and `session` will take care of making sure that our objects have unique primary keys:"
   ]
  },
  {
   "cell_type": "code",
   "execution_count": null,
   "metadata": {
    "collapsed": true
   },
   "outputs": [],
   "source": [
    "session.add_all([\n",
    "    User(name='wendy', fullname='Wendy Williams', password='foobar'),\n",
    "    User(name='mary', fullname='Mary Contrary', password='xxg527'),\n",
    "    User(name='fred', fullname='Fred Flinstone', password='blah')])"
   ]
  },
  {
   "cell_type": "markdown",
   "metadata": {},
   "source": [
    "Also, we’ve decided the password for Ed isn’t too secure, so lets change it:"
   ]
  },
  {
   "cell_type": "code",
   "execution_count": null,
   "metadata": {
    "collapsed": true
   },
   "outputs": [],
   "source": [
    "ed_user.password = 'f8s7ccs'"
   ]
  },
  {
   "cell_type": "markdown",
   "metadata": {},
   "source": [
    "The `session` is paying attention. It knows, for example, that Ed Jones has been modified and that three new User objects are pending::"
   ]
  },
  {
   "cell_type": "code",
   "execution_count": null,
   "metadata": {
    "collapsed": false
   },
   "outputs": [],
   "source": [
    "session.dirty"
   ]
  },
  {
   "cell_type": "code",
   "execution_count": null,
   "metadata": {
    "collapsed": false
   },
   "outputs": [],
   "source": [
    "session.new"
   ]
  },
  {
   "cell_type": "markdown",
   "metadata": {},
   "source": [
    "Now we tell the `session` to issue all changes to the database in this transaction. We do this via `session.commit()`. The `session` emits the `UPDATE`, as well as `INSERT` statements for our objects. The connection resources referenced by the session will be returned to the connection pool. Subsequent operations with this session will occur in a new transaction, which will again re-acquire connection resources when first needed:"
   ]
  },
  {
   "cell_type": "code",
   "execution_count": null,
   "metadata": {
    "collapsed": true
   },
   "outputs": [],
   "source": [
    "session.commit()"
   ]
  },
  {
   "cell_type": "markdown",
   "metadata": {},
   "source": [
    "After the `session` inserts new rows in the database, all newly generated identifiers and database-generated defaults become available on the instance, either immediately or via load-on-first-access. \n",
    "\n",
    "If we look at Ed’s `id` attribute, which earlier was None, it now has a value:"
   ]
  },
  {
   "cell_type": "code",
   "execution_count": null,
   "metadata": {
    "collapsed": false
   },
   "outputs": [],
   "source": [
    "ed_user.id "
   ]
  },
  {
   "cell_type": "markdown",
   "metadata": {},
   "source": [
    "### 14.1.7 Rolling Back the Session\n",
    "\n",
    "Since the `session` works within a transaction, we can roll back changes made too. Let’s make two changes that we’ll revert; ed_user‘s user name gets set to Edwardo and we’ll add another erroneous user, `fake_user`:"
   ]
  },
  {
   "cell_type": "code",
   "execution_count": null,
   "metadata": {
    "collapsed": true
   },
   "outputs": [],
   "source": [
    "ed_user.name = 'Edwardo'"
   ]
  },
  {
   "cell_type": "code",
   "execution_count": null,
   "metadata": {
    "collapsed": true
   },
   "outputs": [],
   "source": [
    "fake_user = User(name='fakeuser', fullname='Invalid', password='12345')\n",
    "session.add(fake_user)"
   ]
  },
  {
   "cell_type": "code",
   "execution_count": null,
   "metadata": {
    "collapsed": false
   },
   "outputs": [],
   "source": [
    "session.query(User).filter(User.name.in_(['Edwardo', 'fakeuser'])).all()"
   ]
  },
  {
   "cell_type": "markdown",
   "metadata": {},
   "source": [
    "Rolling back, we can see that ed_user‘s name is back to __`ed_user`__, and __`fake_user`__ has been kicked out of the session:"
   ]
  },
  {
   "cell_type": "code",
   "execution_count": null,
   "metadata": {
    "collapsed": true
   },
   "outputs": [],
   "source": [
    "session.rollback()"
   ]
  },
  {
   "cell_type": "code",
   "execution_count": null,
   "metadata": {
    "collapsed": false
   },
   "outputs": [],
   "source": [
    "ed_user.name"
   ]
  },
  {
   "cell_type": "code",
   "execution_count": null,
   "metadata": {
    "collapsed": false
   },
   "outputs": [],
   "source": [
    "fake_user in session"
   ]
  },
  {
   "cell_type": "markdown",
   "metadata": {},
   "source": [
    "Issuing a `SELECT` illustrates the changes made to the database:"
   ]
  },
  {
   "cell_type": "code",
   "execution_count": null,
   "metadata": {
    "collapsed": false
   },
   "outputs": [],
   "source": [
    "session.query(User).filter(User.name.in_(['ed', 'fakeuser'])).all()"
   ]
  },
  {
   "cell_type": "markdown",
   "metadata": {},
   "source": [
    "### 14.1.8 Querying the Session\n",
    "\n",
    "A Query object is created using the __`sessions.query()`__ method. This function takes a variable number of arguments, which can be any combination of classes and class-instrumented descriptors. \n",
    "\n",
    "Below, we indicate a `query` which loads `User` instances. When evaluated in an iterative context, the list of `User` objects present is returned:"
   ]
  },
  {
   "cell_type": "code",
   "execution_count": null,
   "metadata": {
    "collapsed": false
   },
   "outputs": [],
   "source": [
    "for instance in session.query(User).order_by(User.id):\n",
    "    print(instance.name, instance.fullname)"
   ]
  },
  {
   "cell_type": "markdown",
   "metadata": {},
   "source": [
    "You can control the names of individual column expressions using the __`label()`__ construct, which is available from any `ColumnElement`-derived object, as well as any class attribute which is mapped to one (such as `User.name`):"
   ]
  },
  {
   "cell_type": "code",
   "execution_count": null,
   "metadata": {
    "collapsed": false
   },
   "outputs": [],
   "source": [
    "for row in session.query(User.name.label('name_label')).all():\n",
    "    print(row.name_label)"
   ]
  },
  {
   "cell_type": "markdown",
   "metadata": {},
   "source": [
    "The name given to a full entity such as `User`, assuming that multiple entities are present in the call to __`query()`__, can be controlled using __`aliased()`__:"
   ]
  },
  {
   "cell_type": "code",
   "execution_count": null,
   "metadata": {
    "collapsed": false
   },
   "outputs": [],
   "source": [
    "from sqlalchemy.orm import aliased\n",
    "user_alias = aliased(User, name='user_alias')\n",
    "\n",
    "for row in session.query(user_alias, user_alias.name).all():\n",
    "    print(row.user_alias)"
   ]
  },
  {
   "cell_type": "markdown",
   "metadata": {},
   "source": [
    "Basic operations with Query include issuing __`LIMIT`__ and __`OFFSET`__, most conveniently using Python array slices and typically in conjunction with __`ORDER BY`__:"
   ]
  },
  {
   "cell_type": "code",
   "execution_count": null,
   "metadata": {
    "collapsed": false
   },
   "outputs": [],
   "source": [
    "for u in session.query(User).order_by(User.id)[1:3]:\n",
    "    print(u)"
   ]
  },
  {
   "cell_type": "markdown",
   "metadata": {},
   "source": [
    "And filtering results, which is accomplished either with __`filter_by()`__, which uses keyword arguments or __`filter()`__, which uses more flexible SQL expression language constructs. These allow you to use regular Python operators with the class-level attributes on your mapped class:"
   ]
  },
  {
   "cell_type": "code",
   "execution_count": null,
   "metadata": {
    "collapsed": false
   },
   "outputs": [],
   "source": [
    "for name, in session.query(User.name).filter_by(fullname='Ed Jones'):\n",
    "    print(name)"
   ]
  },
  {
   "cell_type": "code",
   "execution_count": null,
   "metadata": {
    "collapsed": false
   },
   "outputs": [],
   "source": [
    "for name, in session.query(User.name).filter(User.fullname=='Ed Jones'):\n",
    "    print(name)"
   ]
  },
  {
   "cell_type": "markdown",
   "metadata": {},
   "source": [
    "### 14.1.9 Summary\n",
    "\n",
    "Our sample SQLAlchemy code may be organized and summed up like this:"
   ]
  },
  {
   "cell_type": "code",
   "execution_count": null,
   "metadata": {
    "collapsed": false
   },
   "outputs": [],
   "source": [
    "# In your settings file\n",
    "from sqlalchemy import create_engine\n",
    "\n",
    "engine = create_engine('sqlite:///sqlalchemy.db', echo=True)\n",
    "\n",
    "\n",
    "# In your models file\n",
    "from sqlalchemy import Column, Integer, String\n",
    "from sqlalchemy.ext.declarative import declarative_base\n",
    "\n",
    "Base = declarative_base()\n",
    "\n",
    "class User(Base):\n",
    "    __tablename__ = 'users'\n",
    "\n",
    "    id = Column(Integer, primary_key=True)\n",
    "    name = Column(String)\n",
    "    fullname = Column(String)\n",
    "    password = Column(String)\n",
    "\n",
    "    def __repr__(self):\n",
    "        return \"<User(name='%s', fullname='%s', password='%s')>\" % (\n",
    "            self.name, self.fullname, self.password)\n",
    "\n",
    "\n",
    "# In your database creation script\n",
    "Base.metadata.create_all(engine)\n",
    "\n",
    "\n",
    "# In your session handler utility\n",
    "from sqlalchemy.orm import sessionmaker\n",
    "\n",
    "Session = sessionmaker(bind=engine)\n",
    "session = Session()\n",
    "\n",
    "# In your controller - creating\n",
    "ed_user = User(name='ed', fullname='Ed Jones', password='edspassword')\n",
    "session.add(ed_user)\n",
    "\n",
    "session.commit() or session.rollback()\n",
    "\n",
    "# In your controller - querying\n",
    "session.query(User.name).filter_by(fullname='Ed Jones')"
   ]
  }
 ],
 "metadata": {
  "kernelspec": {
   "display_name": "Python 3",
   "language": "python",
   "name": "python3"
  },
  "language_info": {
   "codemirror_mode": {
    "name": "ipython",
    "version": 3
   },
   "file_extension": ".py",
   "mimetype": "text/x-python",
   "name": "python",
   "nbconvert_exporter": "python",
   "pygments_lexer": "ipython3",
   "version": "3.5.1"
  }
 },
 "nbformat": 4,
 "nbformat_minor": 0
}
