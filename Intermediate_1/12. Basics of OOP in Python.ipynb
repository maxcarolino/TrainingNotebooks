{
 "cells": [
  {
   "cell_type": "markdown",
   "metadata": {
    "collapsed": false
   },
   "source": [
    "# 12 Python Classes and Objects\n",
    "\n",
    "The keyword `class` introduces a class definition. It's followed by the class name, then usually a parenthesized list of derived class/es, and ends with a colon. The indented statements below it constitute the class' attributes.\n",
    "\n",
    "There's usually a parenthesized list of derived class/es. **Usually**, because there is (or used to be?) an [old-style and new-style](https://docs.python.org/2/reference/datamodel.html#new-style-and-classic-classes) class. Old-style classes don't have this. Having said that, this notebook covers new-style classes since this is the [recommended way](https://wiki.python.org/moin/NewClassVsClassicClass) to create a class in Python."
   ]
  },
  {
   "cell_type": "markdown",
   "metadata": {},
   "source": [
    "## 12.1 Defining a Class\n",
    "\n",
    "Python classes inherit from the built-in `object`.\n",
    "\n",
    "Let's create an empty class named `YourClass`:"
   ]
  },
  {
   "cell_type": "code",
   "execution_count": null,
   "metadata": {
    "collapsed": true
   },
   "outputs": [],
   "source": [
    "class YourClass(object):\n",
    "    pass    # it's empty"
   ]
  },
  {
   "cell_type": "markdown",
   "metadata": {},
   "source": [
    "Let's instantiate it."
   ]
  },
  {
   "cell_type": "code",
   "execution_count": null,
   "metadata": {
    "collapsed": false
   },
   "outputs": [],
   "source": [
    "cls = YourClass()  # call the class and assign to variable"
   ]
  },
  {
   "cell_type": "code",
   "execution_count": null,
   "metadata": {
    "collapsed": false
   },
   "outputs": [],
   "source": [
    "# create a class, with an is_active method that returns True.\n",
    "# instantiate it and access the is_active method\n",
    "\n",
    "\n",
    "\n",
    "\n"
   ]
  },
  {
   "cell_type": "markdown",
   "metadata": {},
   "source": [
    "### 12.1.1 [Old and New Style Classes](https://wiki.python.org/moin/NewClassVsClassicClass)\n",
    "\n",
    "The example above is the new and recommended way of creating classes. You might encounter another way of defining classes without deriving from the built-in object:"
   ]
  },
  {
   "cell_type": "code",
   "execution_count": null,
   "metadata": {
    "collapsed": true
   },
   "outputs": [],
   "source": [
    "class AClass:\n",
    "    pass"
   ]
  },
  {
   "cell_type": "markdown",
   "metadata": {},
   "source": [
    "This is the old style of defining classes. We'll focus on the new style and learn about the old style just so you're aware if ever you encounter it."
   ]
  },
  {
   "cell_type": "markdown",
   "metadata": {},
   "source": [
    "### Introspection\n",
    "\n",
    "Let's go back to our (new style) class instance and see what `help()` can tell us about it."
   ]
  },
  {
   "cell_type": "code",
   "execution_count": null,
   "metadata": {
    "collapsed": false
   },
   "outputs": [],
   "source": [
    "help(cls)"
   ]
  },
  {
   "cell_type": "markdown",
   "metadata": {},
   "source": [
    "Let's see what the `dir()` function returns."
   ]
  },
  {
   "cell_type": "code",
   "execution_count": null,
   "metadata": {
    "collapsed": false,
    "scrolled": false
   },
   "outputs": [],
   "source": [
    "for attribute in dir(cls):\n",
    "    \"\"\"\n",
    "    For each attribute in the list of returned by dir(), we enter the equivalent of pressing Enter and two Tabs.\n",
    "    A string equivalent to the name of our object and the method name (without calling it) is constructed.\n",
    "    The `eval()` function tells the interpreter to evaluate the string as an expression.\n",
    "    \"\"\"\n",
    "    print(attribute, \"\\n\\t\\t\", eval(\"cls.\" + attribute))"
   ]
  },
  {
   "cell_type": "markdown",
   "metadata": {},
   "source": [
    "These are our object's available attributes and methods inherited from `builtins.object` (see class definition from output of `help(cls)`).\n",
    "\n",
    "There are times when our app needs to work with objects made by others. Introspection gives us a quick way of knowing more about these objects and be able to use them without even reading the source code."
   ]
  },
  {
   "cell_type": "markdown",
   "metadata": {},
   "source": [
    "## 12.2 Docstrings\n",
    "\n",
    "Let's define a new `MyClass` that inherits from `YourClass` and add what's called a docstring and some attributes, then let's see how `help()` differs."
   ]
  },
  {
   "cell_type": "code",
   "execution_count": null,
   "metadata": {
    "collapsed": false
   },
   "outputs": [],
   "source": [
    "class MyClass(YourClass):\n",
    "    \"\"\"\n",
    "    This is a docstring. I put this here to explain MyClass.\n",
    "    Adding a docstring to your classes is good.\n",
    "    MyClass inherits from YourClass.\n",
    "    \n",
    "    To access this docstring, print your object's __doc__ attribute.\n",
    "    \"\"\"\n",
    "    \n",
    "    my_attribute = \"Hello, world!\"\n",
    "\n",
    "    def my_method(self):\n",
    "        \"\"\"\n",
    "        my_method returns my_attribute twice.\n",
    "        \"\"\"\n",
    "        return self.my_attribute, self.my_attribute\n",
    "\n",
    "cls = MyClass()\n",
    "help(cls)"
   ]
  },
  {
   "cell_type": "markdown",
   "metadata": {},
   "source": [
    "A triple-quoted string that immediately succeeds the class statement becomes a docstring, in other places, it's just a multi-line comment. Calling `help()` on our object now shows the object and method docstrings. As much as possible, we want the code to be easy to read and self-explanatory. Otherwise, docstrings provide a way to document our code and it's good practice to have it."
   ]
  },
  {
   "cell_type": "code",
   "execution_count": null,
   "metadata": {
    "collapsed": true
   },
   "outputs": [],
   "source": [
    "# create a new class and make sure to add a docstring to it\n",
    "# add a docstring to this class as well as any methods you may have added\n",
    "\n",
    "\n",
    "\n",
    "\n"
   ]
  },
  {
   "cell_type": "markdown",
   "metadata": {},
   "source": [
    "## 12.3 Language-defined \"special\", \"magic\" or \"dunder\" methods\n",
    "\n",
    "From using introspection, we saw a list of attributes beginning and ending with double underlines (`__`). People refer to this in different ways:\n",
    "\n",
    "* Python documentation refers to these as [special](https://docs.python.org/3.5/reference/datamodel.html#special-method-names) methods\n",
    "* PEP8 refers to it as [magic](https://www.python.org/dev/peps/pep-0008/#descriptive-naming-styles) methods\n",
    "* The double underline syntax can be found in many places in Python and it has an alias - [dunder](https://wiki.python.org/moin/DunderAlias)\n",
    "\n",
    "For any purpose, let's jut accept [special](http://venus.cs.qc.cuny.edu/~waxman/780/Python%20Special%20Methods.pdf), [magic](http://rafekettler.com/magicmethods.html) or [dunder](https://pythonconquerstheuniverse.wordpress.com/2012/03/09/pythons-magic-methods/) interchangeably and get used to it.\n",
    "\n",
    "From the list of magic methods provided by `dir()`, we'll look at two of them then you can start exploring others on your own.\n",
    "\n",
    "These are:\n",
    "\n",
    "* `__str__`\n",
    "* `__init__`"
   ]
  },
  {
   "cell_type": "markdown",
   "metadata": {},
   "source": [
    "### 12.3.1 `__str__`\n",
    "\n",
    "Before we modify `__str__`, let's look at the output when we print our instance."
   ]
  },
  {
   "cell_type": "code",
   "execution_count": null,
   "metadata": {
    "collapsed": false
   },
   "outputs": [],
   "source": [
    "print(cls)"
   ]
  },
  {
   "cell_type": "markdown",
   "metadata": {},
   "source": [
    "Printing our object instance returns it's class name and memory address. In many cases, we would like to have something more useful. Modifying `__str__` allows us to do exactly this.\n",
    "\n",
    "Let's recreate MyClass and modify `__str__`."
   ]
  },
  {
   "cell_type": "code",
   "execution_count": null,
   "metadata": {
    "collapsed": false,
    "scrolled": true
   },
   "outputs": [],
   "source": [
    "class MyClass(YourClass):\n",
    "    \"\"\"\n",
    "    This is a docstring. I put this here to explain MyClass.\n",
    "    Adding a docstring to your classes is good.\n",
    "    MyClass inherits from YourClass.\n",
    "    \n",
    "    To access this docstring, print your object's __doc__ attribute.\n",
    "    \"\"\"\n",
    "\n",
    "    my_attribute = \"Hello, world!\"\n",
    "\n",
    "    def __str__(self):\n",
    "        \"\"\"\n",
    "        This method returns the string representation of objects.\n",
    "        \"\"\"\n",
    "        return 'MyClass: {}'.format(self.my_attribute)\n",
    "\n",
    "\n",
    "cls = MyClass()\n",
    "print(cls)"
   ]
  },
  {
   "cell_type": "markdown",
   "metadata": {},
   "source": [
    "The `__str__` method returns the string representation of object instances. This can refer to object attributes and will return instance variables like `this.id` or `this.name`. This can be as simple as returning a string, an attribute or doing some string formatting."
   ]
  },
  {
   "cell_type": "markdown",
   "metadata": {},
   "source": [
    "### 12.3.2 `__init__`\n",
    "\n",
    "Sometimes we want our instances to do something on instantiation. It may be anything from processing data, calling functions or accepting arguments. Modifying `__init__` allows us to do exactly this.\n",
    "\n",
    "Let's recreate MyClass and modify `__init__`."
   ]
  },
  {
   "cell_type": "code",
   "execution_count": null,
   "metadata": {
    "collapsed": false
   },
   "outputs": [],
   "source": [
    "class MyClass(YourClass):\n",
    "    \"\"\"\n",
    "    This is a docstring. I put this here to explain MyClass.\n",
    "    Adding a docstring to your classes is good.\n",
    "    MyClass inherits from YourClass.\n",
    "    \n",
    "    To access this docstring, print your object's __doc__ attribute.\n",
    "    \"\"\"\n",
    "\n",
    "    my_attribute = \"Hello, world!\"\n",
    "\n",
    "    def __init__(self, *args, **kwargs):\n",
    "        \"\"\"\n",
    "        This method executes on instantiation.\n",
    "        \"\"\"\n",
    "        if args:\n",
    "            print(args)\n",
    "        if kwargs:\n",
    "            print(kwargs)\n",
    "\n",
    "    def __str__(self):\n",
    "        \"\"\"\n",
    "        This method returns the string representation of objects.\n",
    "        \"\"\"\n",
    "        return self.my_attribute\n",
    "\n",
    "    def echo(self, arg):\n",
    "        print('MyClass.echo() was called.')\n",
    "        return arg, arg, arg\n",
    "\n",
    "\n",
    "cls = MyClass(*[\"Hi!\"], **{'name': 'KLab Cyscorpions'})"
   ]
  },
  {
   "cell_type": "markdown",
   "metadata": {},
   "source": [
    "The `__init__` method executes on initialization (hence, _init_). Any block of code defined here gets executed first. If we want to pass parameters while instantiating our object, it goes in here. This is what the `*args` and `**kwargs` in `__init__` are for. We saw this pattern on the notebook about functions.\n",
    "\n",
    "It's up to you to research and learn about the others by reading documentation and through research but these are the most commonly used."
   ]
  },
  {
   "cell_type": "code",
   "execution_count": null,
   "metadata": {
    "collapsed": true
   },
   "outputs": [],
   "source": [
    "# create a class and override the __init__ and __str__ methods\n",
    "# the class should accept one argument\n",
    "# whenever an object of this class is printed, it should print the time it was instantiated\n",
    "# as well as any argument passed to it during instantiation\n",
    "\n",
    "\n",
    "\n",
    "\n"
   ]
  },
  {
   "cell_type": "markdown",
   "metadata": {},
   "source": [
    "## 12.4 [Method Resolution Order](https://docs.python.org/3.5/glossary.html#term-method-resolution-order)\n",
    "\n",
    "Since `MyClass` is derived from `YourClass`, note the __method resolution order__ section of `help()`. Method resolution order or MRO determines how our object will look for information. Let's say my class derives from a tall chain of classes and/or from multiple inheritances, with some overrides along the way in different places, the MRO algorithm can give us a stable and consistent order of classes for looking up attributes."
   ]
  },
  {
   "cell_type": "code",
   "execution_count": null,
   "metadata": {
    "collapsed": false
   },
   "outputs": [],
   "source": [
    "help(cls)"
   ]
  },
  {
   "cell_type": "markdown",
   "metadata": {},
   "source": [
    "## 12.5 Multiple Inheritance\n",
    "\n",
    "In Python, it's possible to do multiple inheritance.\n",
    "\n",
    "The new class inherits from all derived classes, __from left to right__, subject to the method resolution order. The MRO uses a linearization algorithm that is stable and consistent.\n",
    "\n",
    "The importance of the method resolution order becomes more apparent when dealing with multiple inheritance as well as when using of the `super()` function.\n",
    "\n",
    "Let's create a new `OurClass` that derives from both `MyClass` and `YourClass`."
   ]
  },
  {
   "cell_type": "code",
   "execution_count": null,
   "metadata": {
    "collapsed": false,
    "scrolled": true
   },
   "outputs": [],
   "source": [
    "class OurClass(MyClass, YourClass):\n",
    "    \"\"\"\n",
    "    OurClass object\n",
    "    \"\"\"\n",
    "    \n",
    "    active = True\n",
    "\n",
    "    def is_active(self):\n",
    "        \"\"\"\n",
    "        Returns True if active\n",
    "        \"\"\"\n",
    "        return self.active\n",
    "    \n",
    "    def echo(self, arg):\n",
    "        print('OurClass.echo() was called.')\n",
    "        return arg\n",
    "\n",
    "    def echo1(self, arg, *args, **kwargs):\n",
    "        return arg, args, kwargs\n",
    "\n",
    "    def echo2(self, *args, **kwargs):\n",
    "        \"\"\"\n",
    "        This pattern becomes common when you look at source codes of mature 3rd party packages.\n",
    "        \"\"\"\n",
    "        return args, kwargs\n",
    "\n",
    "    def echo3(self, kwarg=False, **kwargs):\n",
    "        return kwarg, kwargs\n",
    "\n",
    "cls = OurClass()\n",
    "# help(cls)\n",
    "# dir(cls)"
   ]
  },
  {
   "cell_type": "markdown",
   "metadata": {},
   "source": [
    "Let's call echo()."
   ]
  },
  {
   "cell_type": "code",
   "execution_count": null,
   "metadata": {
    "collapsed": false
   },
   "outputs": [],
   "source": [
    "cls.echo('hello')"
   ]
  },
  {
   "cell_type": "code",
   "execution_count": null,
   "metadata": {
    "collapsed": true
   },
   "outputs": [],
   "source": [
    "# define a FatherClass with a can_sing method that returns True\n",
    "# and a MotherClass with a can_dance method that returns True\n",
    "# define a KLabEmployeeClass inheriting from both FatherClass and MotherClass\n",
    "# it should have a can_sing_and_dance method that returns true if self.can_sing and self.can_dance returns True\n",
    "# we'll use these classes in the next exercise\n",
    "\n",
    "\n",
    "\n",
    "\n",
    "\n",
    "\n",
    "\n",
    "\n",
    "\n",
    "\n",
    "\n",
    "\n",
    "\n",
    "\n"
   ]
  },
  {
   "cell_type": "markdown",
   "metadata": {},
   "source": [
    "## 12.6 Super\n",
    "\n",
    "There are times when we want to access the class ancestor's attributes. We might want to maintain the original functionality but modify it just a bit, but not rewrite the code. The `super()` function allows us to do exactly this. Consider the next example:"
   ]
  },
  {
   "cell_type": "code",
   "execution_count": null,
   "metadata": {
    "collapsed": false
   },
   "outputs": [],
   "source": [
    "class ThisClass(OurClass):\n",
    "\n",
    "    def echo(self, arg):\n",
    "        print('ThisClass.echo() start.')\n",
    "        super().echo(arg)\n",
    "        # super(ThisClass, self).echo(arg)\n",
    "        print('ThisClass.echo() end.')\n",
    "        return arg\n",
    "\n",
    "cls = ThisClass()\n",
    "cls.echo('thisclass')"
   ]
  },
  {
   "cell_type": "markdown",
   "metadata": {},
   "source": [
    "The echo method was overridden.\n",
    "\n",
    "A line of code was executed _before_ the original method.\n",
    "\n",
    "The original method was executed.\n",
    "\n",
    "Another line of code was executed _after_ the original method.\n",
    "\n",
    "Note that in Python 3, base class and type parameters are optional. What the code actually executes is `super(ThisClass, self).echo(arg)`"
   ]
  },
  {
   "cell_type": "markdown",
   "metadata": {},
   "source": [
    "The `super()` function is not restricted to your current object. You can use super on any of your object's parents or derived classes and on their methods. In the next example, note how we are using super on the object we are inheriting from."
   ]
  },
  {
   "cell_type": "code",
   "execution_count": null,
   "metadata": {
    "collapsed": false
   },
   "outputs": [],
   "source": [
    "class ThisClass(OurClass):\n",
    "\n",
    "    def echo(self, arg):\n",
    "        return super(OurClass, self).echo(arg)\n",
    "\n",
    "cls = ThisClass()\n",
    "cls.echo('thisclass')"
   ]
  },
  {
   "cell_type": "markdown",
   "metadata": {},
   "source": [
    "Our example used the `echo()` method of our object's \"grandfather\", not it's parent's `echo()` method."
   ]
  },
  {
   "cell_type": "code",
   "execution_count": null,
   "metadata": {
    "collapsed": false
   },
   "outputs": [],
   "source": [
    "class ThisClass(OurClass):\n",
    "\n",
    "    def echo(self, arg):\n",
    "        result = super().echo(arg) # you can even select which object's parent object\n",
    "        return result\n",
    "\n",
    "cls = ThisClass()\n",
    "cls.echo('thisclass')"
   ]
  },
  {
   "cell_type": "markdown",
   "metadata": {},
   "source": [
    "The result of the inherited method was assiged to a variable. We then returned the variable."
   ]
  },
  {
   "cell_type": "code",
   "execution_count": null,
   "metadata": {
    "collapsed": true
   },
   "outputs": [],
   "source": [
    "# we need to modify our FatherClass and KLabEmployeeClass\n",
    "\n",
    "# modify the FatherClass.can_sing() method by printing \"bow\" after singing\n",
    "\n",
    "# add a location attribute to KLabEmployeeClass with a default value of None\n",
    "# modify its can_sing method to check first if the location is 'home',\n",
    "# if so, proceed with its inherited method, otherwise, return False\n",
    "# (should also print bow at the end of song but without rewriting the method... use super)\n",
    "\n",
    "\n",
    "\n",
    "\n",
    "\n",
    "\n",
    "\n",
    "\n",
    "\n",
    "\n",
    "\n",
    "\n",
    "\n"
   ]
  },
  {
   "cell_type": "markdown",
   "metadata": {},
   "source": [
    "## 12.7 Packing/Unpacking Method Arguments\n",
    "\n",
    "Packing and unpacking arguments and keyword arguments can be used in any function but it becomes more useful in class methods. Objects may be subclassed and methods may be overridden. These objects may be yours or from a 3rd party package you're using. This syntax allows objects to work without being restricted to predefined arguments and without external knowledge of other objects or data. It helps with preventing unintentionally breaking functionality."
   ]
  },
  {
   "cell_type": "markdown",
   "metadata": {},
   "source": [
    "### Bringing it all together\n",
    "\n",
    "This notebook discussed several topics related to objects, from language-defined variables, single inheritance to multiple inheritance, to required, default and optional as well as starred arguments/keyword arguments, and some uses of the `super()` function. Each of the examples can easily be translated to real-life examples.\n",
    "\n",
    "You might consider using star arguments/keyword arguments pattern for high inter-operability with other objects while limiting the required knowledge about them. You will also find that methods that use this are easier to work with while letting data flow through an application. This pattern is common in mature frameworks.\n",
    "\n",
    "Below are some example classes that could be in use within various parts of an example application. We don't know how they are being implemented but we are sure that the code won't break because new arguments need to be added. Other objects may be subclassing them, inheriting their properties and calling their methods, but our code will continue to function."
   ]
  },
  {
   "cell_type": "code",
   "execution_count": null,
   "metadata": {
    "collapsed": false,
    "scrolled": false
   },
   "outputs": [],
   "source": [
    "class BaseExampleObject(object):\n",
    "    \"\"\"\n",
    "    This object provides an alternate initialization method.\n",
    "    \"\"\"\n",
    "\n",
    "    def __init__(self, *args, **kwargs):\n",
    "        print('Doing normal init')\n",
    "        pass\n",
    "\n",
    "    def _init_(self, *args, **kwargs):\n",
    "        \"\"\"\n",
    "        Alternate initialization method.\n",
    "        \"\"\"\n",
    "        print('Doing alternate init')\n",
    "        pass\n",
    "\n",
    "\n",
    "class ExampleObject(BaseExampleObject):\n",
    "    \"\"\"\n",
    "    This object uses the alternate initialization method.\n",
    "    \"\"\"\n",
    "\n",
    "    def __init__(self, *args, **kwargs):\n",
    "        print('ExampleObject')\n",
    "        return super()._init_(self, *args, **kwargs)\n",
    "\n",
    "\n",
    "class ExampleBackupObject(BaseExampleObject):\n",
    "    \"\"\"\n",
    "    This object initializes normally but also does a backup process.\n",
    "    \"\"\"\n",
    "\n",
    "    def __init__(self, *args, **kwargs):\n",
    "        print('\\nExampleBackupObject')\n",
    "        self.backup(*args, **kwargs)\n",
    "        return super().__init__(self, *args, **kwargs)\n",
    "\n",
    "    def backup(self, *args, **kwargs):\n",
    "        \"\"\"\n",
    "        do_backup(*args, **kwargs)\n",
    "        \"\"\"\n",
    "        print('Backing up')\n",
    "        pass\n",
    "\n",
    "\n",
    "class AlternateExampleBackupObject(ExampleObject, ExampleBackupObject):\n",
    "    \"\"\"\n",
    "    This object uses the alternate initialization method and does a backup process.\n",
    "    \"\"\"\n",
    "\n",
    "    def __init__(self, *args, **kwargs):\n",
    "        print('\\nAlternateExampleBackupObject')\n",
    "        self.backup(*args, **kwargs)\n",
    "        return super().__init__(self, *args, **kwargs)\n",
    "\n",
    "\n",
    "class NewInit(object):\n",
    "\n",
    "    def __init__(self, *args, **kwargs):\n",
    "        print(\"Doing new init\")\n",
    "        pass\n",
    "\n",
    "    \n",
    "class NewInitExampleObject(NewInit, ExampleObject):\n",
    "    \"\"\"\n",
    "    This object was injected with a new initialization method and does a backup process.\n",
    "    \"\"\"\n",
    "\n",
    "    def __init__(self, *args, **kwargs):\n",
    "        \"\"\"\n",
    "        Call new init function from injected object.\n",
    "        \"\"\"\n",
    "        print('\\nSuper dependency injection achieved')\n",
    "        return super().__init__(self, *args, **kwargs)\n",
    "\n",
    "for cls in [ExampleObject, ExampleBackupObject, AlternateExampleBackupObject, NewInitExampleObject]:\n",
    "    cls()  # instantiate each object in our list of objects so we see what they do"
   ]
  },
  {
   "cell_type": "code",
   "execution_count": null,
   "metadata": {
    "collapsed": true
   },
   "outputs": [],
   "source": [
    "# create a shape interface class that as a perimeter method\n",
    "# create various shape classes that inherit from our shape interface\n",
    "# they should each implement the perimeter method by calculating from their shape attributes\n",
    "# shape classes can accept any keyword arguments but can only calculate from valid attributes with numerical values:\n",
    "# square = side\n",
    "# rectangle = length, width\n",
    "# triangle = a, b, c\n",
    "# circle = radius\n",
    "# circle should print a deprecation warning for perimeter and recommend the circumference method\n",
    "# the circumference method should implement the calculation\n",
    "\n",
    "\n",
    "\n",
    "\n",
    "\n",
    "\n",
    "\n",
    "\n",
    "\n",
    "\n",
    "\n",
    "\n",
    "\n",
    "\n",
    "\n",
    "\n",
    "\n",
    "\n",
    "\n",
    "\n",
    "\n",
    "\n",
    "\n",
    "\n"
   ]
  }
 ],
 "metadata": {
  "kernelspec": {
   "display_name": "Python 3",
   "language": "python",
   "name": "python3"
  },
  "language_info": {
   "codemirror_mode": {
    "name": "ipython",
    "version": 3
   },
   "file_extension": ".py",
   "mimetype": "text/x-python",
   "name": "python",
   "nbconvert_exporter": "python",
   "pygments_lexer": "ipython3",
   "version": "3.5.1"
  }
 },
 "nbformat": 4,
 "nbformat_minor": 0
}
