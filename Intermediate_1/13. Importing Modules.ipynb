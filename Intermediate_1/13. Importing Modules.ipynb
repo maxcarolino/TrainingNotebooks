{
 "cells": [
  {
   "cell_type": "markdown",
   "metadata": {},
   "source": [
    "# 13.1 Python's Import System\n",
    "\n",
    "Python has an import module that allows you to access code that is external, relative to your script. There are various ways of importing but the most common way is via the __`import`__ statement. Python's import system can get deep and it's more than what we need but [the documentation](https://docs.python.org/3.5/reference/import.html) is a good source if you want to learn more.\n",
    "\n",
    "Now is a good time to make a distinction between packages and modules. To quote the documentation and reference:\n",
    "\n",
    "> You can think of packages as the directories on a file system and modules as files within directories, but don’t take this analogy too literally since packages and modules need not originate from the file system. For the purposes of this documentation, we’ll use this convenient analogy of directories and files. Like file system directories, packages are organized hierarchically, and packages may themselves contain subpackages, as well as regular modules.\n",
    "\n",
    "\n",
    "#### Pakcage\n",
    "\n",
    "> Python module which can contain submodules or recursively, subpackages. Technically, a package is a Python module with a `__path__` attribute.\n",
    "\n",
    "#### Module\n",
    "\n",
    "> An object that serves as an organizational unit of Python code. Modules have a namespace containing arbitrary Python objects. Modules are loaded into Python by the process of importing."
   ]
  },
  {
   "cell_type": "markdown",
   "metadata": {},
   "source": [
    "## 13.1.1 Modules\n",
    "\n",
    "While Python has many built-in modules, there are more 3rd party modules that you can use. You'll need to install or download them in order to use them.\n",
    "\n",
    "To import a module, just type `import module_name`.\n",
    "\n",
    "### 13.1.1.1 [os.path](https://docs.python.org/3.5/library/os.path.html#module-os.path)\n",
    "\n",
    "You'll be using [`os.path`](https://docs.python.org/3.5/library/os.path.html#module-os.path) a lot when referring to your files since hardcoded paths will prevent your code from being portable."
   ]
  },
  {
   "cell_type": "code",
   "execution_count": 10,
   "metadata": {
    "collapsed": false
   },
   "outputs": [],
   "source": [
    "import os\n",
    "# help(os)"
   ]
  },
  {
   "cell_type": "code",
   "execution_count": 2,
   "metadata": {
    "collapsed": false
   },
   "outputs": [
    {
     "data": {
      "text/plain": [
       "'/Users/maxcarolino/python_training_notebooks/TrainingNotebooks/Intermediate_1/__main__'"
      ]
     },
     "execution_count": 2,
     "metadata": {},
     "output_type": "execute_result"
    }
   ],
   "source": [
    "os.path.abspath(__name__)"
   ]
  },
  {
   "cell_type": "code",
   "execution_count": 3,
   "metadata": {
    "collapsed": false
   },
   "outputs": [
    {
     "data": {
      "text/plain": [
       "'/Users/maxcarolino/python_training_notebooks/TrainingNotebooks/Intermediate_1'"
      ]
     },
     "execution_count": 3,
     "metadata": {},
     "output_type": "execute_result"
    }
   ],
   "source": [
    "os.path.dirname(os.path.abspath(__name__))"
   ]
  },
  {
   "cell_type": "markdown",
   "metadata": {},
   "source": [
    "#### [`__name__`](https://docs.python.org/3.5/tutorial/modules.html#modules)\n",
    "\n",
    "> Within a module, the module’s name (as a string) is available as the value of the global variable `__name__`.\n",
    "\n",
    "`__name__`, and all other variables surrounded by double underlines, are special variables defined by Python.\n",
    "\n",
    "In our example, we imported `os` and used `os.path`. We can specifically import `path` without importing the whole of `os` by prefixing our import statement with `from`."
   ]
  },
  {
   "cell_type": "code",
   "execution_count": 4,
   "metadata": {
    "collapsed": false
   },
   "outputs": [
    {
     "data": {
      "text/plain": [
       "'/Users/maxcarolino/python_training_notebooks/TrainingNotebooks/Intermediate_1/__main__'"
      ]
     },
     "execution_count": 4,
     "metadata": {},
     "output_type": "execute_result"
    }
   ],
   "source": [
    "from os import path\n",
    "path.abspath(__name__)"
   ]
  },
  {
   "cell_type": "code",
   "execution_count": 5,
   "metadata": {
    "collapsed": false
   },
   "outputs": [
    {
     "data": {
      "text/plain": [
       "'/Users/maxcarolino/python_training_notebooks/TrainingNotebooks/Intermediate_1'"
      ]
     },
     "execution_count": 5,
     "metadata": {},
     "output_type": "execute_result"
    }
   ],
   "source": [
    "path.dirname(path.abspath(__name__))"
   ]
  },
  {
   "cell_type": "markdown",
   "metadata": {},
   "source": [
    "We can also import abspath and dirname directly from path."
   ]
  },
  {
   "cell_type": "code",
   "execution_count": 6,
   "metadata": {
    "collapsed": false
   },
   "outputs": [
    {
     "data": {
      "text/plain": [
       "'/Users/maxcarolino/python_training_notebooks/TrainingNotebooks/Intermediate_1/__main__'"
      ]
     },
     "execution_count": 6,
     "metadata": {},
     "output_type": "execute_result"
    }
   ],
   "source": [
    "from os.path import abspath, dirname\n",
    "abspath(__name__)"
   ]
  },
  {
   "cell_type": "code",
   "execution_count": 7,
   "metadata": {
    "collapsed": false
   },
   "outputs": [
    {
     "data": {
      "text/plain": [
       "'/Users/maxcarolino/python_training_notebooks/TrainingNotebooks/Intermediate_1'"
      ]
     },
     "execution_count": 7,
     "metadata": {},
     "output_type": "execute_result"
    }
   ],
   "source": [
    "dirname(abspath(__name__))"
   ]
  },
  {
   "cell_type": "markdown",
   "metadata": {},
   "source": [
    "`import` works with built-in and pip installed packages, modules as well as variables, functions and classes."
   ]
  },
  {
   "cell_type": "markdown",
   "metadata": {},
   "source": [
    "### 13.1.1.2 [os.environ](https://docs.python.org/3.5/library/os.html#os.environ)\n",
    "\n",
    "There may be times when you want to set or retrieve environment variables for use in your application. These may be values you don't want to hardcode in your script for security or other purposes. `os.environ` lets us work with environment variables."
   ]
  },
  {
   "cell_type": "code",
   "execution_count": 8,
   "metadata": {
    "collapsed": false
   },
   "outputs": [
    {
     "data": {
      "text/plain": [
       "environ({'__PYVENV_LAUNCHER__': '/Library/Frameworks/Python.framework/Versions/3.5/bin/python3.5', 'USER': 'maxcarolino', 'TERM_SESSION_ID': 'EFE1B928-6521-4AAA-940D-4E10315DAFDF', 'JPY_PARENT_PID': '1027', 'LOGNAME': 'maxcarolino', 'TERM_PROGRAM': 'Apple_Terminal', 'TMPDIR': '/var/folders/l4/k_sklhw54h160xb03yjc63t40000gp/T/', 'Apple_PubSub_Socket_Render': '/private/tmp/com.apple.launchd.bQuzrlJN8e/Render', '_': '/Library/Frameworks/Python.framework/Versions/3.5/bin/jupyter', 'TERM': 'xterm-color', 'SHELL': '/bin/bash', 'LANG': 'en_US.UTF-8', '__CF_USER_TEXT_ENCODING': '0x1F6:0x0:0x0', 'SSH_AUTH_SOCK': '/private/tmp/com.apple.launchd.rFebGBSDtZ/Listeners', 'TERM_PROGRAM_VERSION': '343.7', 'PWD': '/Users/maxcarolino/python_training_notebooks/TrainingNotebooks/Intermediate_1', 'PATH': '/Library/Frameworks/Python.framework/Versions/3.5/bin:/usr/local/mysql/bin:/usr/local/bin:/usr/bin:/bin:/usr/sbin:/sbin:', 'SHLVL': '1', 'OLDPWD': '/Users/maxcarolino/python_training_notebooks/TrainingNotebooks', 'PAGER': 'cat', 'HOME': '/Users/maxcarolino', 'XPC_SERVICE_NAME': '0', 'GIT_PAGER': 'cat', 'CLICOLOR': '1', 'XPC_FLAGS': '0x0'})"
      ]
     },
     "execution_count": 8,
     "metadata": {},
     "output_type": "execute_result"
    }
   ],
   "source": [
    "from os import environ\n",
    "environ  # let's see our environemnt variables"
   ]
  },
  {
   "cell_type": "code",
   "execution_count": 11,
   "metadata": {
    "collapsed": false
   },
   "outputs": [
    {
     "ename": "KeyError",
     "evalue": "'NOTEBOOK_DIRECTORY'",
     "output_type": "error",
     "traceback": [
      "\u001b[0;31m---------------------------------------------------------------------------\u001b[0m",
      "\u001b[0;31mKeyError\u001b[0m                                  Traceback (most recent call last)",
      "\u001b[0;32m<ipython-input-11-71591362127d>\u001b[0m in \u001b[0;36m<module>\u001b[0;34m()\u001b[0m\n\u001b[0;32m----> 1\u001b[0;31m \u001b[0menviron\u001b[0m\u001b[0;34m[\u001b[0m\u001b[0;34m\"NOTEBOOK_DIRECTORY\"\u001b[0m\u001b[0;34m]\u001b[0m\u001b[0;34m\u001b[0m\u001b[0m\n\u001b[0m",
      "\u001b[0;32m/Library/Frameworks/Python.framework/Versions/3.5/lib/python3.5/os.py\u001b[0m in \u001b[0;36m__getitem__\u001b[0;34m(self, key)\u001b[0m\n\u001b[1;32m    681\u001b[0m         \u001b[0;32mexcept\u001b[0m \u001b[0mKeyError\u001b[0m\u001b[0;34m:\u001b[0m\u001b[0;34m\u001b[0m\u001b[0m\n\u001b[1;32m    682\u001b[0m             \u001b[0;31m# raise KeyError with the original key value\u001b[0m\u001b[0;34m\u001b[0m\u001b[0;34m\u001b[0m\u001b[0m\n\u001b[0;32m--> 683\u001b[0;31m             \u001b[0;32mraise\u001b[0m \u001b[0mKeyError\u001b[0m\u001b[0;34m(\u001b[0m\u001b[0mkey\u001b[0m\u001b[0;34m)\u001b[0m \u001b[0;32mfrom\u001b[0m \u001b[0;32mNone\u001b[0m\u001b[0;34m\u001b[0m\u001b[0m\n\u001b[0m\u001b[1;32m    684\u001b[0m         \u001b[0;32mreturn\u001b[0m \u001b[0mself\u001b[0m\u001b[0;34m.\u001b[0m\u001b[0mdecodevalue\u001b[0m\u001b[0;34m(\u001b[0m\u001b[0mvalue\u001b[0m\u001b[0;34m)\u001b[0m\u001b[0;34m\u001b[0m\u001b[0m\n\u001b[1;32m    685\u001b[0m \u001b[0;34m\u001b[0m\u001b[0m\n",
      "\u001b[0;31mKeyError\u001b[0m: 'NOTEBOOK_DIRECTORY'"
     ]
    }
   ],
   "source": [
    "environ[\"NOTEBOOK_DIRECTORY\"]"
   ]
  },
  {
   "cell_type": "markdown",
   "metadata": {},
   "source": [
    "Let's try adding and deleting values to our environment variables."
   ]
  },
  {
   "cell_type": "code",
   "execution_count": 12,
   "metadata": {
    "collapsed": false
   },
   "outputs": [
    {
     "data": {
      "text/plain": [
       "'/Users/maxcarolino/python_training_notebooks/TrainingNotebooks/Intermediate_1'"
      ]
     },
     "execution_count": 12,
     "metadata": {},
     "output_type": "execute_result"
    }
   ],
   "source": [
    "environ.setdefault(\"NOTEBOOK_DIRECTORY\", os.path.dirname(os.path.abspath(__name__)))  # let's set a value"
   ]
  },
  {
   "cell_type": "code",
   "execution_count": 13,
   "metadata": {
    "collapsed": false
   },
   "outputs": [
    {
     "data": {
      "text/plain": [
       "'/Users/maxcarolino/python_training_notebooks/TrainingNotebooks/Intermediate_1'"
      ]
     },
     "execution_count": 13,
     "metadata": {},
     "output_type": "execute_result"
    }
   ],
   "source": [
    "environ.pop(\"NOTEBOOK_DIRECTORY\")"
   ]
  },
  {
   "cell_type": "markdown",
   "metadata": {},
   "source": [
    "`os.environ` returns a [mapping type](https://docs.python.org/3.5/glossary.html#term-mapping) object that works similar to a dictionary. Let's see if manipulating it like a dictionary works."
   ]
  },
  {
   "cell_type": "code",
   "execution_count": 14,
   "metadata": {
    "collapsed": false
   },
   "outputs": [],
   "source": [
    "environ[\"NOTEBOOK\"] = os.path.dirname(os.path.abspath(__name__))"
   ]
  },
  {
   "cell_type": "code",
   "execution_count": 18,
   "metadata": {
    "collapsed": false
   },
   "outputs": [
    {
     "ename": "KeyError",
     "evalue": "'NOTEBOOK'",
     "output_type": "error",
     "traceback": [
      "\u001b[0;31m---------------------------------------------------------------------------\u001b[0m",
      "\u001b[0;31mKeyError\u001b[0m                                  Traceback (most recent call last)",
      "\u001b[0;32m<ipython-input-18-733457847453>\u001b[0m in \u001b[0;36m<module>\u001b[0;34m()\u001b[0m\n\u001b[0;32m----> 1\u001b[0;31m \u001b[0;32mdel\u001b[0m \u001b[0menviron\u001b[0m\u001b[0;34m[\u001b[0m\u001b[0;34m\"NOTEBOOK\"\u001b[0m\u001b[0;34m]\u001b[0m\u001b[0;34m\u001b[0m\u001b[0m\n\u001b[0m",
      "\u001b[0;32m/Library/Frameworks/Python.framework/Versions/3.5/lib/python3.5/os.py\u001b[0m in \u001b[0;36m__delitem__\u001b[0;34m(self, key)\u001b[0m\n\u001b[1;32m    697\u001b[0m         \u001b[0;32mexcept\u001b[0m \u001b[0mKeyError\u001b[0m\u001b[0;34m:\u001b[0m\u001b[0;34m\u001b[0m\u001b[0m\n\u001b[1;32m    698\u001b[0m             \u001b[0;31m# raise KeyError with the original key value\u001b[0m\u001b[0;34m\u001b[0m\u001b[0;34m\u001b[0m\u001b[0m\n\u001b[0;32m--> 699\u001b[0;31m             \u001b[0;32mraise\u001b[0m \u001b[0mKeyError\u001b[0m\u001b[0;34m(\u001b[0m\u001b[0mkey\u001b[0m\u001b[0;34m)\u001b[0m \u001b[0;32mfrom\u001b[0m \u001b[0;32mNone\u001b[0m\u001b[0;34m\u001b[0m\u001b[0m\n\u001b[0m\u001b[1;32m    700\u001b[0m \u001b[0;34m\u001b[0m\u001b[0m\n\u001b[1;32m    701\u001b[0m     \u001b[0;32mdef\u001b[0m \u001b[0m__iter__\u001b[0m\u001b[0;34m(\u001b[0m\u001b[0mself\u001b[0m\u001b[0;34m)\u001b[0m\u001b[0;34m:\u001b[0m\u001b[0;34m\u001b[0m\u001b[0m\n",
      "\u001b[0;31mKeyError\u001b[0m: 'NOTEBOOK'"
     ]
    }
   ],
   "source": [
    "del environ[\"NOTEBOOK\"]"
   ]
  },
  {
   "cell_type": "markdown",
   "metadata": {},
   "source": [
    "## 13.1.2 Local Packages\n",
    "\n",
    "Import also works with local packages but there's one requirement - the [`__init__.py`](https://docs.python.org/3.5/tutorial/modules.html#packages) file.\n",
    "\n",
    "> The `__init__.py` files are required to make Python treat the directories as containing packages; this is done to prevent directories with a common name, such as string, from unintentionally hiding valid modules that occur later on the module search path. In the simplest case, `__init__.py` can just be an empty file, but it can also execute initialization code for the package or...\n",
    "\n",
    "And to use this in code, the \"**dotted name**\" is used.\n",
    "\n",
    "![Folder image](./Images/folder.png)"
   ]
  },
  {
   "cell_type": "markdown",
   "metadata": {},
   "source": [
    "## 13.1.3 [Aliasing](https://www.python.org/dev/peps/pep-0221/)\n",
    "\n",
    "Aside from allowing us to use external code from modules, `import` also binds the module to a name in the local scope. Modules have the possibility of having the same name so is it possible to import modules with the same name?\n",
    "\n",
    "Modules can't share the same name in the local scope but they can be bound to an alias. For example, if we needed to import `path` from `os` (`os.path`) and `sys` (`sys.path`), Python lets us assign imports to an alias using the `as` keyword.\n",
    "\n",
    "```\n",
    "import numpy as np\n",
    "```\n",
    "\n",
    "The `as` keyword can be used in with any single import. It does not work on `import *`."
   ]
  },
  {
   "cell_type": "markdown",
   "metadata": {},
   "source": [
    "## 13.1.4 [Multiple Imports](https://www.python.org/dev/peps/pep-0328/)\n",
    "\n",
    "If you had to import multiple times from a single module, that can also be done in one line with the syntax:"
   ]
  },
  {
   "cell_type": "code",
   "execution_count": 20,
   "metadata": {
    "collapsed": true
   },
   "outputs": [],
   "source": [
    "from os import environ, path"
   ]
  },
  {
   "cell_type": "markdown",
   "metadata": {},
   "source": [
    "Lines can be broken in Python by putting a backslash `\\ ` at the end of a line and the code can continue on the next line with indentation:"
   ]
  },
  {
   "cell_type": "code",
   "execution_count": null,
   "metadata": {
    "collapsed": true
   },
   "outputs": [],
   "source": [
    "from os import environ, kill, path, urandom, wait, \\\n",
    "     walk, ..."
   ]
  },
  {
   "cell_type": "markdown",
   "metadata": {},
   "source": [
    "The same can be achieved by enclosing them in a parenthesis, the standard grouping mechanism in Python. This is the recommended way to import when it reaches multiple lines:"
   ]
  },
  {
   "cell_type": "code",
   "execution_count": 19,
   "metadata": {
    "collapsed": false
   },
   "outputs": [
    {
     "ename": "SyntaxError",
     "evalue": "invalid syntax (<ipython-input-19-fc20bb885f66>, line 2)",
     "output_type": "error",
     "traceback": [
      "\u001b[0;36m  File \u001b[0;32m\"<ipython-input-19-fc20bb885f66>\"\u001b[0;36m, line \u001b[0;32m2\u001b[0m\n\u001b[0;31m    walk, ...)\u001b[0m\n\u001b[0m            ^\u001b[0m\n\u001b[0;31mSyntaxError\u001b[0m\u001b[0;31m:\u001b[0m invalid syntax\n"
     ]
    }
   ],
   "source": [
    "from os import (environ, kill, path, urandom, wait,\n",
    "     walk, ...)"
   ]
  },
  {
   "cell_type": "code",
   "execution_count": null,
   "metadata": {
    "collapsed": false
   },
   "outputs": [],
   "source": [
    "import folder\n",
    "# folder.module.function\n",
    "# folder.module.Class"
   ]
  },
  {
   "cell_type": "code",
   "execution_count": null,
   "metadata": {
    "collapsed": false
   },
   "outputs": [],
   "source": [
    "from folder import module\n",
    "# module.function\n",
    "# module.Class"
   ]
  },
  {
   "cell_type": "code",
   "execution_count": null,
   "metadata": {
    "collapsed": true
   },
   "outputs": [],
   "source": [
    "from folder.module import function"
   ]
  },
  {
   "cell_type": "code",
   "execution_count": null,
   "metadata": {
    "collapsed": false
   },
   "outputs": [],
   "source": [
    "from folder.module import Class"
   ]
  },
  {
   "cell_type": "markdown",
   "metadata": {},
   "source": [
    "# 13.2 Common Modules\n",
    "\n",
    "Let's try more Python modules to give you a better idea about what you can do. We'll look at random and datetime. Then we'll look at modules related to the web, json and requests, with the latter being a 3rd party module used for http requests."
   ]
  },
  {
   "cell_type": "markdown",
   "metadata": {},
   "source": [
    "## 13.2.1 `datetime`\n",
    "\n",
    "[datetime.datetime](https://docs.python.org/3.5/library/datetime.html)\n",
    "\n",
    "Attributes: year, month, day, hour, minute, second, microsecond, and tzinfo."
   ]
  },
  {
   "cell_type": "code",
   "execution_count": 21,
   "metadata": {
    "collapsed": true
   },
   "outputs": [],
   "source": [
    "from datetime import datetime\n",
    "now = datetime.now()"
   ]
  },
  {
   "cell_type": "code",
   "execution_count": 22,
   "metadata": {
    "collapsed": false
   },
   "outputs": [
    {
     "data": {
      "text/plain": [
       "datetime.datetime(2016, 4, 22, 14, 11, 10, 103361)"
      ]
     },
     "execution_count": 22,
     "metadata": {},
     "output_type": "execute_result"
    }
   ],
   "source": [
    "# try some of now's attributes, better yet, use introspection and explore\n",
    "now"
   ]
  },
  {
   "cell_type": "markdown",
   "metadata": {},
   "source": [
    "## 13.2.2 `random`\n",
    "\n",
    "[random.randrange()](https://docs.python.org/3.5/library/random.html#random.randrange)\n",
    "\n",
    "[random.choice()](https://docs.python.org/3.5/library/random.html#random.choice)\n",
    "    \n",
    "[random.random()](https://docs.python.org/3.5/library/random.html#random.random)"
   ]
  },
  {
   "cell_type": "code",
   "execution_count": 23,
   "metadata": {
    "collapsed": true
   },
   "outputs": [],
   "source": [
    "import random"
   ]
  },
  {
   "cell_type": "code",
   "execution_count": 49,
   "metadata": {
    "collapsed": false
   },
   "outputs": [
    {
     "name": "stdout",
     "output_type": "stream",
     "text": [
      "39, 34, 0.9473981120545122\n"
     ]
    }
   ],
   "source": [
    "# try some of the methods above\n",
    "# feel free to explore while reading the documentation\n",
    "rand1 = random.randrange(1,100)\n",
    "rand2 = random.choice(range(1,50))\n",
    "rand3 = random.random()\n",
    "print(\"{}, {}, {}\".format(rand1, rand2, rand3))"
   ]
  },
  {
   "cell_type": "markdown",
   "metadata": {},
   "source": [
    "## 13.2.3 `json`\n",
    "\n",
    "[json.dumps](https://docs.python.org/3.5/library/json.html#json.dumps)\n",
    "\n",
    "[json.loads](https://docs.python.org/3.5/library/json.html#json.dumps)"
   ]
  },
  {
   "cell_type": "code",
   "execution_count": 50,
   "metadata": {
    "collapsed": true
   },
   "outputs": [],
   "source": [
    "import json\n",
    "dictionary = {\n",
    "    'key1': 'value1',\n",
    "    'key2': 'value2',\n",
    "    'key3': 'value3',\n",
    "    'key4': 'value4',\n",
    "    'key5': 'value5',\n",
    "    'key6': 'value6',\n",
    "}"
   ]
  },
  {
   "cell_type": "code",
   "execution_count": 51,
   "metadata": {
    "collapsed": false
   },
   "outputs": [],
   "source": [
    "# you can dump a dictionary to json.dumps and it's converted into a json string\n",
    "data = json.dumps(dictionary)"
   ]
  },
  {
   "cell_type": "code",
   "execution_count": 52,
   "metadata": {
    "collapsed": false
   },
   "outputs": [
    {
     "data": {
      "text/plain": [
       "'{\"key4\": \"value4\", \"key1\": \"value1\", \"key3\": \"value3\", \"key5\": \"value5\", \"key2\": \"value2\", \"key6\": \"value6\"}'"
      ]
     },
     "execution_count": 52,
     "metadata": {},
     "output_type": "execute_result"
    }
   ],
   "source": [
    "# it's a valid json string\n",
    "data"
   ]
  },
  {
   "cell_type": "code",
   "execution_count": 53,
   "metadata": {
    "collapsed": false
   },
   "outputs": [
    {
     "data": {
      "text/plain": [
       "{'key1': 'value1',\n",
       " 'key2': 'value2',\n",
       " 'key3': 'value3',\n",
       " 'key4': 'value4',\n",
       " 'key5': 'value5',\n",
       " 'key6': 'value6'}"
      ]
     },
     "execution_count": 53,
     "metadata": {},
     "output_type": "execute_result"
    }
   ],
   "source": [
    "# you can load json strings into json.loads and it's converted into a dictionary\n",
    "json.loads(data)"
   ]
  },
  {
   "cell_type": "markdown",
   "metadata": {},
   "source": [
    "## 13.2.4 [`requests`](http://docs.python-requests.org/en/latest/user/quickstart/)\n",
    "\n",
    "requests.get"
   ]
  },
  {
   "cell_type": "code",
   "execution_count": 69,
   "metadata": {
    "collapsed": false
   },
   "outputs": [
    {
     "name": "stdout",
     "output_type": "stream",
     "text": [
      "Collecting requests\n",
      "  Downloading requests-2.9.1-py2.py3-none-any.whl (501kB)\n",
      "\u001b[K    100% |████████████████████████████████| 503kB 764kB/s \n",
      "\u001b[?25hInstalling collected packages: requests\n",
      "Successfully installed requests-2.9.1\n",
      "\u001b[33mYou are using pip version 7.1.2, however version 8.1.1 is available.\n",
      "You should consider upgrading via the 'pip install --upgrade pip' command.\u001b[0m\n"
     ]
    }
   ],
   "source": [
    "# let's make sure you have the module\n",
    "! pip3 install requests"
   ]
  },
  {
   "cell_type": "code",
   "execution_count": 70,
   "metadata": {
    "collapsed": false
   },
   "outputs": [],
   "source": [
    "import requests"
   ]
  },
  {
   "cell_type": "code",
   "execution_count": 71,
   "metadata": {
    "collapsed": false
   },
   "outputs": [],
   "source": [
    "request = requests.get('http://127.0.0.1:8888') or requests.get('http://127.0.0.1:8889')  # your local jupyter server"
   ]
  },
  {
   "cell_type": "code",
   "execution_count": 72,
   "metadata": {
    "collapsed": false
   },
   "outputs": [
    {
     "data": {
      "text/plain": [
       "'http://127.0.0.1:8888/tree'"
      ]
     },
     "execution_count": 72,
     "metadata": {},
     "output_type": "execute_result"
    }
   ],
   "source": [
    "request.url"
   ]
  },
  {
   "cell_type": "code",
   "execution_count": 73,
   "metadata": {
    "collapsed": false
   },
   "outputs": [
    {
     "data": {
      "text/plain": [
       "200"
      ]
     },
     "execution_count": 73,
     "metadata": {},
     "output_type": "execute_result"
    }
   ],
   "source": [
    "request.status_code"
   ]
  },
  {
   "cell_type": "code",
   "execution_count": 74,
   "metadata": {
    "collapsed": false
   },
   "outputs": [
    {
     "name": "stdout",
     "output_type": "stream",
     "text": [
      "<!DOCTYPE HTML>\n",
      "<html>\n",
      "\n",
      "<head>\n",
      "    <meta charset=\"utf-8\">\n",
      "\n",
      "    <title>Home</title>\n",
      "    <link rel=\"shortcut icon\" type=\"image/x-icon\" href=\"/static/base/images/favicon.ico?v=30780f272ab4aac64aa073a841546240\">\n",
      "    <meta http-equiv=\"X-UA-Compatible\" content=\"IE=edge\" />\n",
      "    <link rel=\"stylesheet\" href=\"/static/components/jquery-ui/themes/smoothness/jquery-ui.min.css?v=9b2c8d3489227115310662a343fce11c\" type=\"text/css\" />\n",
      "    <link rel=\"stylesheet\" href=\"/static/components/jquery-typeahead/dist/jquery.typeahead.min.css?v=7afb461de36accb1aa133a1710f5bc56\" type=\"text/css\" />\n",
      "    <meta name=\"viewport\" content=\"width=device-width, initial-scale=1.0\">\n",
      "    \n",
      "    \n",
      "    <link rel=\"stylesheet\" href=\"/static/style/style.min.css?v=807166c81ded9672f91872a576572dcd\" type=\"text/css\"/>\n",
      "    \n",
      "    <link rel=\"stylesheet\" href=\"/custom/custom.css\" type=\"text/css\" />\n",
      "    <script src=\"/static/components/es6-promise/promise.min.js?v=f004a16cb856e0ff11781d01ec5ca8fe\" type=\"text/javascript\" charset=\"utf-8\"></script>\n",
      "    <script src=\"/static/components/requirejs/require.js?v=6da8be361b9ee26c5e721e76c6d4afce\" type=\"text/javascript\" charset=\"utf-8\"></script>\n",
      "    <script>\n",
      "      require.config({\n",
      "          \n",
      "          urlArgs: \"v=20160422135717\",\n",
      "          \n",
      "          baseUrl: '/static/',\n",
      "          paths: {\n",
      "            'auth/js/main': 'auth/js/main.min',\n",
      "            custom : '/custom',\n",
      "            nbextensions : '/nbextensions',\n",
      "            widgets : '/deprecatedwidgets',\n",
      "            kernelspecs : '/kernelspecs',\n",
      "            underscore : 'components/underscore/underscore-min',\n",
      "            backbone : 'components/backbone/backbone-min',\n",
      "            jquery: 'components/jquery/jquery.min',\n",
      "            bootstrap: 'components/bootstrap/js/bootstrap.min',\n",
      "            bootstraptour: 'components/bootstrap-tour/build/js/bootstrap-tour.min',\n",
      "            'jquery-ui': 'components/jquery-ui/ui/minified/jquery-ui.min',\n",
      "            moment: 'components/moment/moment',\n",
      "            codemirror: 'components/codemirror',\n",
      "            termjs: 'components/term.js/src/term',\n",
      "            typeahead: 'components/jquery-typeahead/dist/jquery.typeahead'\n",
      "          },\n",
      "\t  map: { // for backward compatibility\n",
      "\t    \"*\": {\n",
      "\t\t\"jqueryui\": \"jquery-ui\",\n",
      "\t    }\n",
      "\t  },\n",
      "          shim: {\n",
      "            typeahead: {\n",
      "              deps: [\"jquery\"],\n",
      "              exports: \"typeahead\"\n",
      "            },\n",
      "            underscore: {\n",
      "              exports: '_'\n",
      "            },\n",
      "            backbone: {\n",
      "              deps: [\"underscore\", \"jquery\"],\n",
      "              exports: \"Backbone\"\n",
      "            },\n",
      "            bootstrap: {\n",
      "              deps: [\"jquery\"],\n",
      "              exports: \"bootstrap\"\n",
      "            },\n",
      "            bootstraptour: {\n",
      "              deps: [\"bootstrap\"],\n",
      "              exports: \"Tour\"\n",
      "            },\n",
      "            \"jquery-ui\": {\n",
      "              deps: [\"jquery\"],\n",
      "              exports: \"$\"\n",
      "            }\n",
      "          },\n",
      "          waitSeconds: 30,\n",
      "      });\n",
      "\n",
      "      require.config({\n",
      "          map: {\n",
      "              '*':{\n",
      "                'contents': 'services/contents',\n",
      "              }\n",
      "          }\n",
      "      });\n",
      "    </script>\n",
      "\n",
      "    \n",
      "    \n",
      "\n",
      "</head>\n",
      "\n",
      "<body class=\"\" \n",
      "\n",
      "data-base-url=\"/\"\n",
      "data-notebook-path=\"\"\n",
      "data-terminals-available=\"True\"\n",
      "\n",
      ">\n",
      "\n",
      "<noscript>\n",
      "    <div id='noscript'>\n",
      "      IPython Notebook requires JavaScript.<br>\n",
      "      Please enable it to proceed.\n",
      "  </div>\n",
      "</noscript>\n",
      "\n",
      "<div id=\"header\">\n",
      "  <div id=\"header-container\" class=\"container\">\n",
      "  <div id=\"ipython_notebook\" class=\"nav navbar-brand pull-left\"><a href=\"/tree\" title='dashboard'><img src='/static/base/images/logo.png?v=7c4597ba713d804995e8f8dad448a397' alt='Jupyter Notebook'/></a></div>\n",
      "\n",
      "  \n",
      "  \n",
      "  \n",
      "\n",
      "    <span id=\"login_widget\">\n",
      "      \n",
      "    </span>\n",
      "\n",
      "  \n",
      "\n",
      "  \n",
      "\n",
      "  \n",
      "  \n",
      "  </div>\n",
      "  <div class=\"header-bar\"></div>\n",
      "\n",
      "  \n",
      "  \n",
      "</div>\n",
      "\n",
      "<div id=\"site\">\n",
      "\n",
      "\n",
      "  <div id=\"ipython-main-app\" class=\"container\">\n",
      "    <div id=\"tab_content\" class=\"tabbable\">\n",
      "      <ul id=\"tabs\" class=\"nav nav-tabs\">\n",
      "        <li class=\"active\"><a href=\"#notebooks\" data-toggle=\"tab\">Files</a></li>\n",
      "        <li><a href=\"#running\" data-toggle=\"tab\">Running</a></li>\n",
      "        <li><a href=\"#clusters\" data-toggle=\"tab\" class=\"clusters_tab_link\" >Clusters</a></li>\n",
      "      </ul>\n",
      "      <div class=\"tab-content\">\n",
      "        <div id=\"notebooks\" class=\"tab-pane active\">\n",
      "          <div id=\"notebook_toolbar\" class=\"row\">\n",
      "            <div class=\"col-sm-8 no-padding\">\n",
      "              <div class=\"dynamic-instructions\">\n",
      "                Select items to perform actions on them.\n",
      "              </div>\n",
      "              <div class=\"dynamic-buttons\">\n",
      "                  <button title=\"Duplicate selected\" class=\"duplicate-button btn btn-default btn-xs\">Duplicate</button>\n",
      "                  <button title=\"Rename selected\" class=\"rename-button btn btn-default btn-xs\">Rename</button>\n",
      "                  <button title=\"Shutdown selected notebook(s)\" class=\"shutdown-button btn btn-default btn-xs btn-warning\">Shutdown</button>\n",
      "                  <button title=\"Delete selected\" class=\"delete-button btn btn-default btn-xs btn-danger\"><i class=\"fa fa-trash\"></i></button>\n",
      "              </div>\n",
      "            </div>\n",
      "            <div class=\"col-sm-4 no-padding tree-buttons\">\n",
      "              <div class=\"pull-right\">\n",
      "                <form id='alternate_upload'  class='alternate_upload'>\n",
      "                  <span id=\"notebook_list_info\">\n",
      "                  <span class=\"btn btn-xs btn-default btn-upload\">\n",
      "                  <input  title=\"Click to browse for a file to upload.\" type=\"file\" name=\"datafile\" class=\"fileinput\" multiple='multiple'>\n",
      "                  Upload\n",
      "                  </span>\n",
      "                  </span>\n",
      "                </form>\n",
      "                <div id=\"new-buttons\" class=\"btn-group\">\n",
      "                  <button class=\"dropdown-toggle btn btn-default btn-xs\" data-toggle=\"dropdown\">\n",
      "                  <span>New</span>\n",
      "                  <span class=\"caret\"></span>\n",
      "                  </button>\n",
      "                  <ul id=\"new-menu\" class=\"dropdown-menu\">\n",
      "                    <li role=\"presentation\" id=\"new-file\">\n",
      "                      <a role=\"menuitem\" tabindex=\"-1\" href=\"#\">Text File</a>\n",
      "                    </li>\n",
      "                    <li role=\"presentation\" id=\"new-folder\">\n",
      "                      <a role=\"menuitem\" tabindex=\"-1\" href=\"#\">Folder</a>\n",
      "                    </li>\n",
      "                    \n",
      "                    <li role=\"presentation\" id=\"new-terminal\">\n",
      "                      <a role=\"menuitem\" tabindex=\"-1\" href=\"#\">Terminal</a>\n",
      "                    </li>\n",
      "                    \n",
      "                    <li role=\"presentation\" class=\"divider\"></li>\n",
      "                    <li role=\"presentation\" class=\"dropdown-header\" id=\"notebook-kernels\">Notebooks</li>\n",
      "                  </ul>\n",
      "                </div>\n",
      "                <div class=\"btn-group\">\n",
      "                    <button id=\"refresh_notebook_list\" title=\"Refresh notebook list\" class=\"btn btn-default btn-xs\"><i class=\"fa fa-refresh\"></i></button>\n",
      "                </div>\n",
      "              </div>\n",
      "            </div>\n",
      "          </div>\n",
      "          <div id=\"notebook_list\">\n",
      "            <div id=\"notebook_list_header\" class=\"row list_header\">\n",
      "              <div class=\"btn-group dropdown\" id=\"tree-selector\">\n",
      "                <button title=\"Select All / None\" type=\"button\" class=\"btn btn-default btn-xs\" id=\"button-select-all\">\n",
      "                  <input type=\"checkbox\" class=\"pull-left tree-selector\" id=\"select-all\"><span id=\"counter-select-all\">&nbsp;</span></input>\n",
      "                </button>\n",
      "                <button title=\"Select...\" class=\"btn btn-default btn-xs dropdown-toggle\" type=\"button\" id=\"tree-selector-btn\" data-toggle=\"dropdown\" aria-expanded=\"true\">\n",
      "                  <span class=\"caret\"></span>\n",
      "                  <span class=\"sr-only\">Toggle Dropdown</span>\n",
      "                </button>\n",
      "                <ul id='selector-menu' class=\"dropdown-menu\" role=\"menu\" aria-labelledby=\"tree-selector-btn\">\n",
      "                  <li role=\"presentation\"><a id=\"select-folders\" role=\"menuitem\" tabindex=\"-1\" href=\"#\" title=\"Select All Folders\"><i class=\"menu_icon folder_icon icon-fixed-width\"></i> Folders</a></li>\n",
      "                  <li role=\"presentation\"><a id=\"select-notebooks\" role=\"menuitem\" tabindex=\"-1\" href=\"#\" title=\"Select All Notebooks\"><i class=\"menu_icon notebook_icon icon-fixed-width\"></i> All Notebooks</a></li>\n",
      "                  <li role=\"presentation\"><a id=\"select-running-notebooks\" role=\"menuitem\" tabindex=\"-1\" href=\"#\" title=\"Select Running Notebooks\"><i class=\"menu_icon running_notebook_icon icon-fixed-width\"></i> Running</a></li>\n",
      "                  <li role=\"presentation\"><a id=\"select-files\" role=\"menuitem\" tabindex=\"-1\" href=\"#\" title=\"Select All Files\"><i class=\"menu_icon file_icon icon-fixed-width\"></i> Files</a></li>\n",
      "                </ul>\n",
      "              </div>\n",
      "              <div id=\"project_name\">\n",
      "                <ul class=\"breadcrumb\">\n",
      "                  <li><a href=\"/tree\"><i class=\"fa fa-home\"></i></a></li>\n",
      "                \n",
      "                </ul>\n",
      "              </div>\n",
      "            </div>\n",
      "          </div>\n",
      "        </div>\n",
      "        <div id=\"running\" class=\"tab-pane\">\n",
      "          <div id=\"running_toolbar\" class=\"row\">\n",
      "            <div class=\"col-sm-8 no-padding\">\n",
      "              <span id=\"running_list_info\">Currently running Jupyter processes</span>\n",
      "            </div>\n",
      "            <div class=\"col-sm-4 no-padding tree-buttons\">\n",
      "              <span id=\"running_buttons\" class=\"pull-right\">\n",
      "              <button id=\"refresh_running_list\" title=\"Refresh running list\" class=\"btn btn-default btn-xs\"><i class=\"fa fa-refresh\"></i></button>\n",
      "              </span>\n",
      "            </div>\n",
      "          </div>\n",
      "          <div class=\"panel-group\" id=\"accordion\" >\n",
      "            <div class=\"panel panel-default\">\n",
      "              <div class=\"panel-heading\">\n",
      "                <a data-toggle=\"collapse\" data-target=\"#collapseOne\" href=\"#\">\n",
      "                  Terminals\n",
      "                </a>\n",
      "              </div>\n",
      "              <div id=\"collapseOne\" class=\" collapse in\">\n",
      "                <div class=\"panel-body\">\n",
      "                  <div id=\"terminal_list\">\n",
      "                    <div id=\"terminal_list_header\" class=\"row list_placeholder\">\n",
      "                    \n",
      "                      <div> There are no terminals running. </div>\n",
      "                    \n",
      "                    </div>\n",
      "                  </div>\n",
      "                </div>\n",
      "              </div>\n",
      "            </div>\n",
      "            <div class=\"panel panel-default\">\n",
      "              <div class=\"panel-heading\">\n",
      "                <a data-toggle=\"collapse\" data-target=\"#collapseTwo\" href=\"#\">\n",
      "                  Notebooks\n",
      "                </a>\n",
      "              </div>\n",
      "              <div id=\"collapseTwo\" class=\" collapse in\">\n",
      "                <div class=\"panel-body\">\n",
      "                  <div id=\"running_list\">\n",
      "                    <div id=\"running_list_placeholder\" class=\"row list_placeholder\">\n",
      "                      <div> There are no notebooks running. </div>\n",
      "                    </div>\n",
      "                  </div>\n",
      "                </div>\n",
      "              </div>\n",
      "            </div>\n",
      "          </div>\n",
      "        </div>\n",
      "        <div id=\"clusters\" class=\"tab-pane\">\n",
      "          Clusters tab is now provided by IPython parallel.\n",
      "          See <a href=\"https://github.com/ipython/ipyparallel\">IPython parallel</a> for installation details.\n",
      "        </div>\n",
      "      </div><!-- class:tab-content -->\n",
      "    </div><!-- id:tab_content --> \n",
      "  </div><!-- ipython-main-app  -->\n",
      "\n",
      "\n",
      "</div>\n",
      "\n",
      "\n",
      "\n",
      "\n",
      "\n",
      "    \n",
      "\n",
      "\n",
      "\n",
      "    <script src=\"/static/tree/js/main.min.js?v=cee9d5ded70fc8733bb888581c22f633\" type=\"text/javascript\" charset=\"utf-8\"></script>\n",
      "\n",
      "\n",
      "\n",
      "</body>\n",
      "\n",
      "</html>\n"
     ]
    }
   ],
   "source": [
    "print(request.content.decode('utf8'))"
   ]
  },
  {
   "cell_type": "code",
   "execution_count": 75,
   "metadata": {
    "collapsed": false
   },
   "outputs": [
    {
     "name": "stdout",
     "output_type": "stream",
     "text": [
      "<!DOCTYPE html><!--\n",
      "       .o                                .o88       .o88\n",
      "      .88                                \"888       \"888\n",
      "    o8888oo  ooo  oooo  ooo. .oo.  .oo.   888oooo.   888  oooo d8b\n",
      "    \"\"888\"\"  888  \"888  \"888P\"Y88bP\"Y88b  d88' `88b  888  \"888\"\"8P\n",
      "      888    888   888   888   888   888  888   888  888   888\n",
      "      888 .  888   888   888   888   888  888.  888  888   888    .o.\n",
      "      \"888Y  `V88V\"V8P' o888o o888o o888o 88`bod8P' o888o d888b   Y8P\n",
      "\n",
      "                                                                        -->\n",
      "<!--[if lt IE 7]>      <html class=\"no-js ie ie6 lt-ie9 lt-ie8 lt-ie7 loginandregister-context en_US\" lang=\"en-US\"> <![endif]--><!--[if IE 7]>         <html class=\"no-js ie ie7 lt-ie9 lt-ie8 loginandregister-context en_US\" lang=\"en-US\"> <![endif]--><!--[if IE 8]>         <html class=\"no-js ie ie8 lt-ie9 loginandregister-context en_US\" lang=\"en-US\"> <![endif]--><!--[if IE 9]>         <html class=\"no-js ie9 loginandregister-context en_US\" lang=\"en-US\"> <![endif]--><!--[if gt IE 9]><!--> <html class=\"no-js  loginandregister-context en_US\" lang=\"en-US\"> <!--<![endif]--><head><title>Sign up | Tumblr</title>\n",
      "<link rel=\"manifest\" href=\"/manifest.json\"><!--[if ie]><meta http-equiv=\"X-UA-Compatible\" content=\"IE=Edge,chrome=1\"/><![endif]--><meta http-equiv=\"Content-Type\" content=\"text/html; charset=utf-8\"/><meta http-equiv=\"x-dns-prefetch-control\" content=\"off\"/><meta name=\"application-name\" content=\"Tumblr\"/><meta name=\"robots\" content=\"noodp,nooydir\" id=\"robots\"><meta name=\"description\" content=\"Post anything (from anywhere!), customize everything, and find and follow what you love.  Create your own Tumblr blog today.\" id=\"description\"><meta name=\"keywords\" content=\"tumblelog, blog, tumblog, tumbler, tumblr, tlog, microblog\" id=\"keywords\"><meta name=\"viewport\" content=\"width=960\" id=\"viewport\"><meta name=\"tumblr-form-key\" content=\"!1231461308135|pV5FVg0dZRVGZM9dlhuxJEANvU\" id=\"tumblr_form_key\"><meta name=\"tumblr-gpop\" content=\"Tumblr\" id=\"tumblr_gpop\"><meta name=\"msapplication-TileColor\" content=\"#2c4762\"/><meta name=\"msapplication-TileImage\" content=\"https://secure.assets.tumblr.com/images/msfavicon.png?_v=3a50b115b27423ff4e48b682bf1d7951\"/><link rel=\"shortcut icon\" href=\"https://secure.assets.tumblr.com/images/favicons/favicon.ico?_v=a891a6916b745ae20be499f98db2f875\" type=\"image/png\"/><link rel=\"apple-touch-icon\" sizes=\"60x60\" href=\"https://secure.assets.tumblr.com/images/apple-touch-icon-60x-60.png?_v=5f2461a21f46c7c138faf1d7493c07bf\" type=\"image/png\"/><link rel=\"apple-touch-icon\" sizes=\"76x76\" href=\"https://secure.assets.tumblr.com/images/apple-touch-icon-76x76.png?_v=171c9ead173076918357c151db425614\" type=\"image/png\"/><link rel=\"apple-touch-icon\" sizes=\"120x120\" href=\"https://secure.assets.tumblr.com/images/apple-touch-icon-120x120.png?_v=215c3504a44a2e48c27ed172c7897ce9\" type=\"image/png\"/><link rel=\"apple-touch-icon\" sizes=\"152x152\" href=\"https://secure.assets.tumblr.com/images/apple-touch-icon-152x152.png?_v=643be6a7bbce583b8e2c1b746705f7e2\" type=\"image/png\"/><link rel=\"icon\" sizes=\"any\" mask href=\"https://secure.assets.tumblr.com/images/tumblr_t_logo.svg?_v=a76a7a0a9febd29f1d395352efb65413\"><meta name=\"theme-color\" content=\"#36465d\"> <meta name=\"p:domain_verify\" content=\"d06c4fa470a9a6935c9a7b43d57eb7d2\"/>\n",
      "<link rel=\"stylesheet\" media=\"screen\" href=\"https://secure.assets.tumblr.com/assets/styles/global.css?_v=db4c0fe78ed6e64eee0a0266e292e390\">\n",
      "<link rel=\"stylesheet\" media=\"screen\" href=\"https://secure.assets.tumblr.com/client/prod/app/global.build.css?_v=0979186b7586dac860ac98f619946751\">\n",
      "<link rel=\"stylesheet\" media=\"screen\" href=\"https://secure.assets.tumblr.com/assets/styles/landing_pages/logged_out_dashboard.css?_v=3442fdea5fc75b2d93de9ac8e0b81273\">\n",
      "\n",
      "<link rel=\"stylesheet\" media=\"screen\" href=\"https://secure.assets.tumblr.com/assets/styles/posts/posts.css?_v=737794b12ea0ece626441c283e63b642\">\n",
      "\n",
      "<link rel=\"stylesheet\" media=\"screen\" href=\"https://secure.assets.tumblr.com/assets/styles/dashboard/notes_notifications.css?_v=40af38fe0beeb4d7e55d8774b29ad7cc\">\n",
      "\n",
      "<link rel=\"stylesheet\" media=\"screen\" href=\"https://secure.assets.tumblr.com/assets/styles/dashboard/new_post_buttons.css?_v=878fe499ef6e9b5a65814527cb79a0fa\">\n",
      "\n",
      "<link rel=\"stylesheet\" media=\"screen\" href=\"https://secure.assets.tumblr.com/assets/styles/password_strength_meter.css?_v=1d06f7aa6a16ec700b462e02f1c83f92\">\n",
      "<link rel=\"stylesheet\" media=\"screen\" href=\"https://secure.assets.tumblr.com/assets/styles/form_classic_onboarding.css?_v=1653db59ebad861a036428e5c2b1721a\">\n",
      "<link rel=\"stylesheet\" media=\"screen\" href=\"https://secure.assets.tumblr.com/client/prod/app/context/loginandregister/index.build.css?_v=7c7c87312db789ac70c1949b317782c1\">\n",
      "<script >\n",
      "            var tinyMCE,_sf_startpt=(new Date()).getTime();\n",
      "            var Tumblr = Tumblr || {};\n",
      "        </script><script type=\"text/javascript\" >\n",
      "     var __ = (function() {\n",
      "\n",
      "        var translation = {\n",
      "\n",
      "            \"There was an error. Please try again.\" : 'There was an error. Please try again.',\n",
      "            \"Oops. There was an error. Try again.\" : 'Oops. There was an error. Try again.',\n",
      "\n",
      "            \"Don't forget your email address!\" : 'Don\\'t forget your email address!',\n",
      "            \"You forgot to enter your email address!\" : 'You forgot to enter your email address!',\n",
      "\n",
      "            \"Don't forget your password!\" : 'Don\\'t forget your password!',\n",
      "            \"You forgot to enter your password!\" : 'You forgot to enter your password!',\n",
      "\n",
      "            \"Don't forget your username!\" : 'Don\\'t forget your username!',\n",
      "            \"You forgot to enter your username!\" : 'You forgot to enter your username!',\n",
      "\n",
      "            \"Verification is required. Please try again.\" : 'Verification is required. Please try again.',\n",
      "\n",
      "            \"Don't forget to tell us your age!\" : 'Don\\'t forget to tell us your age!',\n",
      "            \"You forgot to tell us your age.\" : 'You forgot to tell us your age.',\n",
      "\n",
      "            \"Please enter a number!\" : 'Please enter a number!',\n",
      "            \"Please enter your age as a number only!\" : 'Please enter your age as a number only!',\n",
      "\n",
      "            \"One more thing &ndash; please accept our Terms!\" : 'One more thing \\x26ndash; please accept our Terms!',\n",
      "            \"You must accept Tumblr's terms before proceeding.\" : 'You must accept Tumblr\\'s terms before proceeding.',\n",
      "\n",
      "            \"Don't forget to fill out the Captcha!\" : 'Don\\'t forget to fill out the Captcha!',\n",
      "            \"Please fill out the Captcha.\" : 'Please fill out the Captcha.',\n",
      "\n",
      "            \"That's not a valid email address. Please try again.\" : 'That\\'s not a valid email address. Please try again.',\n",
      "\n",
      "            \"That email address is already in use. Please try again.\" : 'That email address is already in use. Please try again.',\n",
      "            \"That email address is already associated with another account.\" : 'That email address is already associated with another account.',\n",
      "\n",
      "            \"Oops. Did you mean %1$s ?\" : 'Oops. Did you mean %1$s ?',\n",
      "\n",
      "            \"Please choose a stronger password.\" : 'Please choose a stronger password.',\n",
      "            \"Can't do dashes at the start or end. Middles only.\" : 'Can\\'t do dashes at the start or end. Middles only.',\n",
      "            \"Rule #14: You can't put Tumblr in your username.\" : 'Rule #14: You can\\'t put Tumblr in your username.',\n",
      "        };\n",
      "\n",
      "        return function(string) {\n",
      "            return translation[string] || string;\n",
      "        };\n",
      "\n",
      "    })();\n",
      "</script>\n",
      "<script>var _flags = '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' </script>\n",
      "<script crossorigin=\"anonymous\" src=\"https://secure.assets.tumblr.com/client/prod/app/header.build.js?_v=4a9d5dd4de63b8b5a96a800b9433f340\"></script>\n",
      "<script nonce=\"\">\n",
      "    (function(exports) {\n",
      "        'use strict';\n",
      "\n",
      "        exports.getRealNow = (function(p, ts) {\n",
      "            var start = (p && p.timing && p.timing.responseStart) || Date.now();\n",
      "            function getRealNow() {\n",
      "                return ts + (Date.now() - start);\n",
      "            };\n",
      "            getRealNow.startedAt = (new Date()).getTime();\n",
      "            getRealNow.realStartedAt = getRealNow();\n",
      "            return getRealNow;\n",
      "        })(window.performance, 1461308135000);\n",
      "    })(window.Tumblr || (window.Tumblr = {}));\n",
      "</script>\n",
      "<script >if (top != self) top.location = self.location;</script><script src=\"https://secure.assets.tumblr.com/languages/strings/en_US.js?1343\"></script><script crossorigin=\"anonymous\" src=\"https://secure.assets.tumblr.com/assets/scripts/tumblr/utils/exceptions.js?_v=d9c981097e19ddd4e05b50e906b5a76b\"></script>\n",
      "<script >\n",
      "            var _gaq = _gaq || [];\n",
      "            _gaq.push(['_setAccount', 'UA-97144-8']);\n",
      "            _gaq.push(['_setAllowLinker', true]);\n",
      "            _gaq.push(['_setDomainName', 'tumblr.com']);\n",
      "            _gaq.push(['_setCustomVar',4,'Rapid_Bucket_ID','OTHER',3]);\n",
      "            _gaq.push(['_setCustomVar',5,'Init_Page_View',true,3]);\n",
      "\n",
      "                            _gaq.push(['_setCustomVar', 2, 'User_Logged_In', 'No', 3]);\n",
      "                _gaq.push(['_trackPageview', '/?route=%2F']);\n",
      "            \n",
      "            (function() {\n",
      "                var s = document.createElement('script');\n",
      "                s.async = true;\n",
      "                var el = document.getElementsByTagName('script')[0];\n",
      "                s.src = ('https:' == document.location.protocol ? 'https://ssl' : 'http://www') + '.google-analytics.com/ga.js';\n",
      "                el.parentNode.insertBefore(s, el);\n",
      "            })();\n",
      "\n",
      "            // Google Universal Analytics\n",
      "            (function(i,s,o,g,r,a,m){i['GoogleAnalyticsObject']=r;i[r]=i[r]||function(){\n",
      "                (i[r].q=i[r].q||[]).push(arguments)},i[r].l=1*new Date();a=s.createElement(o),\n",
      "                m=s.getElementsByTagName(o)[0];a.async=1;a.src=g;m.parentNode.insertBefore(a,m)\n",
      "            })(window,document,'script','//www.google-analytics.com/analytics.js','ga');\n",
      "            ga('create', 'UA-97144-14', 'tumblr.com', {\n",
      "                'allowLinker': true,\n",
      "                'sampleRate': 0.7\n",
      "            });\n",
      "\n",
      "                            ga('set', 'dimension2', 'No');\n",
      "                ga('send', 'pageview', '/?route=%2F');\n",
      "            </script><iframe height=\"1\" width=\"1\" frameborder=\"0\" style=\"position:absolute;top:0;left:0;visibility:hidden;pointer-events:none;\" tabindex=\"-1\" allowtransparency=\"true\" src=\"https://cookiex.ngd.yahoo.com/v2/cexposer/SIG=11lum9jej/*https%3A//www.tumblr.com/yahoo_cookie_receiver.html\"></iframe></head><body id=\"account_actions_logged_out_dashboard\"        \n",
      "    class=\"flag--reblog-ui-refresh show_password_strength has_determine_step signup_get_started dash_b show_form loading recaptcha2 login-with-about identity base identity-refresh logged_out account_actions_logged_out_dashboard logged_out without_auto_paginate layout_onboarding\"        \n",
      "    ><div class=\"about-tumblr-showcase\"><div class=\"dash_b_form_container with_bg has_subheading\"><div class=\"dash_b_form_header\"><h1 class=\"logo-word large\" id=\"logo\"><a class=\"logo_anchor\" href=\"/\" aria-label=\"Tumblr\">Tumblr</a></h1>\n",
      "<h2 class=\"subheading\">Come for what you love.<br/>Stay for what you discover.</h2></div><div class=\"form-header-welcome\"><h2 class=\"section-title\">Okay, it&rsquo;s not actually hard to explain.</h2><p class=\"subheading\">We lied. But now you understand this thing. So come on in.</p></div><div class=\"dash_b_form\"><div id=\"signup_forms\" class=\"signup_forms clearfix\"><div id=\"signup_forms_container\" class=\"signup_forms_container clearfix\"><div id=\"signup_forms_panel\" class=\"signup_forms_panel clearfix\"><form class=\"signup_form_form\" id=\"signup_form\" method=\"post\" action=\"https://www.tumblr.com/svc/account/register\" data-secure-action=\"https://www.tumblr.com/login\" data-secure-ajax-action=\"https://www.tumblr.com/svc/account/register\"><div class=\"signup_view get_started\" id=\"signup_get_started\"></div><div class=\"signup_view determine\" id=\"signup_determine\"><div class=\"form_row form_row_email\"><label for=\"signup_determine\">Email</label><input type=\"email\" name=\"determine_email\" placeholder=\"Email\" id=\"signup_determine_email\"\n",
      "                                    data-required=\"required\" value=\"\" /><input type=\"password\" id=\"signup_password_hidden\"/></div></div><div class=\"signup_view account login\" id=\"signup_account\"><div class=\"form_row form_row_email\"><label for=\"signup_email\">Email</label><input type=\"email\" name=\"user[email]\" placeholder=\"Email\" id=\"signup_email\"                                     data-required=\"required\" value=\"\" /></div><div class=\"form_row form_row_password\"><label for=\"signup_password\">Password</label><input type=\"password\" name=\"user[password]\" placeholder=\"Password\" id=\"signup_password\" data-required=\"required\"/></div><div class=\"form_row username\"><label for=\"signup_username\">Username</label><input type=\"text\" name=\"tumblelog[name]\" class=\"signup_username\" placeholder=\"Username\" id=\"signup_username\" maxlength=\"32\" autocorrect=\"off\" autocapitalize=\"off\" value=\"\" /><span class=\"icon_checkmark signup_username_checkmark\"></span></div></div><div class=\"signup_view birthday\" id=\"signup_birthday\"><div class=\"form_row\"><div class=\"form_field age\"><label for=\"signup_age\" class=\"signup_age_label is_empty years_old\"><b></b> <span class=\"placeholder\">How old are you?</span></label><input type=\"text\" name=\"user[age]\" id=\"signup_age\" value=\"\" id=\"signup_age\" class=\"signup_age is_empty\" size=\"3\" min=\"1\" max=\"125\" data-required=\"required\" /></div></div><div class=\"form_row tos\"><input type=\"checkbox\" name=\"user[tos]\" id=\"signup_tos\" data-required=\"required\" value=\"1\"/> <label for=\"signup_tos\">I have read, understand, and agree to the Tumblr <a href=\"/policy/\" class=\"signup_terms_link\" target=\"_new\">Terms of Service</a>.</label></div></div><div class=\"captcha recaptcha2_captcha signup_view\" id=\"signup_register\"><div class=\"form_row\"><div class=\"g-recaptcha\" id=\"g-recaptcha\" data-sitekey=\"6LcaLgATAAAAAMfyoZjBXW33zuRRJq9pFvsE9HJJ\"></div></div></div>\n",
      "<div class=\"form_row_hidden\"><input type=\"hidden\" name=\"context\" value=\"no_referer\"/><input type=\"hidden\" name=\"version\" value=\"STANDARD\"/><input type=\"hidden\" name=\"follow\" value=\"\"/><input type=\"hidden\" name=\"form_key\" value=\"!1231461308135|pV5FVg0dZRVGZM9dlhuxJEANvU\" /><input type=\"hidden\" id=\"seen_suggestion\" name=\"seen_suggestion\" value=\"0\" /><input type=\"hidden\" id=\"used_suggestion\" name=\"used_suggestion\" value=\"0\" /><input type=\"hidden\" id=\"used_auto_suggestion\" name=\"used_auto_suggestion\" value=\"0\" /><input type=\"hidden\" id=\"about_tumblr_slide\" name=\"about_tumblr_slide\" value=\"\" /><input type=\"hidden\" id=\"random_username_suggestions\" name=\"random_username_suggestions\" value=\"[&quot;ScrumptiousParadiseKitten&quot;,&quot;DelightfulReviewSoul&quot;,&quot;UsuallyVirtualEnemy&quot;,&quot;LazyPoliceSweets&quot;,&quot;SaltyPoliceDragon&quot;]\"/></div>\n",
      "<button type=\"submit\" class=\"signup_forms_submit_helper\">Submit</button></form></div></div><ul class=\"signup_forms_errors\" id=\"signup_form_errors\"></ul><div id=\"suggested_usernames_container\" class=\"hidden\"><div class=\"popover popover_onboarding popover_menu popover_gradient nipple_on_left\" style=\"display:none;\"><div class=\"popover_inner\"><div class=\"username_note\"><strong>How about one of these?</strong><br/>(You can always change it later.)</div><div class=\"popover_header no_nipple\">Available usernames</div><ul id=\"suggested_usernames\"></ul></div></div></div><button class=\"chrome big signup_forms_submit touchy blue\" id=\"signup_forms_submit\"><span class=\"signup_get_started_btn\">Get Started</span><span class=\"signup_determine_btn\">Next</span><span class=\"signup_account_btn\">Sign up</span><span class=\"signup_birthday_btn\">Next</span><span class=\"signup_register_btn\"><span><b>Almost</b> <b>Done!</b></span></span><span class=\"signup_login_btn\">Log in</span></button><button class=\"chrome big signup_forms_submit touchy dark\" id=\"signup_login_button\"><span class=\"signup_get_started_btn\">Log In</span></button><div class=\"forgot_password_container\"><a href=\"/forgot_password\" class=\"forgot_password_link\" tabindex=\"-1\">Forgot your password?</a></div></div><div class=\"signup_waiting\" id=\"signup_waiting\"></div></div><div class=\"mobile-apps\"><ul class=\"apps\"><li class=\"app-item\"><a class=\"app-link app-ios\" href=\"https://app.appsflyer.com/id305343404?pid=tumblr_internal&amp;c=signup_page\" target=\"_blank\"></a></li><li class=\"app-item\"><a class=\"app-link app-android\" href=\"http://app.appsflyer.com/com.tumblr?pid=tumblr_internal&amp;c=signup_page\" target=\"_blank\"></a></li></ul></div>\n",
      "</div><div class=\"showcase\"><div class=\"section login-section active\" data-section=\"login\" data-section-title=\"Sign up\"><div id=\"fullscreen_post_bg\" class=\"fullscreen_post_bg\" style=\"background-image:url('https://41.media.tumblr.com/2d5c004196693c0832641f4adaffe827/tumblr_o5x0sfCqtc1soqdk4o1_1280.jpg');\"><img id=\"fullscreen_post_image\" src=\"https://41.media.tumblr.com/2d5c004196693c0832641f4adaffe827/tumblr_o5x0sfCqtc1soqdk4o1_1280.jpg\" alt=\"Posted by crdit\" /></div><div class=\"fullscreen_post_footer\"><div class=\"fullscreen_post_footer_inner\"><div class=\"footer_legal_links\"><a href=\"https://www.tumblr.com/policy\" target=\"_blank\" class=\"login_link policy_link terms\">Terms</a><a href=\"https://www.tumblr.com/privacy_policy\" target=\"_blank\" class=\"login_link policy_link privacy\">Privacy</a><a href=\"https://www.tumblr.com/jobs\" target=\"_blank\" class=\"login_link policy_link jobs\">Jobs</a><div data-drawer-open=\"helpform\" class=\"login_link support\">Support</div><iframe src=\"https://tumblr.com/hsts\" height=\"0\" width=\"0\" style=\"visibility:hidden;\"></iframe></div><div class=\"fullscreen_post_posted_by show\"><div class=\"post_info just_tumblelog\"  data-tumblelog=\"crdit\" data-id=\"143105349046\"><a href=\"http://caseyrichardson.net/post/143105349046/i-c-e-casey-richardson-new\" target=\"_blank\" rel=\"nofollow\" title=\"Posted by crdit\">Posted by <strong>crdit</strong></a><a href=\"http://caseyrichardson.net/post/143105349046/i-c-e-casey-richardson-new\" target=\"_blank\" rel=\"nofollow\" title=\"crdit\" class=\"post_avatar root_tumblelog\" id=\"post_avatar_143105349046\" style=\"background-image:url('https://31.media.tumblr.com/avatar_86bd6fc2877e_48.png');\"><img src=\"https://31.media.tumblr.com/avatar_86bd6fc2877e_48.png\" alt=\"crdit\" /></a></div>\n",
      "</div><script type=\"text/javascript\">!function(s){s.src='https://px.srvcs.tumblr.com/impixu?T=1461308135&J=eyJ0eXBlIjoicG9zdCIsInVybCI6Imh0dHA6XC9cL3d3dy50dW1ibHIuY29tXC8iLCJyZXF0eXBlIjowLCJyb3V0ZSI6IlwvIiwicG9zdHMiOlt7InBvc3RpZCI6IjE0MzEwNTM0OTA0NiIsImJsb2dpZCI6IjEwMjg5MjE2OCIsInNvdXJjZSI6MzJ9XX0=&U=BMMJOPKPMJ&K=154202d3e717dba88acfdecbc5dd5ac5fa0b418434656fd4f76edd95a0386ebe&R='.replace(/&R=[^&$]*/,'').concat('&R='+escape(document.referrer)).slice(0,2000).replace(/%.?.?$/,'');}(new Image());</script><noscript><img style=\"position:absolute;z-index:-3334;top:0px;left:0px;visibility:hidden;\" src=\"https://px.srvcs.tumblr.com/impixu?T=1461308135&J=eyJ0eXBlIjoicG9zdCIsInVybCI6Imh0dHA6XC9cL3d3dy50dW1ibHIuY29tXC8iLCJyZXF0eXBlIjowLCJyb3V0ZSI6IlwvIiwicG9zdHMiOlt7InBvc3RpZCI6IjE0MzEwNTM0OTA0NiIsImJsb2dpZCI6IjEwMjg5MjE2OCIsInNvdXJjZSI6MzJ9XSwibm9zY3JpcHQiOjF9&U=BMMJOPKPMJ&K=ee538fc8f73ff25e8fbf1ce7d49db5bc039442cb3d7262148c2ea43911c7ea87&R=\"></noscript></div></div><div class=\"about-tumblr-btn\">What is Tumblr?</div></div><div class=\"section about-section\" data-section=\"about\" data-section-title=\"So easy to use that it&rsquo;s hard to explain.\"><div class=\"section-wrapper\"><svg class=\"about-graphic\" version=\"1.1\" xmlns=\"http://www.w3.org/2000/svg\" xmlns:xlink=\"http://www.w3.org/1999/xlink\" x=\"0px\" y=\"0px\"\n",
      "     viewBox=\"0 0 284.5 221.8\" enable-background=\"new 0 0 284.5 221.8\" xml:space=\"preserve\"><g class=\"graphic-icon reblog-b\"><path fill=\"#56BC8A\" stroke=\"#47B27F\" stroke-width=\"2.6\" stroke-linecap=\"round\" stroke-linejoin=\"round\" stroke-miterlimit=\"10\" d=\"\n",
      "            M138.5,209.7l9-9v6.5h16.9v-2.4l6.7-6.7v13c0,1.6-1.3,2.9-2.9,2.9h-20.7v6.6l-9-9C138,211,138,210.2,138.5,209.7z\"/><path fill=\"#56BC8A\" stroke=\"#47B27F\" stroke-width=\"2.6\" stroke-linecap=\"round\" stroke-linejoin=\"round\" stroke-miterlimit=\"10\" d=\"\n",
      "            M139.1,191.8c0-1.6,1.3-2.9,2.9-2.9h20.7v-6.6l9,9c0.5,0.5,0.5,1.3,0,1.8l-9,9v-6.5h-16.9v2.4l-6.7,6.7V191.8z\"/></g><g class=\"graphic-icon reblog-a\"><path fill=\"#56BC8A\" stroke=\"#47B27F\" stroke-width=\"2.6\" stroke-linecap=\"round\" stroke-linejoin=\"round\" stroke-miterlimit=\"10\" d=\"\n",
      "            M81.7,37.9l10.7-10.6v7.7h19.9V32l7.9-7.9v15.3c0,1.9-1.5,3.4-3.4,3.4H92.3v7.7L81.7,39.9C81.1,39.4,81.1,38.4,81.7,37.9z\"/><path fill=\"#56BC8A\" stroke=\"#47B27F\" stroke-width=\"2.6\" stroke-linecap=\"round\" stroke-linejoin=\"round\" stroke-miterlimit=\"10\" d=\"\n",
      "            M82.4,16.8c0-1.9,1.5-3.4,3.4-3.4h24.4V5.6l10.7,10.6c0.6,0.6,0.6,1.5,0,2.1l-10.7,10.6v-7.7H90.3v2.9L82.4,32V16.8z\"/></g><g class=\"graphic-icon video-b\"><path fill=\"#56BC8A\" stroke=\"#47B27F\" stroke-width=\"2.6\" stroke-linecap=\"round\" stroke-linejoin=\"round\" stroke-miterlimit=\"10\" d=\"\n",
      "            M45.7,32.1v-0.6h3.1h0h0h0.1v0c3.7,0,6.8,2.4,8,5.7c0.8-2.3,2.6-4.2,4.9-5.1v-0.6h2.3c0.3,0,0.6,0,0.8,0c0.3,0,0.6,0,0.9,0h0v0\n",
      "            c4.3,0.4,7.7,4.1,7.7,8.5c0,4.7-3.8,8.6-8.6,8.6H48.9c-4.7,0-8.6-3.8-8.6-8.6C40.3,36.4,42.6,33.3,45.7,32.1z\"/><path fill=\"#56BC8A\" stroke=\"#47B27F\" stroke-width=\"2.6\" stroke-linecap=\"round\" stroke-linejoin=\"round\" stroke-miterlimit=\"10\" d=\"\n",
      "            M53.1,48.7h18.9c1.1,0,2,0.9,2,2v0.7c0,1.1-0.9,2-2,2h-1.9V65c0,1.1-1.4,2-2.7,2H53.1V48.7z\"/><path fill=\"#56BC8A\" stroke=\"#47B27F\" stroke-width=\"2.6\" stroke-linecap=\"round\" stroke-linejoin=\"round\" stroke-miterlimit=\"10\" d=\"\n",
      "            M30.1,48.4c0.2-0.1,0.4-0.1,0.6-0.1c0.4,0,0.8,0.2,1.1,0.5c0,0,6,6.1,6.1,6.3v-6.3h30.9v4.8h-3.6V65c0,1.1-1.4,2-2.7,2H40.5\n",
      "            c-1.2,0-2.7-0.8-2.7-1.9v-5.7c-0.1,0.2-6.1,6.3-6.1,6.3c-0.3,0.3-0.7,0.5-1.1,0.5c-0.2,0-0.4,0-0.6-0.1c-0.6-0.2-1-0.8-1-1.4V49.8\n",
      "            C29.1,49.2,29.5,48.7,30.1,48.4z\"/><line fill=\"#56BC8A\" stroke=\"#47B27F\" stroke-width=\"2.6\" stroke-linecap=\"round\" stroke-linejoin=\"round\" stroke-miterlimit=\"10\" x1=\"37.8\" y1=\"55\" x2=\"37.8\" y2=\"59.4\"/><path fill=\"#56BC8A\" stroke=\"#47B27F\" stroke-width=\"2.6\" stroke-linecap=\"round\" stroke-linejoin=\"round\" stroke-miterlimit=\"10\" d=\"\n",
      "            M45.7,31.5c3.7,0,6.9,2.4,8.1,5.7c1.2-3.3,4.3-5.7,8.1-5.7c4.7,0,8.6,3.8,8.6,8.6s-3.8,8.6-8.6,8.6H45.7c-4.7,0-8.6-3.8-8.6-8.6\n",
      "            S41,31.5,45.7,31.5z\"/><circle fill=\"#56BC8A\" stroke=\"#47B27F\" stroke-width=\"2.6\" stroke-linecap=\"round\" stroke-linejoin=\"round\" stroke-miterlimit=\"10\" cx=\"61.8\" cy=\"40\" r=\"3.2\"/><circle fill=\"#56BC8A\" stroke=\"#47B27F\" stroke-width=\"2.6\" stroke-linecap=\"round\" stroke-linejoin=\"round\" stroke-miterlimit=\"10\" cx=\"45.7\" cy=\"40\" r=\"3.2\"/><line fill=\"#56BC8A\" stroke=\"#47B27F\" stroke-width=\"2.6\" stroke-linecap=\"round\" stroke-linejoin=\"round\" stroke-miterlimit=\"10\" x1=\"65\" y1=\"31.5\" x2=\"61.8\" y2=\"31.5\"/><path fill=\"#56BC8A\" stroke=\"#47B27F\" stroke-width=\"2.6\" stroke-linecap=\"round\" stroke-linejoin=\"round\" stroke-miterlimit=\"10\" d=\"\n",
      "            M53.8,34.6c-0.2-0.6-0.8-1.2-1.4-1.4\"/><path fill=\"#56BC8A\" stroke=\"#47B27F\" stroke-width=\"2.6\" stroke-linecap=\"round\" stroke-linejoin=\"round\" stroke-miterlimit=\"10\" d=\"\n",
      "            M70.8,53.6c-1.1,0-2-0.9-2-2v-0.7c0-1.1,0.9-2,2-2\"/></g><g class=\"graphic-icon video-a\"><path fill=\"#56BC8A\" stroke=\"#47B27F\" stroke-width=\"2.6\" stroke-linecap=\"round\" stroke-linejoin=\"round\" stroke-miterlimit=\"10\" d=\"\n",
      "            M258.5,56.8v-0.7H255h0h0H255v0c-4.1,0-7.5,2.7-8.8,6.3c-0.9-2.6-2.9-4.6-5.4-5.6v-0.6h-2.6c-0.3,0-0.6,0-0.9,0c-0.3,0-0.6,0-1,0h0\n",
      "            v0c-4.8,0.5-8.5,4.5-8.5,9.4c0,5.2,4.2,9.4,9.4,9.4H255c5.2,0,9.4-4.2,9.4-9.4C264.5,61.6,262,58.2,258.5,56.8z\"/><path fill=\"#56BC8A\" stroke=\"#47B27F\" stroke-width=\"2.6\" stroke-linecap=\"round\" stroke-linejoin=\"round\" stroke-miterlimit=\"10\" d=\"\n",
      "            M250.3,75.1h-20.9c-1.2,0-2.2,1-2.2,2.2v0.8c0,1.2,1,2.2,2.2,2.2h2.1v12.7c0,1.2,1.6,2.2,2.9,2.2h15.9V75.1z\"/><path fill=\"#56BC8A\" stroke=\"#47B27F\" stroke-width=\"2.6\" stroke-linecap=\"round\" stroke-linejoin=\"round\" stroke-miterlimit=\"10\" d=\"\n",
      "            M275.8,74.8c-0.2-0.1-0.4-0.1-0.6-0.1c-0.4,0-0.9,0.2-1.2,0.5c0,0-6.6,6.7-6.7,6.9v-7h-34.1v5.3h4v12.7c0,1.2,1.6,2.2,2.9,2.2h24.2\n",
      "            c1.3,0,2.9-0.8,2.9-2.1v-6.3c0.1,0.2,6.7,6.9,6.7,6.9c0.3,0.3,0.8,0.5,1.2,0.5c0.2,0,0.4,0,0.6-0.1c0.6-0.3,1.1-0.9,1.1-1.6V76.4\n",
      "            C276.8,75.7,276.4,75.1,275.8,74.8z\"/><line fill=\"#56BC8A\" stroke=\"#47B27F\" stroke-width=\"2.6\" stroke-linecap=\"round\" stroke-linejoin=\"round\" stroke-miterlimit=\"10\" x1=\"267.2\" y1=\"82.1\" x2=\"267.2\" y2=\"86.9\"/><path fill=\"#56BC8A\" stroke=\"#47B27F\" stroke-width=\"2.6\" stroke-linecap=\"round\" stroke-linejoin=\"round\" stroke-miterlimit=\"10\" d=\"\n",
      "            M258.5,56.1c-4.1,0-7.6,2.6-8.9,6.3c-1.3-3.7-4.8-6.3-8.9-6.3c-5.2,0-9.4,4.2-9.4,9.4c0,5.2,4.2,9.4,9.4,9.4h17.8\n",
      "            c5.2,0,9.4-4.2,9.4-9.4C268,60.4,263.7,56.1,258.5,56.1z\"/><circle fill=\"#56BC8A\" stroke=\"#47B27F\" stroke-width=\"2.6\" stroke-linecap=\"round\" stroke-linejoin=\"round\" stroke-miterlimit=\"10\" cx=\"240.7\" cy=\"65.6\" r=\"3.6\"/><circle fill=\"#56BC8A\" stroke=\"#47B27F\" stroke-width=\"2.6\" stroke-linecap=\"round\" stroke-linejoin=\"round\" stroke-miterlimit=\"10\" cx=\"258.5\" cy=\"65.6\" r=\"3.6\"/><line fill=\"#56BC8A\" stroke=\"#47B27F\" stroke-width=\"2.6\" stroke-linecap=\"round\" stroke-linejoin=\"round\" stroke-miterlimit=\"10\" x1=\"237.2\" y1=\"56.1\" x2=\"240.7\" y2=\"56.1\"/><path fill=\"#56BC8A\" stroke=\"#47B27F\" stroke-width=\"2.6\" stroke-linecap=\"round\" stroke-linejoin=\"round\" stroke-miterlimit=\"10\" d=\"\n",
      "            M249.6,59.6c0.3-0.7,0.9-1.3,1.6-1.5\"/><path fill=\"#56BC8A\" stroke=\"#47B27F\" stroke-width=\"2.6\" stroke-linecap=\"round\" stroke-linejoin=\"round\" stroke-miterlimit=\"10\" d=\"\n",
      "            M230.9,80.5c1.2,0,2.2-1,2.2-2.2v-0.8c0-1.2-1-2.2-2.2-2.2\"/></g><g class=\"graphic-icon text-a\"><path fill=\"#56BC8A\" stroke=\"#47B27F\" stroke-width=\"2.6\" stroke-linecap=\"round\" stroke-linejoin=\"round\" stroke-miterlimit=\"10\" d=\"\n",
      "            M184.5,104.3l-2.3-7.1h-11.5l-2.3,7.1h-9.2L172,68.4h9.2l12.7,35.9H184.5z M179.9,89.8l-3.3-10.3l-3.4,10.3H179.9z\"/><path fill=\"#56BC8A\" stroke=\"#47B27F\" stroke-width=\"2.6\" stroke-linecap=\"round\" stroke-linejoin=\"round\" stroke-miterlimit=\"10\" d=\"\n",
      "            M204.7,105.1c-2.5,0-4.6-0.7-6.2-2.2c-1.7-1.5-2.5-3.5-2.5-6.2c0-3.4,1.4-5.9,4-7.5c1.4-0.8,3.5-1.4,6.2-1.7l2.3-0.3\n",
      "            c1.4-0.2,2.1-0.4,2.4-0.5c0.9-0.4,1-0.8,1-1.2c0-1-0.4-1.3-0.7-1.5c-0.6-0.3-1.6-0.5-2.9-0.5c-1.3,0-2.3,0.3-2.8,0.9\n",
      "            c-0.4,0.5-0.6,1.1-0.8,2l-0.1,0.6h-7.9l0.1-0.8c0.1-2.4,0.8-4.4,2-5.9c1.9-2.4,5.2-3.7,9.7-3.7c2.9,0,5.5,0.6,7.8,1.7\n",
      "            c2.4,1.2,3.7,3.6,3.7,6.9v11.7c0,0.8,0,1.8,0,2.9c0.1,1,0.2,1.3,0.3,1.4c0.1,0.2,0.4,0.4,0.7,0.5l0.4,0.2v2.2h-8.5l-0.2-0.5\n",
      "            c-0.2-0.6-0.4-1.1-0.5-1.6c0,0,0,0,0,0c-0.7,0.6-1.4,1.1-2.2,1.6C208.5,104.7,206.7,105.1,204.7,105.1z M211.6,92.6\n",
      "            c-0.5,0.2-1.1,0.3-1.9,0.5l-1.5,0.3c-1.7,0.3-2.4,0.6-2.8,0.8c-0.8,0.5-1.2,1.2-1.2,2.2c0,0.9,0.2,1.5,0.7,1.9\n",
      "            c0.5,0.4,1.1,0.6,1.9,0.6c1.3,0,2.5-0.4,3.6-1.1c1-0.7,1.5-2,1.6-4v-1.2C211.7,92.5,211.7,92.5,211.6,92.6z\"/></g><g class=\"graphic-icon photo-b\"><path fill=\"#56BC8A\" stroke=\"#47B27F\" stroke-width=\"2.6\" stroke-linecap=\"round\" stroke-linejoin=\"round\" stroke-miterlimit=\"10\" d=\"\n",
      "            M50.1,77.3H39.9l-1.9-2.9H21.8L20,77.3H9.8c-4.2,0-7.6,3.4-7.6,7.6v29.2c0,4.2,3.4,7.6,7.6,7.6h40.4c4.2,0,7.6-3.4,7.6-7.6V84.9\n",
      "            C57.7,80.8,54.3,77.3,50.1,77.3z\"/><path fill=\"#56BC8A\" stroke=\"#47B27F\" stroke-width=\"2.6\" stroke-linecap=\"round\" stroke-linejoin=\"round\" stroke-miterlimit=\"10\" d=\"\n",
      "            M58.8,77.3H48.6l-1.9-2.9H30.5l-1.9,2.9H18.4c-4.2,0-7.6,3.4-7.6,7.6v29.2c0,4.2,3.4,7.6,7.6,7.6h40.4c4.2,0,7.6-3.4,7.6-7.6V84.9\n",
      "            C66.4,80.8,62.9,77.3,58.8,77.3z\"/><path fill=\"#56BC8A\" stroke=\"#47B27F\" stroke-width=\"2.6\" stroke-linecap=\"round\" stroke-linejoin=\"round\" stroke-miterlimit=\"10\" d=\"\n",
      "            M38.7,117.2c-9.1,0-16.5-7.4-16.5-16.5c0-9.1,7.4-16.5,16.5-16.5h4.9v33H38.7z\"/><circle fill=\"#56BC8A\" stroke=\"#47B27F\" stroke-width=\"2.6\" stroke-linecap=\"round\" stroke-linejoin=\"round\" stroke-miterlimit=\"10\" cx=\"43.7\" cy=\"100.7\" r=\"16.5\"/><circle fill=\"#56BC8A\" stroke=\"#47B27F\" stroke-width=\"2.6\" stroke-linecap=\"round\" stroke-linejoin=\"round\" stroke-miterlimit=\"10\" cx=\"43.7\" cy=\"100.7\" r=\"9.4\"/><g><circle fill=\"#56BC8A\" stroke=\"#47B27F\" stroke-width=\"2.6\" stroke-linecap=\"round\" stroke-linejoin=\"round\" stroke-miterlimit=\"10\" cx=\"43.7\" cy=\"100.6\" r=\"7.8\"/><path fill=\"#56BC8A\" stroke=\"#47B27F\" stroke-width=\"2.6\" stroke-linecap=\"round\" stroke-linejoin=\"round\" stroke-miterlimit=\"10\" d=\"\n",
      "                M39.1,100.6c0-2.5,2.1-4.6,4.6-4.6\"/></g><circle fill=\"#56BC8A\" stroke=\"#47B27F\" stroke-width=\"2.6\" stroke-linecap=\"round\" stroke-linejoin=\"round\" stroke-miterlimit=\"10\" cx=\"59.1\" cy=\"83.7\" r=\"2.5\"/></g><g class=\"graphic-icon photo-a\"><path fill=\"#56BC8A\" stroke=\"#47B27F\" stroke-width=\"2.6\" stroke-linecap=\"round\" stroke-linejoin=\"round\" stroke-miterlimit=\"10\" d=\"\n",
      "            M223.1,159.8h-9l-1.7-2.6h-14.3l-1.7,2.6h-9c-3.7,0-6.7,3-6.7,6.7v25.8c0,3.7,3,6.7,6.7,6.7h35.6c3.7,0,6.7-3,6.7-6.7v-25.8\n",
      "            C229.8,162.8,226.8,159.8,223.1,159.8z\"/><path fill=\"#56BC8A\" stroke=\"#47B27F\" stroke-width=\"2.6\" stroke-linecap=\"round\" stroke-linejoin=\"round\" stroke-miterlimit=\"10\" d=\"\n",
      "            M230.7,159.8h-9l-1.7-2.6h-14.3l-1.7,2.6h-9c-3.7,0-6.7,3-6.7,6.7v25.8c0,3.7,3,6.7,6.7,6.7h35.6c3.7,0,6.7-3,6.7-6.7v-25.8\n",
      "            C237.4,162.8,234.4,159.8,230.7,159.8z\"/><path fill=\"#56BC8A\" stroke=\"#47B27F\" stroke-width=\"2.6\" stroke-linecap=\"round\" stroke-linejoin=\"round\" stroke-miterlimit=\"10\" d=\"\n",
      "            M213,194.9c-8.1,0-14.6-6.5-14.6-14.6c0-8.1,6.5-14.6,14.6-14.6h4.4v29.2H213z\"/><circle fill=\"#56BC8A\" stroke=\"#47B27F\" stroke-width=\"2.6\" stroke-linecap=\"round\" stroke-linejoin=\"round\" stroke-miterlimit=\"10\" cx=\"217.4\" cy=\"180.3\" r=\"14.6\"/><circle fill=\"#56BC8A\" stroke=\"#47B27F\" stroke-width=\"2.6\" stroke-linecap=\"round\" stroke-linejoin=\"round\" stroke-miterlimit=\"10\" cx=\"217.4\" cy=\"180.3\" r=\"8.3\"/><g><circle fill=\"#56BC8A\" stroke=\"#47B27F\" stroke-width=\"2.6\" stroke-linecap=\"round\" stroke-linejoin=\"round\" stroke-miterlimit=\"10\" cx=\"217.4\" cy=\"180.3\" r=\"6.9\"/><path fill=\"#56BC8A\" stroke=\"#47B27F\" stroke-width=\"2.6\" stroke-linecap=\"round\" stroke-linejoin=\"round\" stroke-miterlimit=\"10\" d=\"\n",
      "                M213.3,180.3c0-2.2,1.8-4.1,4.1-4.1\"/></g><circle fill=\"#56BC8A\" stroke=\"#47B27F\" stroke-width=\"2.6\" stroke-linecap=\"round\" stroke-linejoin=\"round\" stroke-miterlimit=\"10\" cx=\"231\" cy=\"165.4\" r=\"2.2\"/></g><g class=\"graphic-icon quote-b\"><g><g><path fill=\"#56BC8A\" stroke=\"#47B27F\" stroke-width=\"2.6\" stroke-linecap=\"round\" stroke-linejoin=\"round\" stroke-miterlimit=\"10\" d=\"\n",
      "                    M18.6,161.8c-5.8,0-9.6-4.3-9.6-10.8c0-8.1,6.8-15.5,13.2-19.6l0.6-0.4l4.2,4.2l-1.1,0.9c-2.6,1.9-5.8,4.3-7,7.3\n",
      "                    c5.3,0.5,8.7,4.2,8.7,9.6C27.6,157.9,23.6,161.8,18.6,161.8z\"/></g></g><g><g><path fill=\"#56BC8A\" stroke=\"#47B27F\" stroke-width=\"2.6\" stroke-linecap=\"round\" stroke-linejoin=\"round\" stroke-miterlimit=\"10\" d=\"\n",
      "                    M41.2,161.8c-5.8,0-9.6-4.3-9.6-10.8c0-8.1,6.8-15.5,13.2-19.6l0.6-0.4l4.2,4.2l-1.1,0.9c-2.6,1.9-5.8,4.3-7,7.3\n",
      "                    c5.3,0.5,8.7,4.2,8.7,9.6C50.3,157.9,46.3,161.8,41.2,161.8z\"/></g></g></g><g class=\"graphic-icon quote-a\"><g><g><path fill=\"#56BC8A\" stroke=\"#47B27F\" stroke-width=\"2.6\" stroke-linecap=\"round\" stroke-linejoin=\"round\" stroke-miterlimit=\"10\" d=\"\n",
      "                    M262.9,106.7c5.8,0,9.6,4.3,9.6,10.8c0,8.1-6.8,15.5-13.2,19.6l-0.6,0.4l-4.2-4.2l1.1-0.9c2.6-1.9,5.8-4.3,7-7.3\n",
      "                    c-5.3-0.5-8.7-4.2-8.7-9.6C253.8,110.6,257.8,106.7,262.9,106.7z\"/></g></g><g><g><path fill=\"#56BC8A\" stroke=\"#47B27F\" stroke-width=\"2.6\" stroke-linecap=\"round\" stroke-linejoin=\"round\" stroke-miterlimit=\"10\" d=\"\n",
      "                    M240.2,106.7c5.8,0,9.6,4.3,9.6,10.8c0,8.1-6.8,15.5-13.2,19.6l-0.6,0.4l-4.2-4.2l1.1-0.9c2.6-1.9,5.8-4.3,7-7.3\n",
      "                    c-5.3-0.5-8.7-4.2-8.7-9.6C231.1,110.6,235.1,106.7,240.2,106.7z\"/></g></g></g><g class=\"graphic-icon link-b\"><path fill=\"#56BC8A\" stroke=\"#47B27F\" stroke-width=\"2.6\" stroke-linecap=\"round\" stroke-linejoin=\"round\" stroke-miterlimit=\"10\" d=\"\n",
      "            M108,113.1c-2.6-2.8-6.2-4.4-10.2-4.4c-7.9,0-14.9,6.4-15.5,14.3l-0.6,6.6h-6.6c-7.9,0-14.9,6.4-15.5,14.3c-0.3,4,0.9,7.8,3.5,10.6\n",
      "            c2.6,2.8,6.2,4.4,10.2,4.4c7.9,0,14.9-6.4,15.5-14.3l0.6-6.6H96c7.9,0,14.9-6.4,15.5-14.3C111.8,119.7,110.6,116,108,113.1z\n",
      "             M80.4,143.9c-0.3,3.6-3.6,6.6-7.2,6.6c-1.6,0-3-0.6-4-1.7c-1-1.1-1.5-2.6-1.3-4.2c0.3-3.6,3.6-6.6,7.2-6.6h5.9L80.4,143.9z\n",
      "             M96,129.6h-5.9l0.5-5.9c0.3-3.6,3.6-6.6,7.2-6.6c1.6,0,3,0.6,4,1.7c1,1.1,1.5,2.6,1.3,4.2C102.8,126.6,99.5,129.6,96,129.6z\"/><line fill=\"#56BC8A\" stroke=\"#47B27F\" stroke-width=\"2.6\" stroke-linecap=\"round\" stroke-linejoin=\"round\" stroke-miterlimit=\"10\" x1=\"81.6\" y1=\"129.6\" x2=\"90\" y2=\"129.6\"/><line fill=\"#56BC8A\" stroke=\"#47B27F\" stroke-width=\"2.6\" stroke-linecap=\"round\" stroke-linejoin=\"round\" stroke-miterlimit=\"10\" x1=\"81.2\" y1=\"138\" x2=\"90\" y2=\"138\"/></g><g class=\"graphic-icon link-a\"><path fill=\"#56BC8A\" stroke=\"#47B27F\" stroke-width=\"2.6\" stroke-linecap=\"round\" stroke-linejoin=\"round\" stroke-miterlimit=\"10\" d=\"\n",
      "            M243.2,19.3c-2.9-3.2-7-5-11.5-5c-8.9,0-16.8,7.2-17.6,16.2l-0.7,7.5H206c-8.9,0-16.8,7.2-17.6,16.1c-0.4,4.5,1,8.8,4,12\n",
      "            c2.9,3.2,7,5,11.5,5c8.9,0,16.8-7.2,17.6-16.2l0.7-7.5h7.5c8.9,0,16.8-7.2,17.6-16.2C247.6,26.7,246.1,22.5,243.2,19.3z M212,54\n",
      "            c-0.4,4.1-4.1,7.5-8.1,7.5c-1.8,0-3.4-0.7-4.5-1.9c-1.1-1.2-1.7-2.9-1.5-4.7c0.4-4.1,4.1-7.5,8.1-7.5h6.6L212,54z M229.6,37.9H223\n",
      "            l0.6-6.6c0.4-4.1,4.1-7.5,8.1-7.5c1.8,0,3.4,0.7,4.5,1.9c1.1,1.2,1.7,2.9,1.5,4.7C237.3,34.5,233.6,37.9,229.6,37.9z\"/><line fill=\"#56BC8A\" stroke=\"#47B27F\" stroke-width=\"2.6\" stroke-linecap=\"round\" stroke-linejoin=\"round\" stroke-miterlimit=\"10\" x1=\"213.3\" y1=\"37.9\" x2=\"222.8\" y2=\"37.9\"/><line fill=\"#56BC8A\" stroke=\"#47B27F\" stroke-width=\"2.6\" stroke-linecap=\"round\" stroke-linejoin=\"round\" stroke-miterlimit=\"10\" x1=\"212.8\" y1=\"47.4\" x2=\"222.8\" y2=\"47.4\"/></g><g class=\"graphic-icon chat-c\"><g><path fill=\"#56BC8A\" stroke=\"#47B27F\" stroke-width=\"2.6\" stroke-linecap=\"round\" stroke-linejoin=\"round\" stroke-miterlimit=\"10\" d=\"\n",
      "                M89.1,172.5H97c0,0-2.2-4.8-10.4-4.5l-0.4,1.3l2.6,3.3\"/><path fill=\"#56BC8A\" stroke=\"#47B27F\" stroke-width=\"2.6\" stroke-linecap=\"round\" stroke-linejoin=\"round\" stroke-miterlimit=\"10\" d=\"\n",
      "                M97.7,183.2c0-2.7,0-5.5,0-7.8c0-4.3-4.3-7.8-9.4-7.8H65c-5.2,0-9.4,4.3-9.4,9.4v25.2c0,5.2,4.3,9.4,9.4,9.4h23.3\n",
      "                c5.2,0,9.4-3.5,9.4-7.8c0-2.3,0-5.1,0-7.8l6.5-6.4L97.7,183.2z\"/><path fill=\"#56BC8A\" stroke=\"#47B27F\" stroke-width=\"2.6\" stroke-linecap=\"round\" stroke-linejoin=\"round\" stroke-miterlimit=\"10\" d=\"\n",
      "                M89.8,183.2c0-2.7,0-5.5,0-7.8c0-4.3-4.3-7.8-9.4-7.8H57.1c-5.2,0-9.4,4.3-9.4,9.4v25.2c0,5.2,4.3,9.4,9.4,9.4h23.3\n",
      "                c5.2,0,9.4-3.5,9.4-7.8c0-2.3,0-5.1,0-7.8l6.5-6.4L89.8,183.2z\"/><line fill=\"#56BC8A\" stroke=\"#47B27F\" stroke-width=\"2.6\" stroke-linecap=\"round\" stroke-linejoin=\"round\" stroke-miterlimit=\"10\" x1=\"104.2\" y1=\"189.6\" x2=\"96.3\" y2=\"189.6\"/><path fill=\"#47B27F\" d=\"M76.6,183.4c0-1,0.6-1.5,1.6-1.5c1,0,1.6,0.5,1.6,1.5v2.3c0,0.3,0,0.6-0.1,0.9l-0.6,4.7\n",
      "                c-0.1,0.6-0.4,0.7-0.9,0.7c-0.5,0-0.8-0.2-0.9-0.7l-0.6-4.7c0-0.3-0.1-0.6-0.1-0.9V183.4z\"/><path fill=\"#47B27F\" d=\"M68.4,195.3c0,0.8-0.3,1.5-1.5,1.5c-1.1,0-1.5-0.7-1.5-1.5v-5.1c0-1.2-0.6-2-1.8-2c-1,0-2.2,0.8-2.2,2.3\n",
      "                v4.8c0,0.8-0.3,1.5-1.5,1.5c-1.1,0-1.5-0.7-1.5-1.5v-12c0-1,0.6-1.5,1.5-1.5c0.9,0,1.5,0.5,1.5,1.5v4h0c0.6-0.8,1.6-1.5,3.3-1.5\n",
      "                c1.8,0,3.7,0.9,3.7,3.8V195.3z\"/><path fill=\"#47B27F\" d=\"M73.7,195.3c0,0.8-0.3,1.5-1.5,1.5c-1.1,0-1.5-0.7-1.5-1.5v-8c0-0.8,0.3-1.5,1.5-1.5\n",
      "                c1.1,0,1.5,0.7,1.5,1.5V195.3z\"/><path fill=\"#47B27F\" d=\"M72.3,184.8c-0.8,0-1.5-0.7-1.5-1.5c0-0.8,0.7-1.5,1.5-1.5c0.8,0,1.5,0.7,1.5,1.5\n",
      "                C73.8,184.2,73.1,184.8,72.3,184.8z\"/><path fill=\"#47B27F\" d=\"M78.2,196.7c-0.9,0-1.6-0.7-1.6-1.6c0-0.9,0.7-1.6,1.6-1.6c0.9,0,1.6,0.7,1.6,1.6\n",
      "                C79.9,195.9,79.1,196.7,78.2,196.7z\"/></g><line fill=\"#56BC8A\" stroke=\"#47B27F\" stroke-width=\"2.6\" stroke-linecap=\"round\" stroke-linejoin=\"round\" stroke-miterlimit=\"10\" x1=\"89.8\" y1=\"183.2\" x2=\"97.7\" y2=\"183.2\"/><line fill=\"#56BC8A\" stroke=\"#47B27F\" stroke-width=\"2.6\" stroke-linecap=\"round\" stroke-linejoin=\"round\" stroke-miterlimit=\"10\" x1=\"90.6\" y1=\"195.9\" x2=\"97.7\" y2=\"195.9\"/></g><g class=\"graphic-icon chat-b\"><g><path fill=\"#56BC8A\" stroke=\"#47B27F\" stroke-width=\"2.6\" stroke-linecap=\"round\" stroke-linejoin=\"round\" stroke-miterlimit=\"10\" d=\"\n",
      "                M162.9,12.2h6.1c0,0-1.7-3.7-8.1-3.5l-0.3,1l2,2.5\"/><path fill=\"#56BC8A\" stroke=\"#47B27F\" stroke-width=\"2.6\" stroke-linecap=\"round\" stroke-linejoin=\"round\" stroke-miterlimit=\"10\" d=\"\n",
      "                M169.5,20.5c0-2.1,0-4.3,0-6.1c0-3.4-3.3-6.1-7.4-6.1h-18.1c-4,0-7.4,3.3-7.4,7.4v19.6c0,4,3.3,7.4,7.4,7.4h18.1\n",
      "                c4,0,7.4-2.7,7.4-6.1c0-1.8,0-4,0-6.1l5-5L169.5,20.5z\"/><path fill=\"#56BC8A\" stroke=\"#47B27F\" stroke-width=\"2.6\" stroke-linecap=\"round\" stroke-linejoin=\"round\" stroke-miterlimit=\"10\" d=\"\n",
      "                M163.4,20.5c0-2.1,0-4.3,0-6.1c0-3.4-3.3-6.1-7.4-6.1h-18.1c-4,0-7.4,3.3-7.4,7.4v19.6c0,4,3.3,7.4,7.4,7.4H156\n",
      "                c4,0,7.4-2.7,7.4-6.1c0-1.8,0-4,0-6.1l5-5L163.4,20.5z\"/><line fill=\"#56BC8A\" stroke=\"#47B27F\" stroke-width=\"2.6\" stroke-linecap=\"round\" stroke-linejoin=\"round\" stroke-miterlimit=\"10\" x1=\"174.6\" y1=\"25.5\" x2=\"168.4\" y2=\"25.5\"/><path fill=\"#47B27F\" d=\"M153.1,20.7c0-0.8,0.5-1.2,1.2-1.2c0.8,0,1.2,0.4,1.2,1.2v1.8c0,0.2,0,0.5-0.1,0.7l-0.5,3.6\n",
      "                c-0.1,0.5-0.3,0.6-0.7,0.6c-0.4,0-0.6-0.1-0.7-0.6l-0.5-3.6c0-0.2-0.1-0.5-0.1-0.7V20.7z\"/><path fill=\"#47B27F\" d=\"M146.7,30c0,0.6-0.2,1.1-1.1,1.1c-0.9,0-1.1-0.5-1.1-1.1v-4c0-0.9-0.5-1.6-1.4-1.6c-0.8,0-1.7,0.7-1.7,1.8\n",
      "                V30c0,0.6-0.2,1.1-1.1,1.1c-0.9,0-1.1-0.5-1.1-1.1v-9.3c0-0.7,0.5-1.1,1.1-1.1c0.7,0,1.1,0.4,1.1,1.1v3.1h0\n",
      "                c0.5-0.6,1.2-1.2,2.5-1.2c1.4,0,2.9,0.7,2.9,3V30z\"/><path fill=\"#47B27F\" d=\"M150.9,30c0,0.6-0.2,1.1-1.1,1.1c-0.9,0-1.1-0.5-1.1-1.1v-6.3c0-0.6,0.2-1.1,1.1-1.1\n",
      "                c0.9,0,1.1,0.5,1.1,1.1V30z\"/><circle fill=\"#47B27F\" cx=\"149.8\" cy=\"20.7\" r=\"1.2\"/><path fill=\"#47B27F\" d=\"M154.4,31c-0.7,0-1.3-0.6-1.3-1.3c0-0.7,0.6-1.3,1.3-1.3c0.7,0,1.3,0.6,1.3,1.3\n",
      "                C155.6,30.5,155.1,31,154.4,31z\"/></g><line fill=\"#56BC8A\" stroke=\"#47B27F\" stroke-width=\"2.6\" stroke-linecap=\"round\" stroke-linejoin=\"round\" stroke-miterlimit=\"10\" x1=\"163.4\" y1=\"20.5\" x2=\"169.5\" y2=\"20.5\"/><line fill=\"#56BC8A\" stroke=\"#47B27F\" stroke-width=\"2.6\" stroke-linecap=\"round\" stroke-linejoin=\"round\" stroke-miterlimit=\"10\" x1=\"164\" y1=\"30.5\" x2=\"169.5\" y2=\"30.5\"/></g><g class=\"graphic-icon chat-a\"><g><path fill=\"#56BC8A\" stroke=\"#47B27F\" stroke-width=\"2.6\" stroke-linecap=\"round\" stroke-linejoin=\"round\" stroke-miterlimit=\"10\" d=\"\n",
      "                M190.5,120.1H185c0,0,1.5-3.4,7.2-3.2l0.3,0.9l-1.8,2.3\"/><path fill=\"#56BC8A\" stroke=\"#47B27F\" stroke-width=\"2.6\" stroke-linecap=\"round\" stroke-linejoin=\"round\" stroke-miterlimit=\"10\" d=\"\n",
      "                M184.5,127.6c0-1.9,0-3.9,0-5.5c0-3,3-5.5,6.6-5.5h16.2c3.6,0,6.6,3,6.6,6.6v17.5c0,3.6-3,6.6-6.6,6.6h-16.2\n",
      "                c-3.6,0-6.6-2.5-6.6-5.5c0-1.6,0-3.6,0-5.5l-4.5-4.5L184.5,127.6z\"/><path fill=\"#56BC8A\" stroke=\"#47B27F\" stroke-width=\"2.6\" stroke-linecap=\"round\" stroke-linejoin=\"round\" stroke-miterlimit=\"10\" d=\"\n",
      "                M190,127.6c0-1.9,0-3.9,0-5.5c0-3,3-5.5,6.6-5.5h16.2c3.6,0,6.6,3,6.6,6.6v17.5c0,3.6-3,6.6-6.6,6.6h-16.2c-3.6,0-6.6-2.5-6.6-5.5\n",
      "                c0-1.6,0-3.6,0-5.5l-4.5-4.5L190,127.6z\"/><line fill=\"#56BC8A\" stroke=\"#47B27F\" stroke-width=\"2.6\" stroke-linecap=\"round\" stroke-linejoin=\"round\" stroke-miterlimit=\"10\" x1=\"180\" y1=\"132.1\" x2=\"185.5\" y2=\"132.1\"/><g><path fill=\"#47B27F\" d=\"M210.3,127.8c0-0.7,0.4-1.1,1.1-1.1c0.7,0,1.1,0.4,1.1,1.1v1.6c0,0.2,0,0.4-0.1,0.7l-0.4,3.3\n",
      "                    c-0.1,0.4-0.2,0.5-0.6,0.5c-0.4,0-0.6-0.1-0.6-0.5l-0.4-3.3c0-0.2-0.1-0.4-0.1-0.7V127.8z\"/><path fill=\"#47B27F\" d=\"M204.5,136.1c0,0.5-0.2,1-1,1c-0.8,0-1-0.5-1-1v-3.6c0-0.8-0.4-1.4-1.3-1.4c-0.7,0-1.5,0.6-1.5,1.6v3.4\n",
      "                    c0,0.5-0.2,1-1,1c-0.8,0-1-0.5-1-1v-8.4c0-0.7,0.4-1,1-1c0.6,0,1,0.3,1,1v2.8h0c0.4-0.5,1.1-1.1,2.3-1.1c1.2,0,2.6,0.6,2.6,2.7\n",
      "                    V136.1z\"/><path fill=\"#47B27F\" d=\"M208.2,136.1c0,0.5-0.2,1-1,1c-0.8,0-1-0.5-1-1v-5.6c0-0.5,0.2-1,1-1c0.8,0,1,0.5,1,1V136.1z\"/><circle fill=\"#47B27F\" cx=\"207.2\" cy=\"127.7\" r=\"1.1\"/><path fill=\"#47B27F\" d=\"M211.4,137c-0.6,0-1.1-0.5-1.1-1.1c0-0.6,0.5-1.1,1.1-1.1c0.6,0,1.1,0.5,1.1,1.1\n",
      "                    C212.5,136.5,212,137,211.4,137z\"/></g></g><line fill=\"#56BC8A\" stroke=\"#47B27F\" stroke-width=\"2.6\" stroke-linecap=\"round\" stroke-linejoin=\"round\" stroke-miterlimit=\"10\" x1=\"184.4\" y1=\"127.6\" x2=\"189.9\" y2=\"127.6\"/><line fill=\"#56BC8A\" stroke=\"#47B27F\" stroke-width=\"2.6\" stroke-linecap=\"round\" stroke-linejoin=\"round\" stroke-miterlimit=\"10\" x1=\"185\" y1=\"136.5\" x2=\"189.9\" y2=\"136.5\"/></g><g class=\"graphic-icon audio-b\"><g><path fill=\"#56BC8A\" stroke=\"#47B27F\" stroke-width=\"2.6\" stroke-linecap=\"round\" stroke-linejoin=\"round\" stroke-miterlimit=\"10\" d=\"\n",
      "                M123,78.5c-1-13-10.5-21.3-22.1-21.3c-11.5,0-21.1,8.3-22.1,21.4l4.7-0.1c1-10.3,8.4-16.4,17.3-16.4c9,0,16.4,6.1,17.3,16.4\n",
      "                L123,78.5z\"/><path fill=\"#56BC8A\" stroke=\"#47B27F\" stroke-width=\"2.6\" stroke-linecap=\"round\" stroke-linejoin=\"round\" stroke-miterlimit=\"10\" d=\"\n",
      "                M79.3,78.6h6.3v19.5h-6.3c-2.7,0-4.8-2-4.8-4.6V83.2C74.5,80.7,76.6,78.6,79.3,78.6z\"/><path fill=\"#56BC8A\" stroke=\"#47B27F\" stroke-width=\"2.6\" stroke-linecap=\"round\" stroke-linejoin=\"round\" stroke-miterlimit=\"10\" d=\"\n",
      "                M123.3,78.6h-6v19.5h6c2.5,0,4.6-2,4.6-4.6V83.2C127.9,80.7,125.8,78.6,123.3,78.6z\"/><path fill=\"#56BC8A\" stroke=\"#47B27F\" stroke-width=\"2.6\" stroke-linecap=\"round\" stroke-linejoin=\"round\" stroke-miterlimit=\"10\" d=\"\n",
      "                M127.8,82.3c-0.4-2.1-2.3-3.7-4.5-3.7h-6v3.7H127.8z\"/><path fill=\"#56BC8A\" stroke=\"#47B27F\" stroke-width=\"2.6\" stroke-linecap=\"round\" stroke-linejoin=\"round\" stroke-miterlimit=\"10\" d=\"\n",
      "                M79.3,78.6h6.2v19.5h-6.2c-2.7,0-4.8-2-4.8-4.6V83.2C74.5,80.7,76.6,78.6,79.3,78.6z\"/><path fill=\"#56BC8A\" stroke=\"#47B27F\" stroke-width=\"2.6\" stroke-linecap=\"round\" stroke-linejoin=\"round\" stroke-miterlimit=\"10\" d=\"\n",
      "                M123.3,78.6h-6v19.5h6c2.5,0,4.6-2,4.6-4.6V83.2C127.9,80.7,125.8,78.6,123.3,78.6z\"/><path fill=\"#56BC8A\" stroke=\"#47B27F\" stroke-width=\"2.6\" stroke-linecap=\"round\" stroke-linejoin=\"round\" stroke-miterlimit=\"10\" d=\"\n",
      "                M115,76.9c1.7,0,3.1,1.2,3.1,2.7v17.4c0,1.5-1.4,2.7-3.1,2.7c-1.7,0-3.1-1.2-3.1-2.7V79.6C111.9,78.1,113.3,76.9,115,76.9z\"/><path fill=\"#56BC8A\" stroke=\"#47B27F\" stroke-width=\"2.6\" stroke-linecap=\"round\" stroke-linejoin=\"round\" stroke-miterlimit=\"10\" d=\"\n",
      "                M87.6,76.9c-1.5,0-2.7,1.2-2.7,2.7v17.4c0,1.5,1.2,2.7,2.7,2.7c1.5,0,2.7-1.2,2.7-2.7V79.6C90.3,78.1,89.1,76.9,87.6,76.9z\"/></g><g><path fill=\"#56BC8A\" stroke=\"#47B27F\" stroke-width=\"2.6\" stroke-linecap=\"round\" stroke-linejoin=\"round\" stroke-miterlimit=\"10\" d=\"\n",
      "                M99.9,100.2c-0.1,0-0.2,0-0.3,0c-0.6-0.1-1.1-0.7-1.1-1.3l0-7l-1.5,0.5c-0.1,0-0.3,0.1-0.4,0.1c-0.4,0-0.7-0.2-1-0.4\n",
      "                c-0.4-0.4-0.5-0.9-0.3-1.4l4.8-12.3c0.2-0.5,0.7-0.9,1.2-0.9c0.1,0,0.2,0,0.3,0c0.6,0.1,1.1,0.7,1.1,1.3l0,7l2.4-0.8\n",
      "                c0.1,0,0.3-0.1,0.4-0.1c0.4,0,0.7,0.2,1,0.4c0.4,0.4,0.4,1,0.2,1.5l-5.7,12.6C101,99.9,100.5,100.2,99.9,100.2z\"/></g></g><g class=\"graphic-icon audio-a\"><g><path fill=\"#56BC8A\" stroke=\"#47B27F\" stroke-width=\"2.6\" stroke-linecap=\"round\" stroke-linejoin=\"round\" stroke-miterlimit=\"10\" d=\"\n",
      "                M279.7,160.9c-0.7-9.4-7.6-15.4-15.9-15.4c-8.3,0-15.2,6-15.9,15.4l3.4,0c0.7-7.4,6.1-11.8,12.5-11.8c6.5,0,11.8,4.4,12.5,11.8\n",
      "                L279.7,160.9z\"/><path fill=\"#56BC8A\" stroke=\"#47B27F\" stroke-width=\"2.6\" stroke-linecap=\"round\" stroke-linejoin=\"round\" stroke-miterlimit=\"10\" d=\"\n",
      "                M248.1,161h4.6v14.1h-4.6c-1.9,0-3.5-1.5-3.5-3.3v-7.5C244.6,162.5,246.2,161,248.1,161z\"/><path fill=\"#56BC8A\" stroke=\"#47B27F\" stroke-width=\"2.6\" stroke-linecap=\"round\" stroke-linejoin=\"round\" stroke-miterlimit=\"10\" d=\"\n",
      "                M279.9,161h-4.3v14.1h4.3c1.8,0,3.3-1.5,3.3-3.3v-7.5C283.2,162.5,281.7,161,279.9,161z\"/><path fill=\"#56BC8A\" stroke=\"#47B27F\" stroke-width=\"2.6\" stroke-linecap=\"round\" stroke-linejoin=\"round\" stroke-miterlimit=\"10\" d=\"\n",
      "                M283.1,163.7c-0.3-1.5-1.6-2.7-3.2-2.7h-4.3v2.7H283.1z\"/><path fill=\"#56BC8A\" stroke=\"#47B27F\" stroke-width=\"2.6\" stroke-linecap=\"round\" stroke-linejoin=\"round\" stroke-miterlimit=\"10\" d=\"\n",
      "                M248.1,161h4.5v14.1h-4.5c-1.9,0-3.5-1.5-3.5-3.3v-7.5C244.6,162.5,246.2,161,248.1,161z\"/><path fill=\"#56BC8A\" stroke=\"#47B27F\" stroke-width=\"2.6\" stroke-linecap=\"round\" stroke-linejoin=\"round\" stroke-miterlimit=\"10\" d=\"\n",
      "                M279.9,161h-4.3v14.1h4.3c1.8,0,3.3-1.5,3.3-3.3v-7.5C283.2,162.5,281.7,161,279.9,161z\"/><path fill=\"#56BC8A\" stroke=\"#47B27F\" stroke-width=\"2.6\" stroke-linecap=\"round\" stroke-linejoin=\"round\" stroke-miterlimit=\"10\" d=\"\n",
      "                M273.9,159.8c1.2,0,2.2,0.9,2.2,2v12.6c0,1.1-1,2-2.2,2c-1.2,0-2.2-0.9-2.2-2v-12.6C271.6,160.6,272.6,159.8,273.9,159.8z\"/><path fill=\"#56BC8A\" stroke=\"#47B27F\" stroke-width=\"2.6\" stroke-linecap=\"round\" stroke-linejoin=\"round\" stroke-miterlimit=\"10\" d=\"\n",
      "                M254.1,159.8c-1.1,0-2,0.9-2,2v12.6c0,1.1,0.9,2,2,2c1.1,0,2-0.9,2-2v-12.6C256,160.6,255.2,159.8,254.1,159.8z\"/></g><g><path fill=\"#56BC8A\" stroke=\"#47B27F\" stroke-width=\"2.6\" stroke-linecap=\"round\" stroke-linejoin=\"round\" stroke-miterlimit=\"10\" d=\"\n",
      "                M263,176.6c-0.1,0-0.1,0-0.2,0c-0.4-0.1-0.8-0.5-0.8-1l0-5l-1.1,0.4c-0.1,0-0.2,0-0.3,0c-0.3,0-0.5-0.1-0.7-0.3\n",
      "                c-0.3-0.3-0.3-0.7-0.2-1l3.5-8.9c0.1-0.4,0.5-0.6,0.9-0.6c0.1,0,0.1,0,0.2,0c0.5,0.1,0.8,0.5,0.8,1l0,5l1.7-0.6c0.1,0,0.2,0,0.3,0\n",
      "                c0.3,0,0.5,0.1,0.7,0.3c0.3,0.3,0.3,0.7,0.2,1.1l-4.1,9.1C263.7,176.4,263.4,176.6,263,176.6z\"/></g></g><path class=\"graphic-icon like-c\" fill=\"#56BC8A\" stroke=\"#47B27F\" stroke-width=\"2.6\" stroke-linecap=\"round\" stroke-linejoin=\"round\" stroke-miterlimit=\"10\" d=\"\n",
      "        M122.4,196.5c-0.3,0.2-0.7,0.2-1,0c-7-3.7-11.7-9-11.6-14.7c0.1-5.2,3.6-6.9,6.3-6.8c2.7,0.1,5,1.8,5.8,2.6h0\n",
      "        c0.8-0.8,3.1-2.5,5.8-2.6c2.7-0.1,6.2,1.6,6.3,6.8C134.1,187.5,129.4,192.8,122.4,196.5z\"/><path class=\"graphic-icon like-b\" fill=\"#56BC8A\" stroke=\"#47B27F\" stroke-width=\"2.6\" stroke-linecap=\"round\" stroke-linejoin=\"round\" stroke-miterlimit=\"10\" d=\"\n",
      "        M30.9,185.6c-0.2,0.1-0.5,0.1-0.7,0c-4.8-2.5-8-6.1-7.9-10.1c0.1-3.6,2.5-4.7,4.3-4.7c1.8,0,3.4,1.2,4,1.8h0c0.5-0.6,2.1-1.7,4-1.8\n",
      "        c1.8,0,4.2,1.1,4.3,4.7C39,179.5,35.7,183.1,30.9,185.6z\"/><path class=\"graphic-icon like-a\" fill=\"#56BC8A\" stroke=\"#47B27F\" stroke-width=\"2.6\" stroke-linecap=\"round\" stroke-linejoin=\"round\" stroke-miterlimit=\"10\" d=\"\n",
      "        M146.3,80.1c-0.4,0.2-0.8,0.2-1.1,0c-8.1-4.3-13.6-10.4-13.4-17c0.1-6,4.2-8,7.3-7.9c3.1,0.1,5.8,2,6.7,3h0c0.9-1,3.6-3,6.7-3\n",
      "        c3.1-0.1,7.2,1.9,7.3,7.9C159.9,69.7,154.5,75.8,146.3,80.1z\"/><polygon class=\"graphic-icon follow-c\" fill=\"#56BC8A\" stroke=\"#47B27F\" stroke-width=\"2.6\" stroke-linecap=\"round\" stroke-linejoin=\"round\" stroke-miterlimit=\"10\" points=\"\n",
      "        120.9,158.3 112.9,158.3 112.9,166.3 105,166.3 105,158.3 97,158.3 97,150.3 105,150.3 105,142.3 112.9,142.3 112.9,150.3\n",
      "        120.9,150.3 \"/><polygon class=\"graphic-icon follow-b\" fill=\"#56BC8A\" stroke=\"#47B27F\" stroke-width=\"2.6\" stroke-linecap=\"round\" stroke-linejoin=\"round\" stroke-miterlimit=\"10\" points=\"\n",
      "        175.1,144.9 170,144.9 170,150.1 164.8,150.1 164.8,144.9 159.6,144.9 159.6,139.8 164.8,139.8 164.8,134.6 170,134.6 170,139.8\n",
      "        175.1,139.8 \"/><polygon class=\"graphic-icon follow-a\" fill=\"#56BC8A\" stroke=\"#47B27F\" stroke-width=\"2.6\" stroke-linecap=\"round\" stroke-linejoin=\"round\" stroke-miterlimit=\"10\" points=\"\n",
      "        197.7,30.7 192.5,30.7 192.5,35.9 187.3,35.9 187.3,30.7 182.1,30.7 182.1,25.6 187.3,25.6 187.3,20.4 192.5,20.4 192.5,25.6\n",
      "        197.7,25.6 \"/><g class=\"big-t\"><path fill=\"#56BC8A\" stroke=\"#FFFFFF\" stroke-width=\"2.6\" stroke-linecap=\"round\" stroke-linejoin=\"round\" stroke-miterlimit=\"10\" d=\"\n",
      "            M170.1,171c-0.1,0.2-0.3,0.3-0.4,0.5l0,0c-1.4,1.4-4.7,2.9-8.5,3.7c-0.4,0.1-0.8,0.2-1.2,0.3c-1,0.2-2,0.3-2.9,0.4\n",
      "            c-0.7,0.1-1.5,0.1-2.2,0.1c-19.2,0.3-25.3-13.4-25.3-23.1v-26.8h-10.2v-12.7c2.2-0.8,4.2-1.8,5.9-2.9c0.1,0,0.1-0.1,0.2-0.1\n",
      "            c0.1,0,0.1-0.1,0.2-0.1c1.6-1.1,3-2.4,4.2-3.7c2.1-2.3,3.6-4.9,4.6-7.4c0,0,0,0,0,0c0.8-2,1.4-3.9,1.7-5.7v0\n",
      "            c0.2-1.2,0.4-2.3,0.5-3.3c0-0.1,0.1-0.2,0.1-0.3l0.6-0.3h9.7c1.8,0,3.2,0,3.2,0v21.9h16.4v14.7h-16.5v25.4c0.1,3.7,1.4,8.7,8.5,8.5\n",
      "            c2.4-0.1,5.5-0.7,7.1-1.5l2.5,7.2l1.3,3.9v0L170.1,171z\"/><path fill=\"#56BC8A\" stroke=\"#FFFFFF\" stroke-width=\"2.6\" stroke-linecap=\"round\" stroke-linejoin=\"round\" stroke-miterlimit=\"10\" d=\"\n",
      "            M147.3,113.5\"/></g></svg>\n",
      "<div class=\"section-content\"><h1 class=\"section-title\">Tumblr is so easy to use that it&rsquo;s hard to explain.</h1><p>We made it really, really simple for people to make a blog and put whatever they want on it. Stories, photos, GIFs, TV shows, links, quips, dumb jokes, smart jokes, Spotify tracks, mp3s, videos, fashion, art, deep stuff. Tumblr is 291 million different blogs, filled with literally whatever.</p></div></div></div><div class=\"section blogs-section\" data-section=\"blogs\" data-section-title=\"Tumblr is blogs.\"><div class=\"section-wrapper\"><div class=\"section-content\"><h1 class=\"section-title\">Tumblr is blogs.</h1><p>Turns out that when you make it easy to create interesting things, that&rsquo;s exactly what people do. All those great, random blogs your friends send you, those are Tumblr blogs. We&rsquo;ll help you find and follow blogs like that, and we&rsquo;ll help other people find and follow yours.</p></div></div></div><div class=\"section dashboard-section\" data-section=\"dashboard\" data-section-title=\"You already know how this works.\"><div class=\"section-wrapper\"><div class=\"section-content\"><div class=\"dashboard-content\"><h1 class=\"section-title\">You already know how this works.</h1><p>Once you follow a blog, all of its posts show up in your dashboard, just like you&rsquo;d expect. See something great? Reblog it to your own blog. Add commentary if you like. Make it your own. Other people will do the same to your posts. That&rsquo;s how you meet people here.</p></div></div></div></div><div class=\"section create-section\" data-section=\"create\" data-section-title=\"Seriously, put anything you want here.\"><div class=\"section-wrapper\"><div class=\"section-content\"><h1 class=\"section-title\">Seriously, put anything you want here.</h1><p>Seven post types to get you started. Your brain can do the rest. This thing is yours. Use it however you like.</p></div></div></div><div class=\"section welcome-section\" data-section=\"welcome\" data-section-title=\"Okay, it&rsquo;s not actually hard to explain.\"><div class=\"section-wrapper\"></div></div>\n",
      "</div></div><div class=\"l-header-container l-header-container--refresh l-header-container--transparent\" prima-component=\"header\"><div class=\"l-header  monochrome logged-out-header hide-logo\"><h1 class=\"logo\"><style>\n",
      "        .logo.filled .inner,\n",
      "        .logo:hover .inner {\n",
      "            opacity: 1;\n",
      "            fill: url(#rollover);\n",
      "        }\n",
      "    </style><a tabindex=\"-1\" class=\"logo-anchor\" href=\"/\" aria-label=\"Tumblr\"><svg class=\"svg-logo\" prima-component=\"svg-logo\" width=\"29px\" height=\"39px\" viewBox=\"0 0 29 39\" version=\"1.1\" xmlns=\"http://www.w3.org/2000/svg\" xmlns:xlink=\"http://www.w3.org/1999/xlink\"><pattern id=\"rollover\" width=\"1\" height=\"1\" viewBox=\"0 0 100 100\" preserveAspectRatio=\"none\"><image id=\"rollover-image\" xlink:href=\"https://secure.assets.tumblr.com/images/logo/hover-animations/1.gif?_v=8c669667c2801165fa3075a41a16059d\" width=\"100\" height=\"100\" preserveAspectRatio=\"none\" /></pattern><g id=\"main-logo\" stroke=\"none\" stroke-width=\"1\" fill=\"none\" fill-rule=\"evenodd\"><path class=\"large-shadow\" d=\"M21.9956664,26.3 L21.9956664,19.0055544 L27.9954227,19.0055542 L27.9954227,13.0048828 L27.9954227,11.0108643 L23.522766,11.0108643 L23.5540067,11.6669807 L23.7388305,15.5486452 L17.6832886,15.4792482 L17.4,24 C17.5,26.3 18.8,26.5 19.8,26.5 C20.2,26.5 21.4956664,26.4 21.9956664,26.3 Z M18.7154541,4.00225829 L17.4,2.9 L17.4,8 L22.000122,7.34490957 L22.000122,4.00225829 L18.7154541,4.00225829 Z M24.3,29.6 L24.9,31.5 C23.8,32.9 21,34 18.4,34 L18.1,34 C16.3,34 14.8,33.7 13.6,33.2 C15,35.4 17.5999998,38.0021971 21.7999998,38.0021971 C21.7999996,38.6099361 22.0022113,38.0021971 22.0999998,38.0021971 C24.6999998,38.0021971 27.4,36.1 28.6,34.7 L26.7,28.8 C26,29.2 25.1,29.5 24.3,29.6 Z\" id=\"Shape\" fill=\"#000000\"></path><path class=\"inner\" d=\"M18.5,33.6 L18.3,33.6 C11.1,33.6 9,28.2005493 9,25.0005493 L9,15 C8.58245849,15 4.99298096,15 5,15 L4.99298096,10.0285034 C4.99298096,9.92850342 5.1,9.9 5.2,9.9 C8.9,8.5 11.3,6.7 11.9,2.3 C11.8,2 12,2 12,2 L16.8,2 L17,2 L17,9.00006104 L23.012207,9.00006104 L23.012207,15 L17,15 L17,24.0839844 C17,26.1839844 17.8,27.3 19.8,27.3 C20.6,27.3 21.5,27.1 22.4,26.8 C22.5,26.8 22.6,26.8 22.6,26.9 L24.1,31.3 L24.1,31.7 C23,32.8 20.7,33.6 18.5,33.6 Z\"></path><path class=\"outer\" d=\"M26.1,32.2 L26.3,31.9 L23.9,25.1 C23.9,25 23.8,25 23.8,25 L19.2,25 C19.1,25 19,25.1 19,25 C18.9,24.8 19,24.4 19,24.1 L19,17 L25,17 L25,7 C25,7 19,7 19,7 L19,0 L8,0 C7.3,0 6.4,0.8 6.3,1.8 C5.8,5.9 4.1,7.5 0.5,8.7 L0.1,8.8 C0,8.9 0,8.9 0,9 L0,17.0000006 C0,17.1000006 0.1,17 0.1,17 L4,17 L4,24.8 C4,31.8 8.46560059,36.0067139 17.3656006,36.0067139 C22.0656006,36.0067139 25,33.7 26.1,32.2 Z M18.5,33.6 L18.3,33.6 C11.1,33.6 9,28.2005493 9,25.0005493 L9,15 C8.58245849,15 4.99298096,15 5,15 L4.99298096,10.0285034 C4.99298096,9.92850342 5.1,9.9 5.2,9.9 C8.9,8.5 11.3,6.7 11.9,2.3 C11.8,2 12,2 12,2 L16.8,2 L17,2 L17,9.00006104 L23.012207,9.00006104 L23.012207,15 L17,15 L17,24.0839844 C17,26.1839844 17.8,27.3 19.8,27.3 C20.6,27.3 21.5,27.1 22.4,26.8 C22.5,26.8 22.6,26.8 22.6,26.9 L24.1,31.3 L24.1,31.7 C23,32.8 20.7,33.6 18.5,33.6 Z\"></path><path class=\"small-shadow\" d=\"M4,19 L7,19 L7,17.0833333 C7,17 6.9,17 6.9,17 L4,17 L4,19 L4,19 Z\" opacity=\"0.5\" fill=\"#37465D\"></path></g></svg></a></h1>\n",
      "<div class=\"right\"><a class=\"signup_link login-button\" href=\"https://www.tumblr.com/login\">Log in</a><a class=\"signup_link signup-button\" href=\"https://www.tumblr.com/register\">Sign up</a></div><div class=\"ui_search \" id=\"search_field\"><form method=\"get\" action=\"/search\" id=\"search_form\" class=\"search_form is_tag_search\" role=\"search\" novalidate><input type=\"hidden\" name=\"form_key\" value=\"!1231461308135|pV5FVg0dZRVGZM9dlhuxJEANvU\"/><input type=\"hidden\" name=\"scope\" id=\"search_scope\" value=\"all_of_tumblr\"/><div class=\"search_form_row \"><div class=\"search_form_field\"><input\n",
      "                tabindex=\"1\"\n",
      "                type=\"text\"\n",
      "                name=\"q\"\n",
      "                id=\"search_query\"\n",
      "                placeholder=\"Search Tumblr\"\n",
      "                value=\"\"\n",
      "                class=\"search_query popover_button \"\n",
      "                autocomplete=\"off\"\n",
      "                required=\"required\"\n",
      "            /></div></div></form>\n",
      "</div><div id=\"popover_search\" class=\"popover popover_menu popover_gradient search_popover\" style=\"display:none;\"><div class=\"popover_inner\"><div id=\"search_results_container\" class=\"search_results_container popover_scroll\"><div class=\"scrollable_container\"><div class=\"tracked_tags tag search_results_section\"></div></div></div></div></div><script type=\"text/tmpl\" id=\"search_results_template\"><%\n",
      "        var query = results['query'],\n",
      "            type = results['type'],\n",
      "            result_titles = {\n",
      "                'tag' : 'Search',\n",
      "                'blog' : 'Blogs'            },\n",
      "            items = results['items'];\n",
      "    %><div class=\"<%= type %> search_results_section\"><h3 class=\"search_subheading\"><%= result_titles[type] %></h3><% _.each(items, function(item) { %><%\n",
      "                    var template = _.template(results['item_template']);\n",
      "                    var item_data = {}; item_data[type] = item;\n",
      "                    var item_markup = template(item_data);\n",
      "                %><%= item_markup %><% }); %></div></div></script><script type=\"text/tmpl\" id=\"search_results_item_blogs\"><%\n",
      "        var title = (blog.title && blog.title.length) ? blog.hilite_title : blog.hilite_name;\n",
      "        var result_class = '';\n",
      "\n",
      "        if(blog.avatar_url) result_class += ' has_thumb';\n",
      "        if(blog.is_followed) result_class += ' is_followed';\n",
      "    %><div class=\"popover_menu_item\"><div class=\"result <%= result_class %>\"><a class=\"result_link\" href=\"http://<%= blog.tumblr_url %>\" id=\"result_link_<%= blog.name %>\" target=\"_blank\" tabindex=\"1\" data-tumblelog-name=\"<%- blog.name %>\"><span class=\"hide_overflow\"><span class=\"result_title\"><%= title %></span><% if(blog.avatar_url) {%><span class=\"result_thumb thumb\" style=\"background-image:url(<%= blog.avatar_url %>)\"></span><% } %><% if(blog.url) { %><small class=\"result_sub_title\"><%= blog.hilite_url %></small><% } %></span></a></div></div></script><script type=\"text/tmpl\" id=\"search_results_item_tags\"><%\n",
      "        var title = '';\n",
      "        var result_class = '';\n",
      "\n",
      "        // If tag.is_query, we manufactured this tag in the client\n",
      "        // It's the current search term in the search field\n",
      "        // and that term did not return an exact match from the typeahead results\n",
      "        // so we're prepending it to the result set on the fly\n",
      "        if (tag.is_query) {\n",
      "            title = '<u>' + tag.tag + '</u>';\n",
      "        } else {\n",
      "            // Some tags don't match the substring and tag.hilite_tag doesn't get set\n",
      "            // This ifalls back to the plain escaped tag.\n",
      "            title = tag.hilite_tag || tag.escaped_tag;\n",
      "        }\n",
      "\n",
      "        if(!tag.featured && !tag.unread_count) result_class += ' no_count';\n",
      "        if(tag.thumb) result_class += ' has_thumb';\n",
      "        if(tag.is_query) result_class += ' is_query';\n",
      "        if(tag.is_featured) result_class += ' is_featured';\n",
      "\n",
      "        tag.url = tag.url.replace('/tagged/', '/search/');\n",
      "\n",
      "        // Skip results that don't have a title\n",
      "        // because they look broken\n",
      "        if (!title.length) return;\n",
      "    %><div class=\"popover_menu_item\"><div class=\"result <%= result_class %>\"><a class=\"result_link search_typeahead\" href=\"<%= tag.url %>\" id=\"result_link_<%- tag.tag.replace(' ','-').toLowerCase() %>\" tabindex=\"1\" data-tag-result=\"<%- tag.tag %>\"><span class=\"hide_overflow\"><span class=\"result_title\"><%= title %></span><% if(tag.thumb) {%><span class=\"result_thumb thumb\" style=\"background-image:url(<%= tag.thumb %>)\"></span><% } %><% if(tag.unread_count) { %><small class=\"result_type count\"><span <% if(tag.unread_count == 1) { %> style=\"display: block;\" <% } else { %> style=\"display: none\" <% } %>>1 new post</span><span <% if(tag.unread_count == 2) { %> style=\"display: block;\" <% } else { %> style=\"display: none\" <% } %>>2 new posts</span><span <% if(tag.unread_count == 3) { %> style=\"display: block;\" <% } else { %> style=\"display: none\" <% } %>>3 new posts</span><span <% if(tag.unread_count == 4) { %> style=\"display: block;\" <% } else { %> style=\"display: none\" <% } %>>4 new posts</span><span <% if(tag.unread_count == 5) { %> style=\"display: block;\" <% } else { %> style=\"display: none\" <% } %>>5 new posts</span><span <% if(tag.unread_count == 6) { %> style=\"display: block;\" <% } else { %> style=\"display: none\" <% } %>>6 new posts</span><span <% if(tag.unread_count == 7) { %> style=\"display: block;\" <% } else { %> style=\"display: none\" <% } %>>7 new posts</span><span <% if(tag.unread_count == 8) { %> style=\"display: block;\" <% } else { %> style=\"display: none\" <% } %>>8 new posts</span><span <% if(tag.unread_count == 9) { %> style=\"display: block;\" <% } else { %> style=\"display: none\" <% } %>>9 new posts</span><span <% if(tag.unread_count >= 10 || tag.unread_count == '10+' || tag.unread_count == '+10') { %> style=\"display: block;\" <% } else { %> style=\"display: none\" <% } %>>10 new posts</span></small><% } %></span></a></div></div></script>\n",
      "<script >\n",
      "    document.addEventListener('DOMContentLoaded', function () {\n",
      "        new Tumblr.SearchPopover({\n",
      "            'el': '.l-header',\n",
      "            'base_blog_search_url': '/search/',\n",
      "            'blog_search_label': 'More results for \\x22%1$s\\x22'        });\n",
      "    });\n",
      "</script>\n",
      "</div></div>\n",
      "<script  type=\"text/javascript\">\n",
      "            var _comscore = _comscore || [];\n",
      "            _comscore.push({\"c1\":\"2\",\"c2\":\"15742520\"});\n",
      "            (function(){\n",
      "                var s = document.createElement(\"script\");\n",
      "                s.async = true;\n",
      "                var el = document.getElementsByTagName(\"script\")[0];\n",
      "                s.src = (document.location.protocol == \"https:\" ? \"https://sb\" : \"http://b\") + \".scorecardresearch.com/beacon.js\";\n",
      "                el.parentNode.insertBefore(s, el);\n",
      "            })();\n",
      "        </script><noscript><img src=\"https://sb.scorecardresearch.com/p?cv=2.0&amp;cj=1&amp;c1=2&amp;c2=15742520\" /></noscript><script type=\"text/javascript\">!function(s){s.src='https://px.srvcs.tumblr.com/impixu?T=1461308135&J=eyJ0eXBlIjoidXJsIiwidXJsIjoiaHR0cDpcL1wvd3d3LnR1bWJsci5jb21cLyIsInJlcXR5cGUiOjAsInJvdXRlIjoiXC8ifQ==&U=OKAEIHDPKC&K=252027eabe834668d3ff51268d023ce4e8b0128d2dbe423791da44de6ff2d557&R='.replace(/&R=[^&$]*/,'').concat('&R='+escape(document.referrer)).slice(0,2000).replace(/%.?.?$/,'');}(new Image());</script><noscript><img style=\"position:absolute;z-index:-3334;top:0px;left:0px;visibility:hidden;\" src=\"https://px.srvcs.tumblr.com/impixu?T=1461308135&J=eyJ0eXBlIjoidXJsIiwidXJsIjoiaHR0cDpcL1wvd3d3LnR1bWJsci5jb21cLyIsInJlcXR5cGUiOjAsInJvdXRlIjoiXC8iLCJub3NjcmlwdCI6MX0=&U=OKAEIHDPKC&K=9765c59a241340bbb5c55fb9d00cbb256947f1b600a5940eb30432a961f94056&R=\"></noscript><script crossorigin=\"anonymous\" src=\"https://secure.assets.tumblr.com/assets/scripts/vendor/yahoo/rapid/rapid-3.36.1.js?_v=403448c59e26480ab1d0480178a46c09\"></script>\n",
      "<script crossorigin=\"anonymous\" src=\"https://secure.assets.tumblr.com/assets/scripts/vendor/yahoo/rapid/rapidworker-1.2.js?_v=eb62792e48df76532d7550183b06c767\"></script>\n",
      "<script >\n",
      "            (function() {\n",
      "                var YAHOO = window.YAHOO;\n",
      "                if (YAHOO) {\n",
      "                    var keys = {\n",
      "                        pd:'/',\n",
      "                        _li:0,\n",
      "                        b_id:0,\n",
      "                        i_rad:0,\n",
      "                        i_strm:0,\n",
      "                        test_id:'OTHER,Tumblr',\n",
      "                        anon_id:''\n",
      "                    };\n",
      "                    var conf = {\n",
      "                        webworker_file:'/assets/scripts/vendor/yahoo/rapid/rapidworker-1.2.js',\n",
      "                                                spaceid:1197719222,\n",
      "                        client_only:1,\n",
      "                                                test_id:'OTHER,Tumblr',\n",
      "                        keys:keys,\n",
      "                        nol:1,\n",
      "                        fpc:true,\n",
      "                        query_parameters:true\n",
      "                    };\n",
      "                    YAHOO.rapid = new YAHOO.i13n.Rapid(conf);\n",
      "                }\n",
      "            })();\n",
      "        </script><script >\n",
      "        (function (w,d) {\n",
      "            'use strict';\n",
      "            var l = function(el, type, listener, useCapture) {\n",
      "                el.addEventListener ?\n",
      "                el.addEventListener(type, listener, !!useCapture) :\n",
      "                el.attachEvent && el.attachEvent('on' + type, listener, !!useCapture);\n",
      "            };\n",
      "            var a = function () {\n",
      "                                if (d.getElementById('tumblr-cdx')) {\n",
      "                    return;\n",
      "                }\n",
      "                var s = d.createElement('script');\n",
      "                var el = d.getElementsByTagName('script')[0];\n",
      "                s.async = true;\n",
      "                s.src = 'https://secure.assets.tumblr.com/assets/scripts/vendor/cedexis/cedexis.radar.js?_v=7450eec657e34e1e41dac4e1af96a170';\n",
      "                s.type = 'text/javascript';\n",
      "                s.id = 'tumblr-cdx';\n",
      "                d.body.appendChild(s);\n",
      "            };\n",
      "            l(w,'load',a);\n",
      "        }(window, document));\n",
      "</script><noscript id=\"bootloader\" data-bootstrap=\"{&quot;Components&quot;:{&quot;PostActivity&quot;:[],&quot;HelpForm&quot;:{&quot;language_notice&quot;:false,&quot;category_opt&quot;:{&quot;terminated&quot;:&quot;Terminated blog&quot;,&quot;login&quot;:&quot;Trouble logging in&quot;,&quot;suspiciousact&quot;:&quot;Suspicious activity on my account&quot;,&quot;dashboard&quot;:&quot;Dashboard is behaving weirdly&quot;,&quot;mobile&quot;:&quot;Mobile app is behaving weirdly&quot;,&quot;theme&quot;:&quot;Theme is acting up&quot;,&quot;featrequest&quot;:&quot;Feature request&quot;,&quot;else&quot;:&quot;Something else&quot;},&quot;lang&quot;:&quot;en&quot;,&quot;autolaunch&quot;:null,&quot;email&quot;:null,&quot;tumblelogs&quot;:null},&quot;AboutTumblr&quot;:{&quot;dashboard&quot;:{&quot;post_form&quot;:{&quot;avatar&quot;:&quot;https:\\/\\/secure.assets.tumblr.com\\/images\\/default_avatar\\/cube_closed_128.png?_v=b3f6262c706b3aaa775c2e2cd668f4c7&quot;},&quot;post_top&quot;:{&quot;username&quot;:&quot;jonny&quot;,&quot;avatar&quot;:&quot;https:\\/\\/secure.assets.tumblr.com\\/images\\/default_avatar\\/octahedron_open_128.png?_v=6188a8781e602f02cbd5190933bf0923&quot;,&quot;post_image&quot;:&quot;https:\\/\\/secure.assets.tumblr.com\\/images\\/about-tumblr\\/dash-post-01.jpg?_v=6ee7547f5d92def4232e94f075304141&quot;,&quot;notes&quot;:&quot;338 notes&quot;},&quot;post_bottom&quot;:{&quot;username&quot;:&quot;petervidani&quot;,&quot;avatar&quot;:&quot;https:\\/\\/secure.assets.tumblr.com\\/images\\/default_avatar\\/sphere_open_128.png?_v=120729313cdde5b490ef921dc87bc781&quot;,&quot;post_image&quot;:&quot;https:\\/\\/secure.assets.tumblr.com\\/images\\/about-tumblr\\/dash-post-02.jpg?_v=e597c273dddb080ab14dc7382fc97163&quot;,&quot;notes&quot;:&quot;315 notes&quot;},&quot;notification&quot;:{&quot;username&quot;:&quot;bradley&quot;,&quot;avatar&quot;:&quot;https:\\/\\/secure.assets.tumblr.com\\/images\\/default_avatar\\/cone_open_64.png?_v=fa2397811ebc2880feda174db3276e1a&quot;,&quot;preview&quot;:&quot;https:\\/\\/secure.assets.tumblr.com\\/images\\/default_avatar\\/cube_closed_64.png?_v=6c791e1c485636d64d7d6bdbd09d0184&quot;}},&quot;welcome&quot;:{&quot;post&quot;:{&quot;post_image&quot;:&quot;https:\\/\\/41.media.tumblr.com\\/687f8b0a3260d4e1d2df4ec0991031cb\\/tumblr_o5nzlfLwEw1qkgmfvo1_1280.jpg&quot;,&quot;tumblelog_name&quot;:&quot;thepaperbeast&quot;,&quot;tumblelog_url&quot;:&quot;http:\\/\\/thepaperbeast.tumblr.com\\/&quot;,&quot;avatar&quot;:&quot;https:\\/\\/38.media.tumblr.com\\/avatar_0221a9005ec3_48.png&quot;}}}},&quot;Flags&quot;:{&quot;doods&quot;:&quot;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&quot;},&quot;Context&quot;:{&quot;name&quot;:&quot;loginandregister&quot;,&quot;time&quot;:1461308135000,&quot;userinfo&quot;:{&quot;primary&quot;:&quot;&quot;,&quot;name&quot;:&quot;&quot;,&quot;channels&quot;:[]},&quot;hosts&quot;:{&quot;assets_host&quot;:&quot;https:\\/\\/secure.assets.tumblr.com&quot;,&quot;secure_assets_host&quot;:&quot;https:\\/\\/secure.assets.tumblr.com&quot;,&quot;www_host&quot;:&quot;https:\\/\\/www.tumblr.com&quot;,&quot;secure_www_host&quot;:&quot;https:\\/\\/www.tumblr.com&quot;,&quot;embed_host&quot;:&quot;https:\\/\\/embed.tumblr.com&quot;,&quot;safe_host&quot;:&quot;https:\\/\\/safe.txmblr.com&quot;,&quot;platform_host&quot;:&quot;https:\\/\\/platform.tumblr.com&quot;},&quot;language&quot;:&quot;en_US&quot;,&quot;language_simple&quot;:&quot;en&quot;},&quot;Translations&quot;:{&quot;Private Url&quot;:&quot;Private URL&quot;}}\"></noscript>\n",
      "<script crossorigin=\"anonymous\" src=\"https://secure.assets.tumblr.com/client/prod/app/vendor.build.js?_v=afb584b2c8ff3f26dad261ad8265d84c\"></script>\n",
      "<script crossorigin=\"anonymous\" src=\"https://secure.assets.tumblr.com/client/prod/app/global.build.js?_v=c3e6aad6fb578dc2ec0370362857850b\"></script>\n",
      "<script crossorigin=\"anonymous\" src=\"https://secure.assets.tumblr.com/client/prod/app/context/loginandregister/index.build.js?_v=4581d5d762458b69b86bcb883366a444\"></script>\n",
      "<script crossorigin=\"anonymous\" src=\"https://secure.assets.tumblr.com/assets/scripts/dashboard.js?_v=5b91513b56a987ffbeb91b96ccc664b2\"></script>\n",
      "<script crossorigin=\"anonymous\" src=\"https://secure.assets.tumblr.com/assets/scripts/tumblr/utils/popover.js?_v=f615fde7a23fb27f58688f11cc8d2931\"></script>\n",
      "\n",
      "<script crossorigin=\"anonymous\" src=\"https://secure.assets.tumblr.com/assets/scripts/registration/registration.js?_v=9a6c5a10d4601cf421ea453e1e3bd326\"></script>\n",
      "\n",
      "<script >\n",
      "            document.addEventListener('DOMContentLoaded', function() {\n",
      "                if (Tumblr.RegistrationForm) {\n",
      "                    \n",
      "                    Tumblr.RegistrationForm.initialize({\n",
      "                        'clp_url' : 'https://www.tumblr.com/clp'                    });\n",
      "                }\n",
      "            });\n",
      "        </script></body></html>\n"
     ]
    }
   ],
   "source": [
    "# try to use requests.get on another site and see the result\n",
    "import requests\n",
    "\n",
    "url = 'https://tumblr.com'\n",
    "r = requests.get(url)\n",
    "\n",
    "print(r.content.decode('utf8'))"
   ]
  }
 ],
 "metadata": {
  "kernelspec": {
   "display_name": "Python 3",
   "language": "python",
   "name": "python3"
  },
  "language_info": {
   "codemirror_mode": {
    "name": "ipython",
    "version": 3
   },
   "file_extension": ".py",
   "mimetype": "text/x-python",
   "name": "python",
   "nbconvert_exporter": "python",
   "pygments_lexer": "ipython3",
   "version": "3.5.1"
  }
 },
 "nbformat": 4,
 "nbformat_minor": 0
}
