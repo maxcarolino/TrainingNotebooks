{
 "cells": [
  {
   "cell_type": "markdown",
   "metadata": {},
   "source": [
    "# 13.1 Python's Import System\n",
    "\n",
    "Python has an import module that allows you to access code that is external, relative to your script. There are various ways of importing but the most common way is via the __`import`__ statement. Python's import system can get deep and it's more than what we need but [the documentation](https://docs.python.org/3.5/reference/import.html) is a good source if you want to learn more.\n",
    "\n",
    "Now is a good time to make a distinction between packages and modules. To quote the documentation and reference:\n",
    "\n",
    "> You can think of packages as the directories on a file system and modules as files within directories, but don’t take this analogy too literally since packages and modules need not originate from the file system. For the purposes of this documentation, we’ll use this convenient analogy of directories and files. Like file system directories, packages are organized hierarchically, and packages may themselves contain subpackages, as well as regular modules.\n",
    "\n",
    "\n",
    "#### Pakcage\n",
    "\n",
    "> Python module which can contain submodules or recursively, subpackages. Technically, a package is a Python module with a `__path__` attribute.\n",
    "\n",
    "#### Module\n",
    "\n",
    "> An object that serves as an organizational unit of Python code. Modules have a namespace containing arbitrary Python objects. Modules are loaded into Python by the process of importing."
   ]
  },
  {
   "cell_type": "markdown",
   "metadata": {},
   "source": [
    "## 13.1.1 Modules\n",
    "\n",
    "While Python has many built-in modules, there are more 3rd party modules that you can use. You'll need to install or download them in order to use them.\n",
    "\n",
    "To import a module, just type `import module_name`.\n",
    "\n",
    "### 13.1.1.1 [os.path](https://docs.python.org/3.5/library/os.path.html#module-os.path)\n",
    "\n",
    "You'll be using [`os.path`](https://docs.python.org/3.5/library/os.path.html#module-os.path) a lot when referring to your files since hardcoded paths will prevent your code from being portable."
   ]
  },
  {
   "cell_type": "code",
   "execution_count": null,
   "metadata": {
    "collapsed": false
   },
   "outputs": [],
   "source": [
    "import os\n",
    "# help(os)"
   ]
  },
  {
   "cell_type": "code",
   "execution_count": null,
   "metadata": {
    "collapsed": false
   },
   "outputs": [],
   "source": [
    "os.path.abspath(__name__)"
   ]
  },
  {
   "cell_type": "code",
   "execution_count": null,
   "metadata": {
    "collapsed": false
   },
   "outputs": [],
   "source": [
    "os.path.dirname(os.path.abspath(__name__))"
   ]
  },
  {
   "cell_type": "markdown",
   "metadata": {},
   "source": [
    "#### [`__name__`](https://docs.python.org/3.5/tutorial/modules.html#modules)\n",
    "\n",
    "> Within a module, the module’s name (as a string) is available as the value of the global variable `__name__`.\n",
    "\n",
    "`__name__`, and all other variables surrounded by double underlines, are special variables defined by Python.\n",
    "\n",
    "In our example, we imported `os` and used `os.path`. We can specifically import `path` without importing the whole of `os` by prefixing our import statement with `from`."
   ]
  },
  {
   "cell_type": "code",
   "execution_count": null,
   "metadata": {
    "collapsed": false
   },
   "outputs": [],
   "source": [
    "from os import path\n",
    "path.abspath(__name__)"
   ]
  },
  {
   "cell_type": "code",
   "execution_count": null,
   "metadata": {
    "collapsed": false
   },
   "outputs": [],
   "source": [
    "path.dirname(path.abspath(__name__))"
   ]
  },
  {
   "cell_type": "markdown",
   "metadata": {},
   "source": [
    "We can also import abspath and dirname directly from path."
   ]
  },
  {
   "cell_type": "code",
   "execution_count": null,
   "metadata": {
    "collapsed": false
   },
   "outputs": [],
   "source": [
    "from os.path import abspath, dirname\n",
    "abspath(__name__)"
   ]
  },
  {
   "cell_type": "code",
   "execution_count": null,
   "metadata": {
    "collapsed": false
   },
   "outputs": [],
   "source": [
    "dirname(abspath(__name__))"
   ]
  },
  {
   "cell_type": "markdown",
   "metadata": {},
   "source": [
    "`import` works with built-in and pip installed packages, modules as well as variables, functions and classes."
   ]
  },
  {
   "cell_type": "markdown",
   "metadata": {},
   "source": [
    "### 13.1.1.2 [os.environ](https://docs.python.org/3.5/library/os.html#os.environ)\n",
    "\n",
    "There may be times when you want to set or retrieve environment variables for use in your application. These may be values you don't want to hardcode in your script for security or other purposes. `os.environ` lets us work with environment variables."
   ]
  },
  {
   "cell_type": "code",
   "execution_count": null,
   "metadata": {
    "collapsed": false
   },
   "outputs": [],
   "source": [
    "from os import environ\n",
    "environ  # let's see our environemnt variables"
   ]
  },
  {
   "cell_type": "code",
   "execution_count": null,
   "metadata": {
    "collapsed": false
   },
   "outputs": [],
   "source": [
    "environ[\"NOTEBOOK_DIRECTORY\"]"
   ]
  },
  {
   "cell_type": "markdown",
   "metadata": {},
   "source": [
    "Let's try adding and deleting values to our environment variables."
   ]
  },
  {
   "cell_type": "code",
   "execution_count": null,
   "metadata": {
    "collapsed": false
   },
   "outputs": [],
   "source": [
    "environ.setdefault(\"NOTEBOOK_DIRECTORY\", os.path.dirname(os.path.abspath(__name__)))  # let's set a value"
   ]
  },
  {
   "cell_type": "code",
   "execution_count": null,
   "metadata": {
    "collapsed": false
   },
   "outputs": [],
   "source": [
    "environ.pop(\"NOTEBOOK_DIRECTORY\")"
   ]
  },
  {
   "cell_type": "markdown",
   "metadata": {},
   "source": [
    "`os.environ` returns a [mapping type](https://docs.python.org/3.5/glossary.html#term-mapping) object that works similar to a dictionary. Let's see if manipulating it like a dictionary works."
   ]
  },
  {
   "cell_type": "code",
   "execution_count": null,
   "metadata": {
    "collapsed": false
   },
   "outputs": [],
   "source": [
    "environ[\"NOTEBOOK\"] = os.path.dirname(os.path.abspath(__name__))"
   ]
  },
  {
   "cell_type": "code",
   "execution_count": null,
   "metadata": {
    "collapsed": true
   },
   "outputs": [],
   "source": [
    "del environ[\"NOTEBOOK\"]"
   ]
  },
  {
   "cell_type": "markdown",
   "metadata": {},
   "source": [
    "## 13.1.2 Local Packages\n",
    "\n",
    "Import also works with local packages but there's one requirement - the [`__init__.py`](https://docs.python.org/3.5/tutorial/modules.html#packages) file.\n",
    "\n",
    "> The `__init__.py` files are required to make Python treat the directories as containing packages; this is done to prevent directories with a common name, such as string, from unintentionally hiding valid modules that occur later on the module search path. In the simplest case, `__init__.py` can just be an empty file, but it can also execute initialization code for the package or...\n",
    "\n",
    "And to use this in code, the \"**dotted name**\" is used.\n",
    "\n",
    "![Folder image](./Images/folder.png)"
   ]
  },
  {
   "cell_type": "markdown",
   "metadata": {},
   "source": [
    "## 13.1.3 [Aliasing](https://www.python.org/dev/peps/pep-0221/)\n",
    "\n",
    "Aside from allowing us to use external code from modules, `import` also binds the module to a name in the local scope. Modules have the possibility of having the same name so is it possible to import modules with the same name?\n",
    "\n",
    "Modules can't share the same name in the local scope but they can be bound to an alias. For example, if we needed to import `path` from `os` (`os.path`) and `sys` (`sys.path`), Python lets us assign imports to an alias using the `as` keyword.\n",
    "\n",
    "```\n",
    "import numpy as np\n",
    "```\n",
    "\n",
    "The `as` keyword can be used in with any single import. It does not work on `import *`."
   ]
  },
  {
   "cell_type": "markdown",
   "metadata": {},
   "source": [
    "## 13.1.4 [Multiple Imports](https://www.python.org/dev/peps/pep-0328/)\n",
    "\n",
    "If you had to import multiple times from a single module, that can also be done in one line with the syntax:"
   ]
  },
  {
   "cell_type": "code",
   "execution_count": null,
   "metadata": {
    "collapsed": true
   },
   "outputs": [],
   "source": [
    "from os import environ, path"
   ]
  },
  {
   "cell_type": "markdown",
   "metadata": {},
   "source": [
    "Lines can be broken in Python by putting a backslash `\\ ` at the end of a line and the code can continue on the next line with indentation:"
   ]
  },
  {
   "cell_type": "code",
   "execution_count": null,
   "metadata": {
    "collapsed": true
   },
   "outputs": [],
   "source": [
    "from os import environ, kill, path, urandom, wait, \\\n",
    "     walk, ..."
   ]
  },
  {
   "cell_type": "markdown",
   "metadata": {},
   "source": [
    "The same can be achieved by enclosing them in a parenthesis, the standard grouping mechanism in Python. This is the recommended way to import when it reaches multiple lines:"
   ]
  },
  {
   "cell_type": "code",
   "execution_count": null,
   "metadata": {
    "collapsed": true
   },
   "outputs": [],
   "source": [
    "from os import (environ, kill, path, urandom, wait,\n",
    "     walk, ...)"
   ]
  },
  {
   "cell_type": "code",
   "execution_count": null,
   "metadata": {
    "collapsed": false
   },
   "outputs": [],
   "source": [
    "import folder\n",
    "# folder.module.function\n",
    "# folder.module.Class"
   ]
  },
  {
   "cell_type": "code",
   "execution_count": null,
   "metadata": {
    "collapsed": false
   },
   "outputs": [],
   "source": [
    "from folder import module\n",
    "# module.function\n",
    "# module.Class"
   ]
  },
  {
   "cell_type": "code",
   "execution_count": null,
   "metadata": {
    "collapsed": true
   },
   "outputs": [],
   "source": [
    "from folder.module import function"
   ]
  },
  {
   "cell_type": "code",
   "execution_count": null,
   "metadata": {
    "collapsed": false
   },
   "outputs": [],
   "source": [
    "from folder.module import Class"
   ]
  },
  {
   "cell_type": "markdown",
   "metadata": {},
   "source": [
    "# 13.2 Common Modules\n",
    "\n",
    "Let's try more Python modules to give you a better idea about what you can do. We'll look at random and datetime. Then we'll look at modules related to the web, json and requests, with the latter being a 3rd party module used for http requests."
   ]
  },
  {
   "cell_type": "markdown",
   "metadata": {},
   "source": [
    "## 13.2.1 `datetime`\n",
    "\n",
    "[datetime.datetime](https://docs.python.org/3.5/library/datetime.html)\n",
    "\n",
    "Attributes: year, month, day, hour, minute, second, microsecond, and tzinfo."
   ]
  },
  {
   "cell_type": "code",
   "execution_count": null,
   "metadata": {
    "collapsed": true
   },
   "outputs": [],
   "source": [
    "from datetime import datetime\n",
    "now = datetime.now()"
   ]
  },
  {
   "cell_type": "code",
   "execution_count": null,
   "metadata": {
    "collapsed": false
   },
   "outputs": [],
   "source": [
    "# try some of now's attributes, better yet, use introspection and explore\n",
    "now"
   ]
  },
  {
   "cell_type": "markdown",
   "metadata": {},
   "source": [
    "## 13.2.2 `random`\n",
    "\n",
    "[random.randrange()](https://docs.python.org/3.5/library/random.html#random.randrange)\n",
    "\n",
    "[random.choice()](https://docs.python.org/3.5/library/random.html#random.choice)\n",
    "    \n",
    "[random.random()](https://docs.python.org/3.5/library/random.html#random.random)"
   ]
  },
  {
   "cell_type": "code",
   "execution_count": null,
   "metadata": {
    "collapsed": true
   },
   "outputs": [],
   "source": [
    "import random"
   ]
  },
  {
   "cell_type": "code",
   "execution_count": null,
   "metadata": {
    "collapsed": false
   },
   "outputs": [],
   "source": [
    "# try some of the methods above\n",
    "# feel free to explore while reading the documentation\n",
    "random"
   ]
  },
  {
   "cell_type": "markdown",
   "metadata": {},
   "source": [
    "## 13.2.3 `json`\n",
    "\n",
    "[json.dumps](https://docs.python.org/3.5/library/json.html#json.dumps)\n",
    "\n",
    "[json.loads](https://docs.python.org/3.5/library/json.html#json.dumps)"
   ]
  },
  {
   "cell_type": "code",
   "execution_count": null,
   "metadata": {
    "collapsed": true
   },
   "outputs": [],
   "source": [
    "import json\n",
    "dictionary = {\n",
    "    'key1': 'value1',\n",
    "    'key2': 'value2',\n",
    "    'key3': 'value3',\n",
    "    'key4': 'value4',\n",
    "    'key5': 'value5',\n",
    "    'key6': 'value6',\n",
    "}"
   ]
  },
  {
   "cell_type": "code",
   "execution_count": null,
   "metadata": {
    "collapsed": false
   },
   "outputs": [],
   "source": [
    "# you can dump a dictionary to json.dumps and it's converted into a json string\n",
    "data = json.dumps(dictionary)"
   ]
  },
  {
   "cell_type": "code",
   "execution_count": null,
   "metadata": {
    "collapsed": false
   },
   "outputs": [],
   "source": [
    "# it's a valid json string\n",
    "data"
   ]
  },
  {
   "cell_type": "code",
   "execution_count": null,
   "metadata": {
    "collapsed": false
   },
   "outputs": [],
   "source": [
    "# you can load json strings into json.loads and it's converted into a dictionary\n",
    "json.loads(data)"
   ]
  },
  {
   "cell_type": "markdown",
   "metadata": {},
   "source": [
    "## 13.2.4 [`requests`](http://docs.python-requests.org/en/latest/user/quickstart/)\n",
    "\n",
    "requests.get"
   ]
  },
  {
   "cell_type": "code",
   "execution_count": null,
   "metadata": {
    "collapsed": false
   },
   "outputs": [],
   "source": [
    "# let's make sure you have the module\n",
    "! pip install requests"
   ]
  },
  {
   "cell_type": "code",
   "execution_count": null,
   "metadata": {
    "collapsed": true
   },
   "outputs": [],
   "source": [
    "import requests"
   ]
  },
  {
   "cell_type": "code",
   "execution_count": null,
   "metadata": {
    "collapsed": false
   },
   "outputs": [],
   "source": [
    "request = requests.get('http://127.0.0.1:8888') or requests.get('http://127.0.0.1:8889')  # your local jupyter server"
   ]
  },
  {
   "cell_type": "code",
   "execution_count": null,
   "metadata": {
    "collapsed": false
   },
   "outputs": [],
   "source": [
    "request.url"
   ]
  },
  {
   "cell_type": "code",
   "execution_count": null,
   "metadata": {
    "collapsed": false
   },
   "outputs": [],
   "source": [
    "request.status_code"
   ]
  },
  {
   "cell_type": "code",
   "execution_count": null,
   "metadata": {
    "collapsed": false
   },
   "outputs": [],
   "source": [
    "print(request.content.decode('utf8'))"
   ]
  },
  {
   "cell_type": "code",
   "execution_count": null,
   "metadata": {
    "collapsed": false
   },
   "outputs": [],
   "source": [
    "# try to use requests.get on another site and see the result\n",
    "import requests\n",
    "\n",
    "url = 'https://tumblr.com'\n",
    "r = requests.get(url)\n",
    "\n",
    "print(r.content.decode('utf8'))"
   ]
  }
 ],
 "metadata": {
  "kernelspec": {
   "display_name": "Python 3",
   "language": "python",
   "name": "python3"
  },
  "language_info": {
   "codemirror_mode": {
    "name": "ipython",
    "version": 3
   },
   "file_extension": ".py",
   "mimetype": "text/x-python",
   "name": "python",
   "nbconvert_exporter": "python",
   "pygments_lexer": "ipython3",
   "version": "3.5.1"
  }
 },
 "nbformat": 4,
 "nbformat_minor": 0
}
